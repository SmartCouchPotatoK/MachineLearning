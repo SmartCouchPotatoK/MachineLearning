{
 "cells": [
  {
   "cell_type": "code",
   "execution_count": 2,
   "metadata": {},
   "outputs": [
    {
     "name": "stderr",
     "output_type": "stream",
     "text": [
      "C:\\Users\\weezs\\Anaconda3\\envs\\minjoo\\lib\\importlib\\_bootstrap.py:219: RuntimeWarning: numpy.ufunc size changed, may indicate binary incompatibility. Expected 192 from C header, got 216 from PyObject\n",
      "  return f(*args, **kwds)\n",
      "C:\\Users\\weezs\\Anaconda3\\envs\\minjoo\\lib\\importlib\\_bootstrap.py:219: RuntimeWarning: numpy.ufunc size changed, may indicate binary incompatibility. Expected 192 from C header, got 216 from PyObject\n",
      "  return f(*args, **kwds)\n",
      "C:\\Users\\weezs\\Anaconda3\\envs\\minjoo\\lib\\importlib\\_bootstrap.py:219: RuntimeWarning: numpy.ufunc size changed, may indicate binary incompatibility. Expected 192 from C header, got 216 from PyObject\n",
      "  return f(*args, **kwds)\n"
     ]
    }
   ],
   "source": [
    "import pandas as pd\n",
    "from sklearn.decomposition import PCA"
   ]
  },
  {
   "cell_type": "code",
   "execution_count": 4,
   "metadata": {},
   "outputs": [
    {
     "data": {
      "text/html": [
       "<div>\n",
       "<style scoped>\n",
       "    .dataframe tbody tr th:only-of-type {\n",
       "        vertical-align: middle;\n",
       "    }\n",
       "\n",
       "    .dataframe tbody tr th {\n",
       "        vertical-align: top;\n",
       "    }\n",
       "\n",
       "    .dataframe thead th {\n",
       "        text-align: right;\n",
       "    }\n",
       "</style>\n",
       "<table border=\"1\" class=\"dataframe\">\n",
       "  <thead>\n",
       "    <tr style=\"text-align: right;\">\n",
       "      <th></th>\n",
       "      <th>sepallength</th>\n",
       "      <th>sepalwidth</th>\n",
       "      <th>petallength</th>\n",
       "      <th>petalwidth</th>\n",
       "      <th>class</th>\n",
       "    </tr>\n",
       "  </thead>\n",
       "  <tbody>\n",
       "    <tr>\n",
       "      <td>0</td>\n",
       "      <td>5.1</td>\n",
       "      <td>3.5</td>\n",
       "      <td>1.4</td>\n",
       "      <td>0.2</td>\n",
       "      <td>Iris-setosa</td>\n",
       "    </tr>\n",
       "    <tr>\n",
       "      <td>1</td>\n",
       "      <td>4.9</td>\n",
       "      <td>3.0</td>\n",
       "      <td>1.4</td>\n",
       "      <td>0.2</td>\n",
       "      <td>Iris-setosa</td>\n",
       "    </tr>\n",
       "    <tr>\n",
       "      <td>2</td>\n",
       "      <td>4.7</td>\n",
       "      <td>3.2</td>\n",
       "      <td>1.3</td>\n",
       "      <td>0.2</td>\n",
       "      <td>Iris-setosa</td>\n",
       "    </tr>\n",
       "    <tr>\n",
       "      <td>3</td>\n",
       "      <td>4.6</td>\n",
       "      <td>3.1</td>\n",
       "      <td>1.5</td>\n",
       "      <td>0.2</td>\n",
       "      <td>Iris-setosa</td>\n",
       "    </tr>\n",
       "    <tr>\n",
       "      <td>4</td>\n",
       "      <td>5.0</td>\n",
       "      <td>3.6</td>\n",
       "      <td>1.4</td>\n",
       "      <td>0.2</td>\n",
       "      <td>Iris-setosa</td>\n",
       "    </tr>\n",
       "  </tbody>\n",
       "</table>\n",
       "</div>"
      ],
      "text/plain": [
       "   sepallength  sepalwidth  petallength  petalwidth        class\n",
       "0          5.1         3.5          1.4         0.2  Iris-setosa\n",
       "1          4.9         3.0          1.4         0.2  Iris-setosa\n",
       "2          4.7         3.2          1.3         0.2  Iris-setosa\n",
       "3          4.6         3.1          1.5         0.2  Iris-setosa\n",
       "4          5.0         3.6          1.4         0.2  Iris-setosa"
      ]
     },
     "execution_count": 4,
     "metadata": {},
     "output_type": "execute_result"
    }
   ],
   "source": [
    "df = pd.read_csv('data/iris.csv')\n",
    "df[:5]"
   ]
  },
  {
   "cell_type": "code",
   "execution_count": 5,
   "metadata": {},
   "outputs": [
    {
     "name": "stdout",
     "output_type": "stream",
     "text": [
      "[[5.1 3.5 1.4 0.2]\n",
      " [4.9 3.0 1.4 0.2]\n",
      " [4.7 3.2 1.3 0.2]\n",
      " [4.6 3.1 1.5 0.2]\n",
      " [5.0 3.6 1.4 0.2]]\n"
     ]
    }
   ],
   "source": [
    "X = df.values[:,:-1]\n",
    "print(X[:5])"
   ]
  },
  {
   "cell_type": "code",
   "execution_count": 6,
   "metadata": {},
   "outputs": [],
   "source": [
    "X_reduced = PCA(3).fit_transform(X)"
   ]
  },
  {
   "cell_type": "code",
   "execution_count": 7,
   "metadata": {},
   "outputs": [
    {
     "name": "stdout",
     "output_type": "stream",
     "text": [
      "[[-2.68420713  0.32660731 -0.02151184]\n",
      " [-2.71539062 -0.16955685 -0.20352143]\n",
      " [-2.88981954 -0.13734561  0.02470924]\n",
      " [-2.7464372  -0.31112432  0.03767198]\n",
      " [-2.72859298  0.33392456  0.0962297 ]]\n"
     ]
    }
   ],
   "source": [
    "print(X_reduced[:5])\n",
    "# 4-dims -> 3-dims"
   ]
  },
  {
   "cell_type": "markdown",
   "metadata": {},
   "source": [
    "Normalization"
   ]
  },
  {
   "cell_type": "code",
   "execution_count": 8,
   "metadata": {},
   "outputs": [],
   "source": [
    "import pandas as pd\n",
    "from sklearn.preprocessing import MinMaxScaler"
   ]
  },
  {
   "cell_type": "code",
   "execution_count": 9,
   "metadata": {},
   "outputs": [],
   "source": [
    "df = pd.read_csv('data/glass.csv')\n",
    "X = df.values[:,:-1]\n",
    "y = df.values[:,-1]\n",
    "\n",
    "normalizer = MinMaxScaler()\n",
    "X_norm = normalizer.fit_transform(X)"
   ]
  },
  {
   "cell_type": "code",
   "execution_count": 10,
   "metadata": {},
   "outputs": [
    {
     "data": {
      "text/plain": [
       "array([[0.2976295 , 0.30977444, 0.77951002, 0.25856698, 0.575     ,\n",
       "        0.10305958, 0.31040892, 0.        , 0.        ],\n",
       "       [0.23178227, 0.21503759, 0.78396437, 0.33021807, 0.55      ,\n",
       "        0.09178744, 0.28810409, 0.        , 0.        ],\n",
       "       [0.2976295 , 0.37293233, 0.77505568, 0.34890966, 0.50535714,\n",
       "        0.09500805, 0.27881041, 0.        , 0.        ],\n",
       "       [0.08077261, 0.5518797 , 0.38752784, 0.3894081 , 0.84642857,\n",
       "        0.        , 0.20074349, 0.        , 0.        ],\n",
       "       [1.        , 0.23609023, 0.        , 0.2211838 , 0.0625    ,\n",
       "        0.01932367, 1.        , 0.        , 0.47058824],\n",
       "       [0.23705004, 0.3037594 , 0.63474388, 0.35825545, 0.61785714,\n",
       "        0.09178744, 0.31226766, 0.03492063, 0.43137255],\n",
       "       [0.29148376, 0.43759398, 0.81291759, 0.11214953, 0.56964286,\n",
       "        0.00966184, 0.32527881, 0.        , 0.        ],\n",
       "       [0.31694469, 0.36240602, 0.6325167 , 0.30841121, 0.54285714,\n",
       "        0.08856683, 0.33828996, 0.        , 0.        ],\n",
       "       [0.18876207, 0.51278195, 0.        , 0.74454829, 0.63928571,\n",
       "        0.01288245, 0.33828996, 0.19365079, 0.09803922],\n",
       "       [0.29587357, 0.36992481, 0.86859688, 0.31464174, 0.45      ,\n",
       "        0.08856683, 0.27973978, 0.        , 0.54901961]])"
      ]
     },
     "execution_count": 10,
     "metadata": {},
     "output_type": "execute_result"
    }
   ],
   "source": [
    "X_norm[:10]"
   ]
  },
  {
   "cell_type": "code",
   "execution_count": 11,
   "metadata": {},
   "outputs": [
    {
     "name": "stdout",
     "output_type": "stream",
     "text": [
      "[4389.81562774   15.03759398   22.27171492   31.15264798   17.85714286\n",
      "   16.10305958    9.2936803    31.74603175  196.07843137]\n",
      "[ 1.51115 10.73     0.       0.29    69.81     0.       5.43     0.\n",
      "  0.     ]\n",
      "[ 1.53393 17.38     4.49     3.5     75.41     6.21    16.19     3.15\n",
      "  0.51   ]\n",
      "[ 0.02278  6.65     4.49     3.21     5.6      6.21    10.76     3.15\n",
      "  0.51   ]\n"
     ]
    }
   ],
   "source": [
    "normalizer = MinMaxScaler(feature_range=(0,100))\n",
    "X_norm = normalizer.fit_transform(X)\n",
    "\n",
    "print(normalizer.scale_)\n",
    "print(normalizer.data_min_)\n",
    "print(normalizer.data_max_)\n",
    "print(normalizer.data_range_)"
   ]
  },
  {
   "cell_type": "code",
   "execution_count": 12,
   "metadata": {},
   "outputs": [],
   "source": [
    "import pandas as pd\n",
    "from sklearn.preprocessing import StandardScaler"
   ]
  },
  {
   "cell_type": "code",
   "execution_count": 13,
   "metadata": {},
   "outputs": [
    {
     "data": {
      "text/plain": [
       "array([[-1.43714541e-01, -7.58384063e-01,  5.66676959e-01,\n",
       "        -6.52289486e-01,  4.90550986e-01,  2.19688551e-01,\n",
       "        -1.31680092e-01, -3.52876828e-01, -5.86450902e-01],\n",
       "       [-6.38803268e-01, -1.53168114e+00,  5.80575173e-01,\n",
       "        -1.90536451e-01,  3.09376090e-01,  1.12106515e-01,\n",
       "        -3.00715072e-01, -3.52876828e-01, -5.86450902e-01],\n",
       "       [-1.43714541e-01, -2.42852679e-01,  5.52778744e-01,\n",
       "        -7.00791379e-02, -1.41505092e-02,  1.42844239e-01,\n",
       "        -3.71146313e-01, -3.52876828e-01, -5.86450902e-01],\n",
       "       [-1.77420675e+00,  1.21781957e+00, -6.56365903e-01,\n",
       "         1.90911708e-01,  2.45759271e+00, -7.63918639e-01,\n",
       "        -9.62768741e-01, -3.52876828e-01, -5.86450902e-01],\n",
       "       [ 5.13723188e+00, -1.35983734e+00, -1.86551055e+00,\n",
       "        -8.93204112e-01, -3.22353438e+00, -5.79492291e-01,\n",
       "         5.09431802e+00, -3.52876828e-01,  1.88241125e+00],\n",
       "       [-5.99196170e-01, -8.07482290e-01,  1.14984993e-01,\n",
       "        -9.85048123e-03,  8.01136522e-01,  1.12106515e-01,\n",
       "        -1.17593844e-01, -1.31127748e-01,  1.67667274e+00],\n",
       "       [-1.89922822e-01,  2.84953261e-01,  6.70913566e-01,\n",
       "        -1.59587177e+00,  4.51727794e-01, -6.71705465e-01,\n",
       "        -1.89901058e-02, -3.52876828e-01, -5.86450902e-01],\n",
       "       [ 1.51148583e-03, -3.28774576e-01,  1.08035886e-01,\n",
       "        -3.31069983e-01,  2.57611835e-01,  8.13687898e-02,\n",
       "         7.96136323e-02, -3.52876828e-01, -5.86450902e-01],\n",
       "       [-9.62261237e-01,  8.98681099e-01, -1.86551055e+00,\n",
       "         2.47960066e+00,  9.56429290e-01, -6.40967740e-01,\n",
       "         7.96136323e-02,  8.76822615e-01, -7.21046191e-02],\n",
       "       [-1.56916907e-01, -2.67401792e-01,  8.44641245e-01,\n",
       "        -2.90917546e-01, -4.15323493e-01,  8.13687898e-02,\n",
       "        -3.64103189e-01, -3.52876828e-01,  2.29388828e+00]])"
      ]
     },
     "execution_count": 13,
     "metadata": {},
     "output_type": "execute_result"
    }
   ],
   "source": [
    "df = pd.read_csv('data/glass.csv')\n",
    "X = df.values[:,:-1]\n",
    "y = df.values[:,-1]\n",
    "\n",
    "normalizer = StandardScaler()\n",
    "X_norm = normalizer.fit_transform(X)\n",
    "X_norm[:10]"
   ]
  },
  {
   "cell_type": "code",
   "execution_count": 14,
   "metadata": {},
   "outputs": [
    {
     "name": "stdout",
     "output_type": "stream",
     "text": [
      "[0.00302976 0.81469337 1.43903379 0.49810176 0.77273399 0.65066625\n",
      " 1.41982447 0.49605617 0.09721077]\n",
      "[1.51836542e+00 1.34078505e+01 2.68453271e+00 1.44490654e+00\n",
      " 7.26509346e+01 4.97056075e-01 8.95696262e+00 1.75046729e-01\n",
      " 5.70093458e-02]\n",
      "[9.17944538e-06 6.63725286e-01 2.07081824e+00 2.48105365e-01\n",
      " 5.97117818e-01 4.23366567e-01 2.01590152e+00 2.46071727e-01\n",
      " 9.44993449e-03]\n"
     ]
    }
   ],
   "source": [
    "normalizer = StandardScaler()\n",
    "X_norm = normalizer.fit_transform(X)\n",
    "\n",
    "print(normalizer.scale_)\n",
    "print(normalizer.mean_)\n",
    "print(normalizer.var_)"
   ]
  },
  {
   "cell_type": "code",
   "execution_count": 16,
   "metadata": {},
   "outputs": [],
   "source": [
    "import numpy as np\n",
    "df = pd.read_csv('data/glass.csv')\n",
    "X = df.values[:,:-1].astype(np.float32)\n",
    "df = pd.DataFrame(X)\n",
    "X_norm = (df - df.mean()) / df.mad()"
   ]
  },
  {
   "cell_type": "code",
   "execution_count": 18,
   "metadata": {},
   "outputs": [
    {
     "data": {
      "text/plain": [
       "(0     1.518365\n",
       " 1    13.407849\n",
       " 2     2.684532\n",
       " 3     1.444906\n",
       " 4    72.650948\n",
       " 5     0.497056\n",
       " 6     8.956965\n",
       " 7     0.175047\n",
       " 8     0.057009\n",
       " dtype: float32, 0    0.002121\n",
       " 1    0.598898\n",
       " 2    1.209407\n",
       " 3    0.359052\n",
       " 4    0.555693\n",
       " 5    0.294363\n",
       " 6    0.918128\n",
       " 7    0.292369\n",
       " 8    0.077480\n",
       " dtype: float32)"
      ]
     },
     "execution_count": 18,
     "metadata": {},
     "output_type": "execute_result"
    }
   ],
   "source": [
    "df.mean(), df.mad()"
   ]
  },
  {
   "cell_type": "code",
   "execution_count": 19,
   "metadata": {},
   "outputs": [
    {
     "data": {
      "text/html": [
       "<div>\n",
       "<style scoped>\n",
       "    .dataframe tbody tr th:only-of-type {\n",
       "        vertical-align: middle;\n",
       "    }\n",
       "\n",
       "    .dataframe tbody tr th {\n",
       "        vertical-align: top;\n",
       "    }\n",
       "\n",
       "    .dataframe thead th {\n",
       "        text-align: right;\n",
       "    }\n",
       "</style>\n",
       "<table border=\"1\" class=\"dataframe\">\n",
       "  <thead>\n",
       "    <tr style=\"text-align: right;\">\n",
       "      <th></th>\n",
       "      <th>0</th>\n",
       "      <th>1</th>\n",
       "      <th>2</th>\n",
       "      <th>3</th>\n",
       "      <th>4</th>\n",
       "      <th>5</th>\n",
       "      <th>6</th>\n",
       "      <th>7</th>\n",
       "      <th>8</th>\n",
       "    </tr>\n",
       "  </thead>\n",
       "  <tbody>\n",
       "    <tr>\n",
       "      <td>0</td>\n",
       "      <td>-0.205174</td>\n",
       "      <td>-1.031644</td>\n",
       "      <td>0.674271</td>\n",
       "      <td>-0.904900</td>\n",
       "      <td>0.682124</td>\n",
       "      <td>0.485604</td>\n",
       "      <td>-0.203637</td>\n",
       "      <td>-0.598718</td>\n",
       "      <td>-0.735792</td>\n",
       "    </tr>\n",
       "    <tr>\n",
       "      <td>1</td>\n",
       "      <td>-0.912295</td>\n",
       "      <td>-2.083577</td>\n",
       "      <td>0.690808</td>\n",
       "      <td>-0.264325</td>\n",
       "      <td>0.430187</td>\n",
       "      <td>0.247802</td>\n",
       "      <td>-0.465039</td>\n",
       "      <td>-0.598718</td>\n",
       "      <td>-0.735792</td>\n",
       "    </tr>\n",
       "    <tr>\n",
       "      <td>2</td>\n",
       "      <td>-0.205174</td>\n",
       "      <td>-0.330356</td>\n",
       "      <td>0.657734</td>\n",
       "      <td>-0.097218</td>\n",
       "      <td>-0.019702</td>\n",
       "      <td>0.315745</td>\n",
       "      <td>-0.573956</td>\n",
       "      <td>-0.598718</td>\n",
       "      <td>-0.735792</td>\n",
       "    </tr>\n",
       "    <tr>\n",
       "      <td>3</td>\n",
       "      <td>-2.533958</td>\n",
       "      <td>1.656628</td>\n",
       "      <td>-0.780988</td>\n",
       "      <td>0.264846</td>\n",
       "      <td>3.417455</td>\n",
       "      <td>-1.688584</td>\n",
       "      <td>-1.488862</td>\n",
       "      <td>-0.598718</td>\n",
       "      <td>-0.735792</td>\n",
       "    </tr>\n",
       "    <tr>\n",
       "      <td>4</td>\n",
       "      <td>7.337357</td>\n",
       "      <td>-1.849814</td>\n",
       "      <td>-2.219709</td>\n",
       "      <td>-1.239113</td>\n",
       "      <td>-4.482591</td>\n",
       "      <td>-1.280924</td>\n",
       "      <td>7.878026</td>\n",
       "      <td>-0.598718</td>\n",
       "      <td>2.361772</td>\n",
       "    </tr>\n",
       "    <tr>\n",
       "      <td>...</td>\n",
       "      <td>...</td>\n",
       "      <td>...</td>\n",
       "      <td>...</td>\n",
       "      <td>...</td>\n",
       "      <td>...</td>\n",
       "      <td>...</td>\n",
       "      <td>...</td>\n",
       "      <td>...</td>\n",
       "      <td>...</td>\n",
       "    </tr>\n",
       "    <tr>\n",
       "      <td>209</td>\n",
       "      <td>-1.067847</td>\n",
       "      <td>0.020289</td>\n",
       "      <td>0.591586</td>\n",
       "      <td>-0.626389</td>\n",
       "      <td>0.070281</td>\n",
       "      <td>0.315745</td>\n",
       "      <td>-0.693766</td>\n",
       "      <td>-0.598718</td>\n",
       "      <td>-0.735792</td>\n",
       "    </tr>\n",
       "    <tr>\n",
       "      <td>210</td>\n",
       "      <td>-1.152703</td>\n",
       "      <td>-0.914764</td>\n",
       "      <td>0.690808</td>\n",
       "      <td>1.880209</td>\n",
       "      <td>0.016297</td>\n",
       "      <td>0.655462</td>\n",
       "      <td>-1.074976</td>\n",
       "      <td>-0.598718</td>\n",
       "      <td>-0.735792</td>\n",
       "    </tr>\n",
       "    <tr>\n",
       "      <td>211</td>\n",
       "      <td>-1.053741</td>\n",
       "      <td>0.855156</td>\n",
       "      <td>0.690808</td>\n",
       "      <td>-0.542836</td>\n",
       "      <td>0.412188</td>\n",
       "      <td>-0.431632</td>\n",
       "      <td>-1.107651</td>\n",
       "      <td>-0.598718</td>\n",
       "      <td>1.071120</td>\n",
       "    </tr>\n",
       "    <tr>\n",
       "      <td>212</td>\n",
       "      <td>-0.695432</td>\n",
       "      <td>-1.232012</td>\n",
       "      <td>0.161623</td>\n",
       "      <td>0.738315</td>\n",
       "      <td>1.006044</td>\n",
       "      <td>0.791349</td>\n",
       "      <td>-0.454147</td>\n",
       "      <td>-0.598718</td>\n",
       "      <td>-0.735792</td>\n",
       "    </tr>\n",
       "    <tr>\n",
       "      <td>213</td>\n",
       "      <td>0.072943</td>\n",
       "      <td>1.139011</td>\n",
       "      <td>-0.408905</td>\n",
       "      <td>0.599059</td>\n",
       "      <td>0.034283</td>\n",
       "      <td>-1.688584</td>\n",
       "      <td>0.395407</td>\n",
       "      <td>-0.598718</td>\n",
       "      <td>-0.735792</td>\n",
       "    </tr>\n",
       "  </tbody>\n",
       "</table>\n",
       "<p>214 rows × 9 columns</p>\n",
       "</div>"
      ],
      "text/plain": [
       "            0         1         2         3         4         5         6  \\\n",
       "0   -0.205174 -1.031644  0.674271 -0.904900  0.682124  0.485604 -0.203637   \n",
       "1   -0.912295 -2.083577  0.690808 -0.264325  0.430187  0.247802 -0.465039   \n",
       "2   -0.205174 -0.330356  0.657734 -0.097218 -0.019702  0.315745 -0.573956   \n",
       "3   -2.533958  1.656628 -0.780988  0.264846  3.417455 -1.688584 -1.488862   \n",
       "4    7.337357 -1.849814 -2.219709 -1.239113 -4.482591 -1.280924  7.878026   \n",
       "..        ...       ...       ...       ...       ...       ...       ...   \n",
       "209 -1.067847  0.020289  0.591586 -0.626389  0.070281  0.315745 -0.693766   \n",
       "210 -1.152703 -0.914764  0.690808  1.880209  0.016297  0.655462 -1.074976   \n",
       "211 -1.053741  0.855156  0.690808 -0.542836  0.412188 -0.431632 -1.107651   \n",
       "212 -0.695432 -1.232012  0.161623  0.738315  1.006044  0.791349 -0.454147   \n",
       "213  0.072943  1.139011 -0.408905  0.599059  0.034283 -1.688584  0.395407   \n",
       "\n",
       "            7         8  \n",
       "0   -0.598718 -0.735792  \n",
       "1   -0.598718 -0.735792  \n",
       "2   -0.598718 -0.735792  \n",
       "3   -0.598718 -0.735792  \n",
       "4   -0.598718  2.361772  \n",
       "..        ...       ...  \n",
       "209 -0.598718 -0.735792  \n",
       "210 -0.598718 -0.735792  \n",
       "211 -0.598718  1.071120  \n",
       "212 -0.598718 -0.735792  \n",
       "213 -0.598718 -0.735792  \n",
       "\n",
       "[214 rows x 9 columns]"
      ]
     },
     "execution_count": 19,
     "metadata": {},
     "output_type": "execute_result"
    }
   ],
   "source": [
    "X_norm"
   ]
  },
  {
   "cell_type": "code",
   "execution_count": null,
   "metadata": {},
   "outputs": [],
   "source": []
  },
  {
   "cell_type": "code",
   "execution_count": null,
   "metadata": {},
   "outputs": [],
   "source": []
  },
  {
   "cell_type": "code",
   "execution_count": null,
   "metadata": {},
   "outputs": [],
   "source": []
  },
  {
   "cell_type": "code",
   "execution_count": null,
   "metadata": {},
   "outputs": [],
   "source": []
  }
 ],
 "metadata": {
  "kernelspec": {
   "display_name": "Python 3",
   "language": "python",
   "name": "python3"
  },
  "language_info": {
   "codemirror_mode": {
    "name": "ipython",
    "version": 3
   },
   "file_extension": ".py",
   "mimetype": "text/x-python",
   "name": "python",
   "nbconvert_exporter": "python",
   "pygments_lexer": "ipython3",
   "version": "3.7.3"
  }
 },
 "nbformat": 4,
 "nbformat_minor": 2
}
