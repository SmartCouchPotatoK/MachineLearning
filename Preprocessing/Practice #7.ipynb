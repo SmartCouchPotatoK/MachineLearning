{
 "cells": [
  {
   "cell_type": "code",
   "execution_count": 5,
   "metadata": {},
   "outputs": [],
   "source": [
    "import pandas as pd\n",
    "from scipy.stats import chi2_contingency"
   ]
  },
  {
   "cell_type": "code",
   "execution_count": 8,
   "metadata": {},
   "outputs": [
    {
     "data": {
      "text/html": [
       "<div>\n",
       "<style scoped>\n",
       "    .dataframe tbody tr th:only-of-type {\n",
       "        vertical-align: middle;\n",
       "    }\n",
       "\n",
       "    .dataframe tbody tr th {\n",
       "        vertical-align: top;\n",
       "    }\n",
       "\n",
       "    .dataframe thead th {\n",
       "        text-align: right;\n",
       "    }\n",
       "</style>\n",
       "<table border=\"1\" class=\"dataframe\">\n",
       "  <thead>\n",
       "    <tr style=\"text-align: right;\">\n",
       "      <th></th>\n",
       "      <th>outlook</th>\n",
       "      <th>temperature</th>\n",
       "      <th>humidity</th>\n",
       "      <th>windy</th>\n",
       "      <th>play</th>\n",
       "    </tr>\n",
       "  </thead>\n",
       "  <tbody>\n",
       "    <tr>\n",
       "      <td>0</td>\n",
       "      <td>sunny</td>\n",
       "      <td>hot</td>\n",
       "      <td>high</td>\n",
       "      <td>False</td>\n",
       "      <td>no</td>\n",
       "    </tr>\n",
       "    <tr>\n",
       "      <td>1</td>\n",
       "      <td>sunny</td>\n",
       "      <td>hot</td>\n",
       "      <td>high</td>\n",
       "      <td>True</td>\n",
       "      <td>no</td>\n",
       "    </tr>\n",
       "    <tr>\n",
       "      <td>2</td>\n",
       "      <td>overcast</td>\n",
       "      <td>hot</td>\n",
       "      <td>high</td>\n",
       "      <td>False</td>\n",
       "      <td>yes</td>\n",
       "    </tr>\n",
       "    <tr>\n",
       "      <td>3</td>\n",
       "      <td>rainy</td>\n",
       "      <td>mild</td>\n",
       "      <td>high</td>\n",
       "      <td>False</td>\n",
       "      <td>yes</td>\n",
       "    </tr>\n",
       "    <tr>\n",
       "      <td>4</td>\n",
       "      <td>rainy</td>\n",
       "      <td>cool</td>\n",
       "      <td>normal</td>\n",
       "      <td>False</td>\n",
       "      <td>yes</td>\n",
       "    </tr>\n",
       "  </tbody>\n",
       "</table>\n",
       "</div>"
      ],
      "text/plain": [
       "    outlook temperature humidity  windy play\n",
       "0     sunny         hot     high  False   no\n",
       "1     sunny         hot     high   True   no\n",
       "2  overcast         hot     high  False  yes\n",
       "3     rainy        mild     high  False  yes\n",
       "4     rainy        cool   normal  False  yes"
      ]
     },
     "execution_count": 8,
     "metadata": {},
     "output_type": "execute_result"
    }
   ],
   "source": [
    "df = pd.read_csv('data/weather.nominal.csv')\n",
    "df[:5]"
   ]
  },
  {
   "cell_type": "code",
   "execution_count": 10,
   "metadata": {},
   "outputs": [
    {
     "data": {
      "text/html": [
       "<div>\n",
       "<style scoped>\n",
       "    .dataframe tbody tr th:only-of-type {\n",
       "        vertical-align: middle;\n",
       "    }\n",
       "\n",
       "    .dataframe tbody tr th {\n",
       "        vertical-align: top;\n",
       "    }\n",
       "\n",
       "    .dataframe thead th {\n",
       "        text-align: right;\n",
       "    }\n",
       "</style>\n",
       "<table border=\"1\" class=\"dataframe\">\n",
       "  <thead>\n",
       "    <tr style=\"text-align: right;\">\n",
       "      <th>play</th>\n",
       "      <th>no</th>\n",
       "      <th>yes</th>\n",
       "    </tr>\n",
       "    <tr>\n",
       "      <th>outlook</th>\n",
       "      <th></th>\n",
       "      <th></th>\n",
       "    </tr>\n",
       "  </thead>\n",
       "  <tbody>\n",
       "    <tr>\n",
       "      <td>overcast</td>\n",
       "      <td>0</td>\n",
       "      <td>4</td>\n",
       "    </tr>\n",
       "    <tr>\n",
       "      <td>rainy</td>\n",
       "      <td>2</td>\n",
       "      <td>3</td>\n",
       "    </tr>\n",
       "    <tr>\n",
       "      <td>sunny</td>\n",
       "      <td>3</td>\n",
       "      <td>2</td>\n",
       "    </tr>\n",
       "  </tbody>\n",
       "</table>\n",
       "</div>"
      ],
      "text/plain": [
       "play      no  yes\n",
       "outlook          \n",
       "overcast   0    4\n",
       "rainy      2    3\n",
       "sunny      3    2"
      ]
     },
     "execution_count": 10,
     "metadata": {},
     "output_type": "execute_result"
    }
   ],
   "source": [
    "attrs = df.columns\n",
    "contingency = pd.crosstab(df[attrs[0]], df[attrs[-1]])\n",
    "contingency\n",
    "# 각 outlook value에 따른 play(yes,no)의 갯수"
   ]
  },
  {
   "cell_type": "code",
   "execution_count": 12,
   "metadata": {},
   "outputs": [
    {
     "data": {
      "text/plain": [
       "3.5466666666666664"
      ]
     },
     "execution_count": 12,
     "metadata": {},
     "output_type": "execute_result"
    }
   ],
   "source": [
    "# Perform chi-square test\n",
    "chi2 = chi2_contingency(contingency)[0]\n",
    "chi2"
   ]
  },
  {
   "cell_type": "markdown",
   "metadata": {},
   "source": [
    "Pearson's Product Moment"
   ]
  },
  {
   "cell_type": "code",
   "execution_count": 13,
   "metadata": {},
   "outputs": [
    {
     "data": {
      "text/html": [
       "<div>\n",
       "<style scoped>\n",
       "    .dataframe tbody tr th:only-of-type {\n",
       "        vertical-align: middle;\n",
       "    }\n",
       "\n",
       "    .dataframe tbody tr th {\n",
       "        vertical-align: top;\n",
       "    }\n",
       "\n",
       "    .dataframe thead th {\n",
       "        text-align: right;\n",
       "    }\n",
       "</style>\n",
       "<table border=\"1\" class=\"dataframe\">\n",
       "  <thead>\n",
       "    <tr style=\"text-align: right;\">\n",
       "      <th></th>\n",
       "      <th>RI</th>\n",
       "      <th>Na</th>\n",
       "      <th>Mg</th>\n",
       "      <th>Al</th>\n",
       "      <th>Si</th>\n",
       "      <th>K</th>\n",
       "      <th>Ca</th>\n",
       "      <th>Ba</th>\n",
       "      <th>Fe</th>\n",
       "      <th>Type</th>\n",
       "    </tr>\n",
       "  </thead>\n",
       "  <tbody>\n",
       "    <tr>\n",
       "      <td>0</td>\n",
       "      <td>1.51793</td>\n",
       "      <td>12.79</td>\n",
       "      <td>3.50</td>\n",
       "      <td>1.12</td>\n",
       "      <td>73.03</td>\n",
       "      <td>0.64</td>\n",
       "      <td>8.77</td>\n",
       "      <td>0.0</td>\n",
       "      <td>0.00</td>\n",
       "      <td>'build wind float'</td>\n",
       "    </tr>\n",
       "    <tr>\n",
       "      <td>1</td>\n",
       "      <td>1.51643</td>\n",
       "      <td>12.16</td>\n",
       "      <td>3.52</td>\n",
       "      <td>1.35</td>\n",
       "      <td>72.89</td>\n",
       "      <td>0.57</td>\n",
       "      <td>8.53</td>\n",
       "      <td>0.0</td>\n",
       "      <td>0.00</td>\n",
       "      <td>'vehic wind float'</td>\n",
       "    </tr>\n",
       "    <tr>\n",
       "      <td>2</td>\n",
       "      <td>1.51793</td>\n",
       "      <td>13.21</td>\n",
       "      <td>3.48</td>\n",
       "      <td>1.41</td>\n",
       "      <td>72.64</td>\n",
       "      <td>0.59</td>\n",
       "      <td>8.43</td>\n",
       "      <td>0.0</td>\n",
       "      <td>0.00</td>\n",
       "      <td>'build wind float'</td>\n",
       "    </tr>\n",
       "    <tr>\n",
       "      <td>3</td>\n",
       "      <td>1.51299</td>\n",
       "      <td>14.40</td>\n",
       "      <td>1.74</td>\n",
       "      <td>1.54</td>\n",
       "      <td>74.55</td>\n",
       "      <td>0.00</td>\n",
       "      <td>7.59</td>\n",
       "      <td>0.0</td>\n",
       "      <td>0.00</td>\n",
       "      <td>tableware</td>\n",
       "    </tr>\n",
       "    <tr>\n",
       "      <td>4</td>\n",
       "      <td>1.53393</td>\n",
       "      <td>12.30</td>\n",
       "      <td>0.00</td>\n",
       "      <td>1.00</td>\n",
       "      <td>70.16</td>\n",
       "      <td>0.12</td>\n",
       "      <td>16.19</td>\n",
       "      <td>0.0</td>\n",
       "      <td>0.24</td>\n",
       "      <td>'build wind non-float'</td>\n",
       "    </tr>\n",
       "  </tbody>\n",
       "</table>\n",
       "</div>"
      ],
      "text/plain": [
       "        RI     Na    Mg    Al     Si     K     Ca   Ba    Fe  \\\n",
       "0  1.51793  12.79  3.50  1.12  73.03  0.64   8.77  0.0  0.00   \n",
       "1  1.51643  12.16  3.52  1.35  72.89  0.57   8.53  0.0  0.00   \n",
       "2  1.51793  13.21  3.48  1.41  72.64  0.59   8.43  0.0  0.00   \n",
       "3  1.51299  14.40  1.74  1.54  74.55  0.00   7.59  0.0  0.00   \n",
       "4  1.53393  12.30  0.00  1.00  70.16  0.12  16.19  0.0  0.24   \n",
       "\n",
       "                     Type  \n",
       "0      'build wind float'  \n",
       "1      'vehic wind float'  \n",
       "2      'build wind float'  \n",
       "3               tableware  \n",
       "4  'build wind non-float'  "
      ]
     },
     "execution_count": 13,
     "metadata": {},
     "output_type": "execute_result"
    }
   ],
   "source": [
    "# library import\n",
    "import pandas as pd\n",
    "from scipy.stats import pearsonr\n",
    "\n",
    "df = pd.read_csv('data/glass.csv')\n",
    "df[:5]"
   ]
  },
  {
   "cell_type": "code",
   "execution_count": 14,
   "metadata": {},
   "outputs": [
    {
     "data": {
      "text/plain": [
       "Index(['RI', ' Na', ' Mg', ' Al', ' Si', ' K', ' Ca', ' Ba', ' Fe', ' Type'], dtype='object')"
      ]
     },
     "execution_count": 14,
     "metadata": {},
     "output_type": "execute_result"
    }
   ],
   "source": [
    "attrs = df.columns\n",
    "attrs"
   ]
  },
  {
   "cell_type": "code",
   "execution_count": 16,
   "metadata": {},
   "outputs": [
    {
     "data": {
      "text/plain": [
       "-0.19188537903890268"
      ]
     },
     "execution_count": 16,
     "metadata": {},
     "output_type": "execute_result"
    }
   ],
   "source": [
    "pearsonr(df[attrs[0]], df[attrs[1]])[0]"
   ]
  },
  {
   "cell_type": "code",
   "execution_count": 17,
   "metadata": {},
   "outputs": [
    {
     "name": "stdout",
     "output_type": "stream",
     "text": [
      "object\n"
     ]
    }
   ],
   "source": [
    "import pandas as pd\n",
    "import numpy as np\n",
    "\n",
    "df = pd.read_csv('data/glass.csv')\n",
    "X = df.values[:,:-1]\n",
    "print(X.dtype)"
   ]
  },
  {
   "cell_type": "code",
   "execution_count": 18,
   "metadata": {},
   "outputs": [
    {
     "name": "stdout",
     "output_type": "stream",
     "text": [
      "float32\n"
     ]
    }
   ],
   "source": [
    "X = df.values[:,:-1].astype(np.float32)\n",
    "print(X.dtype)"
   ]
  },
  {
   "cell_type": "code",
   "execution_count": 19,
   "metadata": {},
   "outputs": [
    {
     "data": {
      "text/html": [
       "<div>\n",
       "<style scoped>\n",
       "    .dataframe tbody tr th:only-of-type {\n",
       "        vertical-align: middle;\n",
       "    }\n",
       "\n",
       "    .dataframe tbody tr th {\n",
       "        vertical-align: top;\n",
       "    }\n",
       "\n",
       "    .dataframe thead th {\n",
       "        text-align: right;\n",
       "    }\n",
       "</style>\n",
       "<table border=\"1\" class=\"dataframe\">\n",
       "  <thead>\n",
       "    <tr style=\"text-align: right;\">\n",
       "      <th></th>\n",
       "      <th>0</th>\n",
       "      <th>1</th>\n",
       "      <th>2</th>\n",
       "      <th>3</th>\n",
       "      <th>4</th>\n",
       "      <th>5</th>\n",
       "      <th>6</th>\n",
       "      <th>7</th>\n",
       "      <th>8</th>\n",
       "    </tr>\n",
       "  </thead>\n",
       "  <tbody>\n",
       "    <tr>\n",
       "      <td>0</td>\n",
       "      <td>9.222547e-06</td>\n",
       "      <td>-0.000476</td>\n",
       "      <td>-0.000536</td>\n",
       "      <td>-0.000618</td>\n",
       "      <td>-0.001275</td>\n",
       "      <td>-0.000574</td>\n",
       "      <td>0.003502</td>\n",
       "      <td>-5.822457e-07</td>\n",
       "      <td>0.000042</td>\n",
       "    </tr>\n",
       "    <tr>\n",
       "      <td>1</td>\n",
       "      <td>-4.758585e-04</td>\n",
       "      <td>0.666841</td>\n",
       "      <td>-0.322422</td>\n",
       "      <td>0.063926</td>\n",
       "      <td>-0.044154</td>\n",
       "      <td>-0.141713</td>\n",
       "      <td>-0.320106</td>\n",
       "      <td>1.326109e-01</td>\n",
       "      <td>-0.019204</td>\n",
       "    </tr>\n",
       "    <tr>\n",
       "      <td>2</td>\n",
       "      <td>-5.356125e-04</td>\n",
       "      <td>-0.322422</td>\n",
       "      <td>2.080540</td>\n",
       "      <td>-0.346967</td>\n",
       "      <td>-0.185375</td>\n",
       "      <td>0.005076</td>\n",
       "      <td>-0.910916</td>\n",
       "      <td>-3.530469e-01</td>\n",
       "      <td>0.011674</td>\n",
       "    </tr>\n",
       "    <tr>\n",
       "      <td>3</td>\n",
       "      <td>-6.175924e-04</td>\n",
       "      <td>0.063926</td>\n",
       "      <td>-0.346967</td>\n",
       "      <td>0.249270</td>\n",
       "      <td>-0.002136</td>\n",
       "      <td>0.106138</td>\n",
       "      <td>-0.184450</td>\n",
       "      <td>1.190103e-01</td>\n",
       "      <td>-0.003620</td>\n",
       "    </tr>\n",
       "    <tr>\n",
       "      <td>4</td>\n",
       "      <td>-1.275011e-03</td>\n",
       "      <td>-0.044154</td>\n",
       "      <td>-0.185375</td>\n",
       "      <td>-0.002136</td>\n",
       "      <td>0.599921</td>\n",
       "      <td>-0.097662</td>\n",
       "      <td>-0.230085</td>\n",
       "      <td>-3.934048e-02</td>\n",
       "      <td>-0.007109</td>\n",
       "    </tr>\n",
       "    <tr>\n",
       "      <td>5</td>\n",
       "      <td>-5.740471e-04</td>\n",
       "      <td>-0.141713</td>\n",
       "      <td>0.005076</td>\n",
       "      <td>0.106138</td>\n",
       "      <td>-0.097662</td>\n",
       "      <td>0.425354</td>\n",
       "      <td>-0.295006</td>\n",
       "      <td>-1.382028e-02</td>\n",
       "      <td>-0.000491</td>\n",
       "    </tr>\n",
       "    <tr>\n",
       "      <td>6</td>\n",
       "      <td>3.502500e-03</td>\n",
       "      <td>-0.320106</td>\n",
       "      <td>-0.910916</td>\n",
       "      <td>-0.184450</td>\n",
       "      <td>-0.230085</td>\n",
       "      <td>-0.295006</td>\n",
       "      <td>2.025366</td>\n",
       "      <td>-7.984847e-02</td>\n",
       "      <td>0.017329</td>\n",
       "    </tr>\n",
       "    <tr>\n",
       "      <td>7</td>\n",
       "      <td>-5.822457e-07</td>\n",
       "      <td>0.132611</td>\n",
       "      <td>-0.353047</td>\n",
       "      <td>0.119010</td>\n",
       "      <td>-0.039340</td>\n",
       "      <td>-0.013820</td>\n",
       "      <td>-0.079848</td>\n",
       "      <td>2.472270e-01</td>\n",
       "      <td>-0.002844</td>\n",
       "    </tr>\n",
       "    <tr>\n",
       "      <td>8</td>\n",
       "      <td>4.231763e-05</td>\n",
       "      <td>-0.019204</td>\n",
       "      <td>0.011674</td>\n",
       "      <td>-0.003620</td>\n",
       "      <td>-0.007109</td>\n",
       "      <td>-0.000491</td>\n",
       "      <td>0.017329</td>\n",
       "      <td>-2.843521e-03</td>\n",
       "      <td>0.009494</td>\n",
       "    </tr>\n",
       "  </tbody>\n",
       "</table>\n",
       "</div>"
      ],
      "text/plain": [
       "              0         1         2         3         4         5         6  \\\n",
       "0  9.222547e-06 -0.000476 -0.000536 -0.000618 -0.001275 -0.000574  0.003502   \n",
       "1 -4.758585e-04  0.666841 -0.322422  0.063926 -0.044154 -0.141713 -0.320106   \n",
       "2 -5.356125e-04 -0.322422  2.080540 -0.346967 -0.185375  0.005076 -0.910916   \n",
       "3 -6.175924e-04  0.063926 -0.346967  0.249270 -0.002136  0.106138 -0.184450   \n",
       "4 -1.275011e-03 -0.044154 -0.185375 -0.002136  0.599921 -0.097662 -0.230085   \n",
       "5 -5.740471e-04 -0.141713  0.005076  0.106138 -0.097662  0.425354 -0.295006   \n",
       "6  3.502500e-03 -0.320106 -0.910916 -0.184450 -0.230085 -0.295006  2.025366   \n",
       "7 -5.822457e-07  0.132611 -0.353047  0.119010 -0.039340 -0.013820 -0.079848   \n",
       "8  4.231763e-05 -0.019204  0.011674 -0.003620 -0.007109 -0.000491  0.017329   \n",
       "\n",
       "              7         8  \n",
       "0 -5.822457e-07  0.000042  \n",
       "1  1.326109e-01 -0.019204  \n",
       "2 -3.530469e-01  0.011674  \n",
       "3  1.190103e-01 -0.003620  \n",
       "4 -3.934048e-02 -0.007109  \n",
       "5 -1.382028e-02 -0.000491  \n",
       "6 -7.984847e-02  0.017329  \n",
       "7  2.472270e-01 -0.002844  \n",
       "8 -2.843521e-03  0.009494  "
      ]
     },
     "execution_count": 19,
     "metadata": {},
     "output_type": "execute_result"
    }
   ],
   "source": [
    "cov = np.cov(X.T)\n",
    "pd.DataFrame(cov)"
   ]
  },
  {
   "cell_type": "code",
   "execution_count": 21,
   "metadata": {},
   "outputs": [
    {
     "data": {
      "text/plain": [
       "array([[ 9.22254686e-06, -4.75858548e-04, -5.35612483e-04,\n",
       "        -6.17592389e-04, -1.27501119e-03, -5.74047055e-04,\n",
       "         3.50249992e-03, -5.82245684e-07,  4.23176307e-05],\n",
       "       [-4.75858548e-04,  6.66841331e-01, -3.22422144e-01,\n",
       "         6.39256243e-02, -4.41538408e-02, -1.41712921e-01,\n",
       "        -3.20106090e-01,  1.32610897e-01, -1.92036402e-02],\n",
       "       [-5.35612483e-04, -3.22422144e-01,  2.08054037e+00,\n",
       "        -3.46967416e-01, -1.85375271e-01,  5.07584703e-03,\n",
       "        -9.10915720e-01, -3.53046928e-01,  1.16737136e-02],\n",
       "       [-6.17592389e-04,  6.39256243e-02, -3.46967416e-01,\n",
       "         2.49270179e-01, -2.13597051e-03,  1.06138455e-01,\n",
       "        -1.84449833e-01,  1.19010334e-01, -3.61952949e-03],\n",
       "       [-1.27501119e-03, -4.41538408e-02, -1.85375271e-01,\n",
       "        -2.13597051e-03,  5.99921173e-01, -9.76615444e-02,\n",
       "        -2.30084871e-01, -3.93404762e-02, -7.10938260e-03],\n",
       "       [-5.74047055e-04, -1.41712921e-01,  5.07584703e-03,\n",
       "         1.06138455e-01, -9.76615444e-02,  4.25354208e-01,\n",
       "        -2.95005703e-01, -1.38202845e-02, -4.90535780e-04],\n",
       "       [ 3.50249992e-03, -3.20106090e-01, -9.10915720e-01,\n",
       "        -1.84449833e-01, -2.30084871e-01, -2.95005703e-01,\n",
       "         2.02536590e+00, -7.98484689e-02,  1.73293751e-02],\n",
       "       [-5.82245684e-07,  1.32610897e-01, -3.53046928e-01,\n",
       "         1.19010334e-01, -3.93404762e-02, -1.38202845e-02,\n",
       "        -7.98484689e-02,  2.47227000e-01, -2.84352146e-03],\n",
       "       [ 4.23176307e-05, -1.92036402e-02,  1.16737136e-02,\n",
       "        -3.61952949e-03, -7.10938260e-03, -4.90535780e-04,\n",
       "         1.73293751e-02, -2.84352146e-03,  9.49430028e-03]])"
      ]
     },
     "execution_count": 21,
     "metadata": {},
     "output_type": "execute_result"
    }
   ],
   "source": [
    "# 더 보기 힘들다 (DataFrame으로 바꾼이유)\n",
    "cov"
   ]
  },
  {
   "cell_type": "code",
   "execution_count": null,
   "metadata": {},
   "outputs": [],
   "source": []
  },
  {
   "cell_type": "code",
   "execution_count": null,
   "metadata": {},
   "outputs": [],
   "source": []
  },
  {
   "cell_type": "code",
   "execution_count": null,
   "metadata": {},
   "outputs": [],
   "source": []
  },
  {
   "cell_type": "code",
   "execution_count": null,
   "metadata": {},
   "outputs": [],
   "source": []
  }
 ],
 "metadata": {
  "kernelspec": {
   "display_name": "Python 3",
   "language": "python",
   "name": "python3"
  },
  "language_info": {
   "codemirror_mode": {
    "name": "ipython",
    "version": 3
   },
   "file_extension": ".py",
   "mimetype": "text/x-python",
   "name": "python",
   "nbconvert_exporter": "python",
   "pygments_lexer": "ipython3",
   "version": "3.7.3"
  }
 },
 "nbformat": 4,
 "nbformat_minor": 2
}
