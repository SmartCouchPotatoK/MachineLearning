{
 "cells": [
  {
   "cell_type": "code",
   "execution_count": 1,
   "metadata": {},
   "outputs": [],
   "source": [
    "import pandas as pd\n",
    "import numpy as np\n",
    "from sklearn.utils import resample\n",
    "from collections import Counter"
   ]
  },
  {
   "cell_type": "code",
   "execution_count": 2,
   "metadata": {},
   "outputs": [],
   "source": [
    "X_toy = [1,2,3,4,5]\n",
    "y_toy = [6,7,8,9,10]"
   ]
  },
  {
   "cell_type": "code",
   "execution_count": 3,
   "metadata": {},
   "outputs": [
    {
     "name": "stdout",
     "output_type": "stream",
     "text": [
      "[5, 1, 4, 4, 4, 2, 4] [10, 6, 9, 9, 9, 7, 9]\n"
     ]
    }
   ],
   "source": [
    "X_toy_sample, y_toy_sample = resample(X_toy, y_toy,\n",
    "                                      replace = True, #Default is True\n",
    "                                      n_samples = 7,\n",
    "                                      random_state = 0)\n",
    "print(X_toy_sample, y_toy_sample)"
   ]
  },
  {
   "cell_type": "code",
   "execution_count": 6,
   "metadata": {},
   "outputs": [
    {
     "name": "stdout",
     "output_type": "stream",
     "text": [
      "[3, 1, 2, 4, 5] [8, 6, 7, 9, 10]\n"
     ]
    }
   ],
   "source": [
    "X_toy_sample, y_toy_sample = resample(X_toy, y_toy,\n",
    "                                      replace = False,\n",
    "                                      n_samples = 5,\n",
    "                                      random_state = 0)\n",
    "print(X_toy_sample, y_toy_sample)"
   ]
  },
  {
   "cell_type": "code",
   "execution_count": 7,
   "metadata": {},
   "outputs": [
    {
     "data": {
      "text/html": [
       "<div>\n",
       "<style scoped>\n",
       "    .dataframe tbody tr th:only-of-type {\n",
       "        vertical-align: middle;\n",
       "    }\n",
       "\n",
       "    .dataframe tbody tr th {\n",
       "        vertical-align: top;\n",
       "    }\n",
       "\n",
       "    .dataframe thead th {\n",
       "        text-align: right;\n",
       "    }\n",
       "</style>\n",
       "<table border=\"1\" class=\"dataframe\">\n",
       "  <thead>\n",
       "    <tr style=\"text-align: right;\">\n",
       "      <th></th>\n",
       "      <th>RI</th>\n",
       "      <th>Na</th>\n",
       "      <th>Mg</th>\n",
       "      <th>Al</th>\n",
       "      <th>Si</th>\n",
       "      <th>K</th>\n",
       "      <th>Ca</th>\n",
       "      <th>Ba</th>\n",
       "      <th>Fe</th>\n",
       "      <th>Type</th>\n",
       "    </tr>\n",
       "  </thead>\n",
       "  <tbody>\n",
       "    <tr>\n",
       "      <td>0</td>\n",
       "      <td>1.51793</td>\n",
       "      <td>12.79</td>\n",
       "      <td>3.50</td>\n",
       "      <td>1.12</td>\n",
       "      <td>73.03</td>\n",
       "      <td>0.64</td>\n",
       "      <td>8.77</td>\n",
       "      <td>0.0</td>\n",
       "      <td>0.00</td>\n",
       "      <td>'build wind float'</td>\n",
       "    </tr>\n",
       "    <tr>\n",
       "      <td>1</td>\n",
       "      <td>1.51643</td>\n",
       "      <td>12.16</td>\n",
       "      <td>3.52</td>\n",
       "      <td>1.35</td>\n",
       "      <td>72.89</td>\n",
       "      <td>0.57</td>\n",
       "      <td>8.53</td>\n",
       "      <td>0.0</td>\n",
       "      <td>0.00</td>\n",
       "      <td>'vehic wind float'</td>\n",
       "    </tr>\n",
       "    <tr>\n",
       "      <td>2</td>\n",
       "      <td>1.51793</td>\n",
       "      <td>13.21</td>\n",
       "      <td>3.48</td>\n",
       "      <td>1.41</td>\n",
       "      <td>72.64</td>\n",
       "      <td>0.59</td>\n",
       "      <td>8.43</td>\n",
       "      <td>0.0</td>\n",
       "      <td>0.00</td>\n",
       "      <td>'build wind float'</td>\n",
       "    </tr>\n",
       "    <tr>\n",
       "      <td>3</td>\n",
       "      <td>1.51299</td>\n",
       "      <td>14.40</td>\n",
       "      <td>1.74</td>\n",
       "      <td>1.54</td>\n",
       "      <td>74.55</td>\n",
       "      <td>0.00</td>\n",
       "      <td>7.59</td>\n",
       "      <td>0.0</td>\n",
       "      <td>0.00</td>\n",
       "      <td>tableware</td>\n",
       "    </tr>\n",
       "    <tr>\n",
       "      <td>4</td>\n",
       "      <td>1.53393</td>\n",
       "      <td>12.30</td>\n",
       "      <td>0.00</td>\n",
       "      <td>1.00</td>\n",
       "      <td>70.16</td>\n",
       "      <td>0.12</td>\n",
       "      <td>16.19</td>\n",
       "      <td>0.0</td>\n",
       "      <td>0.24</td>\n",
       "      <td>'build wind non-float'</td>\n",
       "    </tr>\n",
       "  </tbody>\n",
       "</table>\n",
       "</div>"
      ],
      "text/plain": [
       "        RI     Na    Mg    Al     Si     K     Ca   Ba    Fe  \\\n",
       "0  1.51793  12.79  3.50  1.12  73.03  0.64   8.77  0.0  0.00   \n",
       "1  1.51643  12.16  3.52  1.35  72.89  0.57   8.53  0.0  0.00   \n",
       "2  1.51793  13.21  3.48  1.41  72.64  0.59   8.43  0.0  0.00   \n",
       "3  1.51299  14.40  1.74  1.54  74.55  0.00   7.59  0.0  0.00   \n",
       "4  1.53393  12.30  0.00  1.00  70.16  0.12  16.19  0.0  0.24   \n",
       "\n",
       "                     Type  \n",
       "0      'build wind float'  \n",
       "1      'vehic wind float'  \n",
       "2      'build wind float'  \n",
       "3               tableware  \n",
       "4  'build wind non-float'  "
      ]
     },
     "execution_count": 7,
     "metadata": {},
     "output_type": "execute_result"
    }
   ],
   "source": [
    "df = pd.read_csv('data/glass.csv')\n",
    "df[:5]"
   ]
  },
  {
   "cell_type": "code",
   "execution_count": 9,
   "metadata": {},
   "outputs": [],
   "source": [
    "X = df.values[:,:-1]\n",
    "y = df.values[:,-1]\n",
    "N = len(X)"
   ]
  },
  {
   "cell_type": "code",
   "execution_count": 10,
   "metadata": {},
   "outputs": [],
   "source": [
    "# 전체데이터의 20%에 해당하는 만큼만 복원추출로 샘플링\n",
    "X_sample, y_sample = resample(X, y,\n",
    "                              replace = True,\n",
    "                              n_samples = int(N*0.2),\n",
    "                              random_state = 0)"
   ]
  },
  {
   "cell_type": "code",
   "execution_count": 11,
   "metadata": {},
   "outputs": [
    {
     "name": "stdout",
     "output_type": "stream",
     "text": [
      "Counter({\"'build wind float'\": 16, \"'build wind non-float'\": 13, 'headlamps': 5, 'tableware': 4, \"'vehic wind float'\": 4})\n"
     ]
    }
   ],
   "source": [
    "c = Counter(y_sample)\n",
    "print(c)"
   ]
  },
  {
   "cell_type": "code",
   "execution_count": 13,
   "metadata": {},
   "outputs": [
    {
     "data": {
      "text/plain": [
       "[16, 5, 4, 4, 13]"
      ]
     },
     "execution_count": 13,
     "metadata": {},
     "output_type": "execute_result"
    }
   ],
   "source": [
    "list(c.values())"
   ]
  },
  {
   "cell_type": "code",
   "execution_count": 14,
   "metadata": {},
   "outputs": [
    {
     "name": "stdout",
     "output_type": "stream",
     "text": [
      "Counter({\"'build wind non-float'\": 19, \"'build wind float'\": 13, 'headlamps': 4, 'containers': 3, \"'vehic wind float'\": 2, 'tableware': 1})\n"
     ]
    }
   ],
   "source": [
    "# 전체데이터의 20%에 해당하는 만큼만 복원추출로 샘플링\n",
    "X_sample, y_sample = resample(X, y,\n",
    "                              replace = False,\n",
    "                              n_samples = int(N*0.2),\n",
    "                              random_state = 0)\n",
    "c = Counter(y_sample)\n",
    "print(c)"
   ]
  },
  {
   "cell_type": "markdown",
   "metadata": {},
   "source": [
    "Changing Random Seed"
   ]
  },
  {
   "cell_type": "code",
   "execution_count": 15,
   "metadata": {},
   "outputs": [
    {
     "name": "stdout",
     "output_type": "stream",
     "text": [
      "[(\"'build wind float'\", 16), (\"'build wind non-float'\", 13), (\"'vehic wind float'\", 4), ('headlamps', 5), ('tableware', 4)]\n",
      "[(\"'build wind float'\", 15), (\"'build wind non-float'\", 15), (\"'vehic wind float'\", 2), ('containers', 3), ('headlamps', 5), ('tableware', 2)]\n",
      "[(\"'build wind float'\", 9), (\"'build wind non-float'\", 20), (\"'vehic wind float'\", 3), ('containers', 3), ('headlamps', 5), ('tableware', 2)]\n",
      "[(\"'build wind float'\", 15), (\"'build wind non-float'\", 18), (\"'vehic wind float'\", 1), ('containers', 1), ('headlamps', 5), ('tableware', 2)]\n",
      "[(\"'build wind float'\", 15), (\"'build wind non-float'\", 15), (\"'vehic wind float'\", 2), ('containers', 2), ('headlamps', 7), ('tableware', 1)]\n"
     ]
    }
   ],
   "source": [
    "for i in range(5):\n",
    "    X_sample, y_sample = resample(X, y,\n",
    "                              replace = True,\n",
    "                              n_samples = int(N*0.2),\n",
    "                              random_state = i)\n",
    "    c = Counter(y_sample)\n",
    "    print(sorted(c.items()))"
   ]
  },
  {
   "cell_type": "code",
   "execution_count": 16,
   "metadata": {},
   "outputs": [
    {
     "name": "stdout",
     "output_type": "stream",
     "text": [
      "[(\"'build wind float'\", 13), (\"'build wind non-float'\", 19), (\"'vehic wind float'\", 2), ('containers', 3), ('headlamps', 4), ('tableware', 1)]\n",
      "[(\"'build wind float'\", 10), (\"'build wind non-float'\", 21), (\"'vehic wind float'\", 3), ('containers', 2), ('headlamps', 5), ('tableware', 1)]\n",
      "[(\"'build wind float'\", 14), (\"'build wind non-float'\", 15), (\"'vehic wind float'\", 5), ('containers', 4), ('headlamps', 2), ('tableware', 2)]\n",
      "[(\"'build wind float'\", 16), (\"'build wind non-float'\", 12), (\"'vehic wind float'\", 2), ('containers', 5), ('headlamps', 5), ('tableware', 2)]\n",
      "[(\"'build wind float'\", 18), (\"'build wind non-float'\", 11), (\"'vehic wind float'\", 4), ('containers', 4), ('headlamps', 5)]\n"
     ]
    }
   ],
   "source": [
    "for i in range(5):\n",
    "    X_sample, y_sample = resample(X, y,\n",
    "                              replace = False,\n",
    "                              n_samples = int(N*0.2),\n",
    "                              random_state = i)\n",
    "    c = Counter(y_sample)\n",
    "    print(sorted(c.items()))"
   ]
  },
  {
   "cell_type": "markdown",
   "metadata": {},
   "source": [
    "Stratified Sampling"
   ]
  },
  {
   "cell_type": "code",
   "execution_count": 17,
   "metadata": {},
   "outputs": [
    {
     "name": "stdout",
     "output_type": "stream",
     "text": [
      "[(\"'build wind float'\", 14), (\"'build wind non-float'\", 15), (\"'vehic wind float'\", 3), ('containers', 2), ('headlamps', 6), ('tableware', 2)]\n"
     ]
    }
   ],
   "source": [
    "X_sample, y_sample = resample(X, y,\n",
    "                              n_samples = int(N*0.2),\n",
    "                              random_state = 0,\n",
    "                              stratify=y)\n",
    "c = Counter(y_sample)\n",
    "print(sorted(c.items()))"
   ]
  },
  {
   "cell_type": "code",
   "execution_count": null,
   "metadata": {},
   "outputs": [],
   "source": []
  },
  {
   "cell_type": "code",
   "execution_count": null,
   "metadata": {},
   "outputs": [],
   "source": []
  },
  {
   "cell_type": "code",
   "execution_count": null,
   "metadata": {},
   "outputs": [],
   "source": []
  }
 ],
 "metadata": {
  "kernelspec": {
   "display_name": "Python 3",
   "language": "python",
   "name": "python3"
  },
  "language_info": {
   "codemirror_mode": {
    "name": "ipython",
    "version": 3
   },
   "file_extension": ".py",
   "mimetype": "text/x-python",
   "name": "python",
   "nbconvert_exporter": "python",
   "pygments_lexer": "ipython3",
   "version": "3.7.3"
  }
 },
 "nbformat": 4,
 "nbformat_minor": 2
}
