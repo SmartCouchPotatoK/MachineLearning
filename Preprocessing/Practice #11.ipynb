{
 "cells": [
  {
   "cell_type": "code",
   "execution_count": 1,
   "metadata": {},
   "outputs": [
    {
     "name": "stderr",
     "output_type": "stream",
     "text": [
      "C:\\Users\\weezs\\Anaconda3\\envs\\minjoo\\lib\\importlib\\_bootstrap.py:219: RuntimeWarning: numpy.ufunc size changed, may indicate binary incompatibility. Expected 192 from C header, got 216 from PyObject\n",
      "  return f(*args, **kwds)\n"
     ]
    }
   ],
   "source": [
    "import pandas as pd\n",
    "from sklearn.preprocessing import KBinsDiscretizer\n",
    "from sklearn.naive_bayes import MultinomialNB\n",
    "from sklearn.model_selection import KFold, cross_val_score\n",
    "import matplotlib.pyplot as plt"
   ]
  },
  {
   "cell_type": "code",
   "execution_count": 12,
   "metadata": {},
   "outputs": [
    {
     "data": {
      "text/html": [
       "<div>\n",
       "<style scoped>\n",
       "    .dataframe tbody tr th:only-of-type {\n",
       "        vertical-align: middle;\n",
       "    }\n",
       "\n",
       "    .dataframe tbody tr th {\n",
       "        vertical-align: top;\n",
       "    }\n",
       "\n",
       "    .dataframe thead th {\n",
       "        text-align: right;\n",
       "    }\n",
       "</style>\n",
       "<table border=\"1\" class=\"dataframe\">\n",
       "  <thead>\n",
       "    <tr style=\"text-align: right;\">\n",
       "      <th></th>\n",
       "      <th>a01</th>\n",
       "      <th>a02</th>\n",
       "      <th>a03</th>\n",
       "      <th>a04</th>\n",
       "      <th>a05</th>\n",
       "      <th>a06</th>\n",
       "      <th>a07</th>\n",
       "      <th>a08</th>\n",
       "      <th>a09</th>\n",
       "      <th>a10</th>\n",
       "      <th>...</th>\n",
       "      <th>a26</th>\n",
       "      <th>a27</th>\n",
       "      <th>a28</th>\n",
       "      <th>a29</th>\n",
       "      <th>a30</th>\n",
       "      <th>a31</th>\n",
       "      <th>a32</th>\n",
       "      <th>a33</th>\n",
       "      <th>a34</th>\n",
       "      <th>class</th>\n",
       "    </tr>\n",
       "  </thead>\n",
       "  <tbody>\n",
       "    <tr>\n",
       "      <td>0</td>\n",
       "      <td>1</td>\n",
       "      <td>0</td>\n",
       "      <td>0.99539</td>\n",
       "      <td>-0.05889</td>\n",
       "      <td>0.85243</td>\n",
       "      <td>0.02306</td>\n",
       "      <td>0.83398</td>\n",
       "      <td>-0.37708</td>\n",
       "      <td>1.00000</td>\n",
       "      <td>0.03760</td>\n",
       "      <td>...</td>\n",
       "      <td>-0.51171</td>\n",
       "      <td>0.41078</td>\n",
       "      <td>-0.46168</td>\n",
       "      <td>0.21266</td>\n",
       "      <td>-0.34090</td>\n",
       "      <td>0.42267</td>\n",
       "      <td>-0.54487</td>\n",
       "      <td>0.18641</td>\n",
       "      <td>-0.45300</td>\n",
       "      <td>g</td>\n",
       "    </tr>\n",
       "    <tr>\n",
       "      <td>1</td>\n",
       "      <td>1</td>\n",
       "      <td>0</td>\n",
       "      <td>1.00000</td>\n",
       "      <td>-0.18829</td>\n",
       "      <td>0.93035</td>\n",
       "      <td>-0.36156</td>\n",
       "      <td>-0.10868</td>\n",
       "      <td>-0.93597</td>\n",
       "      <td>1.00000</td>\n",
       "      <td>-0.04549</td>\n",
       "      <td>...</td>\n",
       "      <td>-0.26569</td>\n",
       "      <td>-0.20468</td>\n",
       "      <td>-0.18401</td>\n",
       "      <td>-0.19040</td>\n",
       "      <td>-0.11593</td>\n",
       "      <td>-0.16626</td>\n",
       "      <td>-0.06288</td>\n",
       "      <td>-0.13738</td>\n",
       "      <td>-0.02447</td>\n",
       "      <td>b</td>\n",
       "    </tr>\n",
       "    <tr>\n",
       "      <td>2</td>\n",
       "      <td>1</td>\n",
       "      <td>0</td>\n",
       "      <td>1.00000</td>\n",
       "      <td>-0.03365</td>\n",
       "      <td>1.00000</td>\n",
       "      <td>0.00485</td>\n",
       "      <td>1.00000</td>\n",
       "      <td>-0.12062</td>\n",
       "      <td>0.88965</td>\n",
       "      <td>0.01198</td>\n",
       "      <td>...</td>\n",
       "      <td>-0.40220</td>\n",
       "      <td>0.58984</td>\n",
       "      <td>-0.22145</td>\n",
       "      <td>0.43100</td>\n",
       "      <td>-0.17365</td>\n",
       "      <td>0.60436</td>\n",
       "      <td>-0.24180</td>\n",
       "      <td>0.56045</td>\n",
       "      <td>-0.38238</td>\n",
       "      <td>g</td>\n",
       "    </tr>\n",
       "  </tbody>\n",
       "</table>\n",
       "<p>3 rows × 35 columns</p>\n",
       "</div>"
      ],
      "text/plain": [
       "   a01  a02      a03      a04      a05      a06      a07      a08      a09  \\\n",
       "0    1    0  0.99539 -0.05889  0.85243  0.02306  0.83398 -0.37708  1.00000   \n",
       "1    1    0  1.00000 -0.18829  0.93035 -0.36156 -0.10868 -0.93597  1.00000   \n",
       "2    1    0  1.00000 -0.03365  1.00000  0.00485  1.00000 -0.12062  0.88965   \n",
       "\n",
       "       a10  ...      a26      a27      a28      a29      a30      a31  \\\n",
       "0  0.03760  ... -0.51171  0.41078 -0.46168  0.21266 -0.34090  0.42267   \n",
       "1 -0.04549  ... -0.26569 -0.20468 -0.18401 -0.19040 -0.11593 -0.16626   \n",
       "2  0.01198  ... -0.40220  0.58984 -0.22145  0.43100 -0.17365  0.60436   \n",
       "\n",
       "       a32      a33      a34  class  \n",
       "0 -0.54487  0.18641 -0.45300      g  \n",
       "1 -0.06288 -0.13738 -0.02447      b  \n",
       "2 -0.24180  0.56045 -0.38238      g  \n",
       "\n",
       "[3 rows x 35 columns]"
      ]
     },
     "execution_count": 12,
     "metadata": {},
     "output_type": "execute_result"
    }
   ],
   "source": [
    "df = pd.read_csv('data/ionosphere.csv')\n",
    "df[:3]"
   ]
  },
  {
   "cell_type": "code",
   "execution_count": 15,
   "metadata": {},
   "outputs": [
    {
     "name": "stdout",
     "output_type": "stream",
     "text": [
      "['g' 'b']\n"
     ]
    }
   ],
   "source": [
    "X = df.values[:,:-1]\n",
    "y = df.values[:,-1]\n",
    "print(y[:2])"
   ]
  },
  {
   "cell_type": "code",
   "execution_count": 16,
   "metadata": {},
   "outputs": [
    {
     "name": "stdout",
     "output_type": "stream",
     "text": [
      "[[1 0 0.99539 -0.05889 0.8524299999999999 0.02306 0.8339799999999999\n",
      "  -0.37708 1.0 0.0376 0.8524299999999999 -0.17755 0.59755 -0.44945\n",
      "  0.60536 -0.38223 0.8435600000000001 -0.38542 0.58212 -0.32192 0.56971\n",
      "  -0.29674 0.36946 -0.47357 0.56811 -0.51171 0.41078000000000003\n",
      "  -0.46168000000000003 0.21266 -0.3409 0.42267 -0.54487 0.18641\n",
      "  -0.45299999999999996]\n",
      " [1 0 1.0 -0.18829 0.93035 -0.36156 -0.10868 -0.9359700000000001 1.0\n",
      "  -0.045489999999999996 0.50874 -0.67743 0.34431999999999996 -0.69707\n",
      "  -0.51685 -0.97515 0.05499 -0.62237 0.33109 -1.0 -0.13151\n",
      "  -0.45299999999999996 -0.18056 -0.35734 -0.20332 -0.26569 -0.20468\n",
      "  -0.18400999999999998 -0.1904 -0.11592999999999999 -0.16626\n",
      "  -0.06287999999999999 -0.13738 -0.02447]]\n"
     ]
    }
   ],
   "source": [
    "print(X[:2])"
   ]
  },
  {
   "cell_type": "code",
   "execution_count": 17,
   "metadata": {},
   "outputs": [
    {
     "name": "stdout",
     "output_type": "stream",
     "text": [
      "[array([0. , 0.2, 0.4, 0.6, 0.8, 1. ]) array([-inf,  inf])\n",
      " array([-1. , -0.6, -0.2,  0.2,  0.6,  1. ])\n",
      " array([-1. , -0.6, -0.2,  0.2,  0.6,  1. ])\n",
      " array([-1. , -0.6, -0.2,  0.2,  0.6,  1. ])\n",
      " array([-1. , -0.6, -0.2,  0.2,  0.6,  1. ])\n",
      " array([-1. , -0.6, -0.2,  0.2,  0.6,  1. ])\n",
      " array([-1. , -0.6, -0.2,  0.2,  0.6,  1. ])\n",
      " array([-1. , -0.6, -0.2,  0.2,  0.6,  1. ])\n",
      " array([-1. , -0.6, -0.2,  0.2,  0.6,  1. ])\n",
      " array([-1. , -0.6, -0.2,  0.2,  0.6,  1. ])\n",
      " array([-1. , -0.6, -0.2,  0.2,  0.6,  1. ])\n",
      " array([-1. , -0.6, -0.2,  0.2,  0.6,  1. ])\n",
      " array([-1. , -0.6, -0.2,  0.2,  0.6,  1. ])\n",
      " array([-1. , -0.6, -0.2,  0.2,  0.6,  1. ])\n",
      " array([-1. , -0.6, -0.2,  0.2,  0.6,  1. ])\n",
      " array([-1. , -0.6, -0.2,  0.2,  0.6,  1. ])\n",
      " array([-1. , -0.6, -0.2,  0.2,  0.6,  1. ])\n",
      " array([-1. , -0.6, -0.2,  0.2,  0.6,  1. ])\n",
      " array([-1. , -0.6, -0.2,  0.2,  0.6,  1. ])\n",
      " array([-1. , -0.6, -0.2,  0.2,  0.6,  1. ])\n",
      " array([-1. , -0.6, -0.2,  0.2,  0.6,  1. ])\n",
      " array([-1. , -0.6, -0.2,  0.2,  0.6,  1. ])\n",
      " array([-1. , -0.6, -0.2,  0.2,  0.6,  1. ])\n",
      " array([-1. , -0.6, -0.2,  0.2,  0.6,  1. ])\n",
      " array([-1. , -0.6, -0.2,  0.2,  0.6,  1. ])\n",
      " array([-1. , -0.6, -0.2,  0.2,  0.6,  1. ])\n",
      " array([-1. , -0.6, -0.2,  0.2,  0.6,  1. ])\n",
      " array([-1. , -0.6, -0.2,  0.2,  0.6,  1. ])\n",
      " array([-1. , -0.6, -0.2,  0.2,  0.6,  1. ])\n",
      " array([-1. , -0.6, -0.2,  0.2,  0.6,  1. ])\n",
      " array([-1. , -0.6, -0.2,  0.2,  0.6,  1. ])\n",
      " array([-1. , -0.6, -0.2,  0.2,  0.6,  1. ])\n",
      " array([-1. , -0.6, -0.2,  0.2,  0.6,  1. ])]\n"
     ]
    },
    {
     "name": "stderr",
     "output_type": "stream",
     "text": [
      "C:\\Users\\weezs\\Anaconda3\\envs\\minjoo\\lib\\site-packages\\sklearn\\preprocessing\\_discretization.py:159: UserWarning: Feature 1 is constant and will be replaced with 0.\n",
      "  \"replaced with 0.\" % jj)\n"
     ]
    }
   ],
   "source": [
    "discretizer = KBinsDiscretizer(n_bins=5, encode='ordinal', strategy='uniform')\n",
    "discretizer.fit(X)\n",
    "print(discretizer.bin_edges_)\n",
    "\n",
    "# 다 똑같은 값을 갖는 컬럼은 이렇게 표현됨 :: array([-inf,  inf])"
   ]
  },
  {
   "cell_type": "code",
   "execution_count": 18,
   "metadata": {},
   "outputs": [
    {
     "data": {
      "image/png": "[encoded data removed]",
      "text/plain": [
       "<Figure size 432x288 with 1 Axes>"
      ]
     },
     "metadata": {
      "needs_background": "light"
     },
     "output_type": "display_data"
    }
   ],
   "source": [
    "# 첫번째 컬럼에 대해서..\n",
    "col_i = 0\n",
    "plt.hist(X[:,col_i:col_i+1],\n",
    "         bins=discretizer.bin_edges_[col_i],\n",
    "         linewidth=1.2, edgecolor='black')\n",
    "plt.suptitle(df.columns[col_i])\n",
    "plt.show()"
   ]
  },
  {
   "cell_type": "code",
   "execution_count": 19,
   "metadata": {},
   "outputs": [
    {
     "name": "stderr",
     "output_type": "stream",
     "text": [
      "C:\\Users\\weezs\\Anaconda3\\envs\\minjoo\\lib\\site-packages\\sklearn\\preprocessing\\_discretization.py:193: UserWarning: Bins whose width are too small (i.e., <= 1e-8) in feature 0 are removed. Consider decreasing the number of bins.\n",
      "  'decreasing the number of bins.' % jj)\n",
      "C:\\Users\\weezs\\Anaconda3\\envs\\minjoo\\lib\\site-packages\\sklearn\\preprocessing\\_discretization.py:159: UserWarning: Feature 1 is constant and will be replaced with 0.\n",
      "  \"replaced with 0.\" % jj)\n",
      "C:\\Users\\weezs\\Anaconda3\\envs\\minjoo\\lib\\site-packages\\sklearn\\preprocessing\\_discretization.py:193: UserWarning: Bins whose width are too small (i.e., <= 1e-8) in feature 2 are removed. Consider decreasing the number of bins.\n",
      "  'decreasing the number of bins.' % jj)\n",
      "C:\\Users\\weezs\\Anaconda3\\envs\\minjoo\\lib\\site-packages\\sklearn\\preprocessing\\_discretization.py:193: UserWarning: Bins whose width are too small (i.e., <= 1e-8) in feature 4 are removed. Consider decreasing the number of bins.\n",
      "  'decreasing the number of bins.' % jj)\n",
      "C:\\Users\\weezs\\Anaconda3\\envs\\minjoo\\lib\\site-packages\\sklearn\\preprocessing\\_discretization.py:193: UserWarning: Bins whose width are too small (i.e., <= 1e-8) in feature 6 are removed. Consider decreasing the number of bins.\n",
      "  'decreasing the number of bins.' % jj)\n",
      "C:\\Users\\weezs\\Anaconda3\\envs\\minjoo\\lib\\site-packages\\sklearn\\preprocessing\\_discretization.py:193: UserWarning: Bins whose width are too small (i.e., <= 1e-8) in feature 26 are removed. Consider decreasing the number of bins.\n",
      "  'decreasing the number of bins.' % jj)\n"
     ]
    },
    {
     "data": {
      "image/png": "[encoded data removed]",
      "text/plain": [
       "<Figure size 432x288 with 1 Axes>"
      ]
     },
     "metadata": {
      "needs_background": "light"
     },
     "output_type": "display_data"
    }
   ],
   "source": [
    "discretizer = KBinsDiscretizer(n_bins=5, encode='ordinal', strategy='quantile')\n",
    "discretizer.fit(X)\n",
    "\n",
    "col_i = 3\n",
    "plt.hist(X[:,col_i:col_i+1],\n",
    "         bins=discretizer.bin_edges_[col_i],\n",
    "         linewidth=1.2, edgecolor='black')\n",
    "plt.suptitle(df.columns[col_i])\n",
    "plt.show()"
   ]
  },
  {
   "cell_type": "code",
   "execution_count": 20,
   "metadata": {},
   "outputs": [
    {
     "name": "stdout",
     "output_type": "stream",
     "text": [
      "[[0. 0. 3. 1. 2. 2. 2. 0. 4. 2. 3. 0. 2. 0. 2. 0. 3. 0. 2. 1. 2. 1. 2. 1.\n",
      "  2. 0. 1. 1. 1. 1. 2. 0. 2. 0.]\n",
      " [0. 0. 3. 0. 3. 0. 0. 0. 4. 1. 2. 0. 1. 0. 0. 0. 1. 0. 1. 0. 1. 0. 0. 1.\n",
      "  0. 1. 0. 1. 0. 1. 0. 1. 0. 1.]\n",
      " [0. 0. 3. 1. 3. 2. 3. 0. 3. 2. 2. 2. 3. 2. 2. 2. 3. 1. 3. 1. 3. 1. 2. 1.\n",
      "  2. 1. 2. 1. 2. 1. 3. 1. 2. 0.]]\n"
     ]
    }
   ],
   "source": [
    "transformed_X = discretizer.transform(X)\n",
    "print(transformed_X[:3])"
   ]
  },
  {
   "cell_type": "code",
   "execution_count": 9,
   "metadata": {},
   "outputs": [
    {
     "name": "stderr",
     "output_type": "stream",
     "text": [
      "C:\\Users\\weezs\\Anaconda3\\envs\\minjoo\\lib\\site-packages\\sklearn\\preprocessing\\_discretization.py:159: UserWarning: Feature 1 is constant and will be replaced with 0.\n",
      "  \"replaced with 0.\" % jj)\n"
     ]
    }
   ],
   "source": [
    "from sklearn.tree import DecisionTreeClassifier\n",
    "discretizer = KBinsDiscretizer(n_bins=5, encode='onehot-dense', strategy='uniform')\n",
    "discretizer.fit(X)\n",
    "en_X = discretizer.transform(X)"
   ]
  },
  {
   "cell_type": "code",
   "execution_count": 11,
   "metadata": {},
   "outputs": [
    {
     "name": "stdout",
     "output_type": "stream",
     "text": [
      "0.8804761904761904\n"
     ]
    }
   ],
   "source": [
    "clf = DecisionTreeClassifier(criterion='entropy')\n",
    "cv = KFold(n_splits=10, shuffle=True, random_state=0)\n",
    "print(cross_val_score(clf, en_X, y, cv=cv).mean())"
   ]
  },
  {
   "cell_type": "code",
   "execution_count": null,
   "metadata": {},
   "outputs": [],
   "source": []
  },
  {
   "cell_type": "code",
   "execution_count": null,
   "metadata": {},
   "outputs": [],
   "source": []
  }
 ],
 "metadata": {
  "kernelspec": {
   "display_name": "Python 3",
   "language": "python",
   "name": "python3"
  },
  "language_info": {
   "codemirror_mode": {
    "name": "ipython",
    "version": 3
   },
   "file_extension": ".py",
   "mimetype": "text/x-python",
   "name": "python",
   "nbconvert_exporter": "python",
   "pygments_lexer": "ipython3",
   "version": "3.7.3"
  }
 },
 "nbformat": 4,
 "nbformat_minor": 2
}
