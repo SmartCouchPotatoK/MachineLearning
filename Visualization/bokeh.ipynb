{
 "cells": [
  {
   "cell_type": "code",
   "execution_count": 38,
   "metadata": {},
   "outputs": [],
   "source": [
    "import numpy as np\n",
    "from bokeh.io import output_notebook, show\n",
    "from bokeh.plotting import figure\n",
    "\n",
    "# output_notebook()"
   ]
  },
  {
   "cell_type": "code",
   "execution_count": 39,
   "metadata": {},
   "outputs": [],
   "source": [
    "# scatter relation\n",
    "p = figure(plot_width=800, plot_height=400)"
   ]
  },
  {
   "cell_type": "code",
   "execution_count": 40,
   "metadata": {},
   "outputs": [
    {
     "data": {
      "text/html": [
       "\n",
       "\n",
       "\n",
       "\n",
       "\n",
       "\n",
       "  <div class=\"bk-root\" id=\"8463e0c7-774c-477d-949c-94da1245f636\" data-root-id=\"2494\"></div>\n"
      ]
     },
     "metadata": {},
     "output_type": "display_data"
    },
    {
     "data": {
      "application/javascript": [
       "(function(root) {\n",
       "  function embed_document(root) {\n",
       "    \n",
       "  var docs_json = {\"2a15292a-1b46-4f15-be51-2258672d16cd\":{\"roots\":{\"references\":[{\"attributes\":{\"below\":[{\"id\":\"2503\",\"type\":\"LinearAxis\"}],\"left\":[{\"id\":\"2508\",\"type\":\"LinearAxis\"}],\"plot_height\":400,\"plot_width\":800,\"renderers\":[{\"id\":\"2503\",\"type\":\"LinearAxis\"},{\"id\":\"2507\",\"type\":\"Grid\"},{\"id\":\"2508\",\"type\":\"LinearAxis\"},{\"id\":\"2512\",\"type\":\"Grid\"},{\"id\":\"2521\",\"type\":\"BoxAnnotation\"}],\"title\":{\"id\":\"2563\",\"type\":\"Title\"},\"toolbar\":{\"id\":\"2519\",\"type\":\"Toolbar\"},\"x_range\":{\"id\":\"2495\",\"type\":\"DataRange1d\"},\"x_scale\":{\"id\":\"2499\",\"type\":\"LinearScale\"},\"y_range\":{\"id\":\"2497\",\"type\":\"DataRange1d\"},\"y_scale\":{\"id\":\"2501\",\"type\":\"LinearScale\"}},\"id\":\"2494\",\"subtype\":\"Figure\",\"type\":\"Plot\"},{\"attributes\":{\"formatter\":{\"id\":\"2565\",\"type\":\"BasicTickFormatter\"},\"plot\":{\"id\":\"2494\",\"subtype\":\"Figure\",\"type\":\"Plot\"},\"ticker\":{\"id\":\"2509\",\"type\":\"BasicTicker\"}},\"id\":\"2508\",\"type\":\"LinearAxis\"},{\"attributes\":{},\"id\":\"2509\",\"type\":\"BasicTicker\"},{\"attributes\":{\"dimension\":1,\"plot\":{\"id\":\"2494\",\"subtype\":\"Figure\",\"type\":\"Plot\"},\"ticker\":{\"id\":\"2509\",\"type\":\"BasicTicker\"}},\"id\":\"2512\",\"type\":\"Grid\"},{\"attributes\":{\"plot\":null,\"text\":\"\"},\"id\":\"2563\",\"type\":\"Title\"},{\"attributes\":{},\"id\":\"2513\",\"type\":\"PanTool\"},{\"attributes\":{},\"id\":\"2514\",\"type\":\"WheelZoomTool\"},{\"attributes\":{\"overlay\":{\"id\":\"2521\",\"type\":\"BoxAnnotation\"}},\"id\":\"2515\",\"type\":\"BoxZoomTool\"},{\"attributes\":{},\"id\":\"2516\",\"type\":\"SaveTool\"},{\"attributes\":{},\"id\":\"2517\",\"type\":\"ResetTool\"},{\"attributes\":{},\"id\":\"2518\",\"type\":\"HelpTool\"},{\"attributes\":{\"callback\":null},\"id\":\"2495\",\"type\":\"DataRange1d\"},{\"attributes\":{\"active_drag\":\"auto\",\"active_inspect\":\"auto\",\"active_multi\":null,\"active_scroll\":\"auto\",\"active_tap\":\"auto\",\"tools\":[{\"id\":\"2513\",\"type\":\"PanTool\"},{\"id\":\"2514\",\"type\":\"WheelZoomTool\"},{\"id\":\"2515\",\"type\":\"BoxZoomTool\"},{\"id\":\"2516\",\"type\":\"SaveTool\"},{\"id\":\"2517\",\"type\":\"ResetTool\"},{\"id\":\"2518\",\"type\":\"HelpTool\"}]},\"id\":\"2519\",\"type\":\"Toolbar\"},{\"attributes\":{\"callback\":null},\"id\":\"2497\",\"type\":\"DataRange1d\"},{\"attributes\":{},\"id\":\"2565\",\"type\":\"BasicTickFormatter\"},{\"attributes\":{},\"id\":\"2499\",\"type\":\"LinearScale\"},{\"attributes\":{\"bottom_units\":\"screen\",\"fill_alpha\":{\"value\":0.5},\"fill_color\":{\"value\":\"lightgrey\"},\"left_units\":\"screen\",\"level\":\"overlay\",\"line_alpha\":{\"value\":1.0},\"line_color\":{\"value\":\"black\"},\"line_dash\":[4,4],\"line_width\":{\"value\":2},\"plot\":null,\"render_mode\":\"css\",\"right_units\":\"screen\",\"top_units\":\"screen\"},\"id\":\"2521\",\"type\":\"BoxAnnotation\"},{\"attributes\":{},\"id\":\"2501\",\"type\":\"LinearScale\"},{\"attributes\":{},\"id\":\"2567\",\"type\":\"BasicTickFormatter\"},{\"attributes\":{\"formatter\":{\"id\":\"2567\",\"type\":\"BasicTickFormatter\"},\"plot\":{\"id\":\"2494\",\"subtype\":\"Figure\",\"type\":\"Plot\"},\"ticker\":{\"id\":\"2504\",\"type\":\"BasicTicker\"}},\"id\":\"2503\",\"type\":\"LinearAxis\"},{\"attributes\":{},\"id\":\"2504\",\"type\":\"BasicTicker\"},{\"attributes\":{\"plot\":{\"id\":\"2494\",\"subtype\":\"Figure\",\"type\":\"Plot\"},\"ticker\":{\"id\":\"2504\",\"type\":\"BasicTicker\"}},\"id\":\"2507\",\"type\":\"Grid\"}],\"root_ids\":[\"2494\"]},\"title\":\"Bokeh Application\",\"version\":\"1.0.4\"}};\n",
       "  var render_items = [{\"docid\":\"2a15292a-1b46-4f15-be51-2258672d16cd\",\"roots\":{\"2494\":\"8463e0c7-774c-477d-949c-94da1245f636\"}}];\n",
       "  root.Bokeh.embed.embed_items_notebook(docs_json, render_items);\n",
       "\n",
       "  }\n",
       "  if (root.Bokeh !== undefined) {\n",
       "    embed_document(root);\n",
       "  } else {\n",
       "    var attempts = 0;\n",
       "    var timer = setInterval(function(root) {\n",
       "      if (root.Bokeh !== undefined) {\n",
       "        clearInterval(timer);\n",
       "        embed_document(root);\n",
       "      } else {\n",
       "        attempts++;\n",
       "        if (attempts > 100) {\n",
       "          clearInterval(timer);\n",
       "          console.log(\"Bokeh: ERROR: Unable to run BokehJS code because BokehJS library is missing\");\n",
       "        }\n",
       "      }\n",
       "    }, 10, root)\n",
       "  }\n",
       "})(window);"
      ],
      "application/vnd.bokehjs_exec.v0+json": ""
     },
     "metadata": {
      "application/vnd.bokehjs_exec.v0+json": {
       "id": "2494"
      }
     },
     "output_type": "display_data"
    }
   ],
   "source": [
    "# 비어있는 canvas만 만든상황\n",
    "show(p)"
   ]
  },
  {
   "cell_type": "code",
   "execution_count": 41,
   "metadata": {},
   "outputs": [
    {
     "data": {
      "text/html": [
       "\n",
       "\n",
       "\n",
       "\n",
       "\n",
       "\n",
       "  <div class=\"bk-root\" id=\"9023f243-b361-48ba-aee5-fc5bdcbe8bbd\" data-root-id=\"2494\"></div>\n"
      ]
     },
     "metadata": {},
     "output_type": "display_data"
    },
    {
     "data": {
      "application/javascript": [
       "(function(root) {\n",
       "  function embed_document(root) {\n",
       "    \n",
       "  var docs_json = {\"a1cbf73c-baac-4ae6-8635-c3300fa0f1c9\":{\"roots\":{\"references\":[{\"attributes\":{\"below\":[{\"id\":\"2503\",\"type\":\"LinearAxis\"}],\"left\":[{\"id\":\"2508\",\"type\":\"LinearAxis\"}],\"plot_height\":400,\"plot_width\":800,\"renderers\":[{\"id\":\"2503\",\"type\":\"LinearAxis\"},{\"id\":\"2507\",\"type\":\"Grid\"},{\"id\":\"2508\",\"type\":\"LinearAxis\"},{\"id\":\"2512\",\"type\":\"Grid\"},{\"id\":\"2521\",\"type\":\"BoxAnnotation\"},{\"id\":\"2614\",\"type\":\"GlyphRenderer\"}],\"title\":{\"id\":\"2563\",\"type\":\"Title\"},\"toolbar\":{\"id\":\"2519\",\"type\":\"Toolbar\"},\"x_range\":{\"id\":\"2495\",\"type\":\"DataRange1d\"},\"x_scale\":{\"id\":\"2499\",\"type\":\"LinearScale\"},\"y_range\":{\"id\":\"2497\",\"type\":\"DataRange1d\"},\"y_scale\":{\"id\":\"2501\",\"type\":\"LinearScale\"}},\"id\":\"2494\",\"subtype\":\"Figure\",\"type\":\"Plot\"},{\"attributes\":{\"callback\":null,\"data\":{\"x\":[0,1,2,3,4,5],\"y\":[0,1,2,3,4,5]},\"selected\":{\"id\":\"2657\",\"type\":\"Selection\"},\"selection_policy\":{\"id\":\"2658\",\"type\":\"UnionRenderers\"}},\"id\":\"2611\",\"type\":\"ColumnDataSource\"},{\"attributes\":{},\"id\":\"2657\",\"type\":\"Selection\"},{\"attributes\":{\"formatter\":{\"id\":\"2565\",\"type\":\"BasicTickFormatter\"},\"plot\":{\"id\":\"2494\",\"subtype\":\"Figure\",\"type\":\"Plot\"},\"ticker\":{\"id\":\"2509\",\"type\":\"BasicTicker\"}},\"id\":\"2508\",\"type\":\"LinearAxis\"},{\"attributes\":{},\"id\":\"2509\",\"type\":\"BasicTicker\"},{\"attributes\":{\"dimension\":1,\"plot\":{\"id\":\"2494\",\"subtype\":\"Figure\",\"type\":\"Plot\"},\"ticker\":{\"id\":\"2509\",\"type\":\"BasicTicker\"}},\"id\":\"2512\",\"type\":\"Grid\"},{\"attributes\":{},\"id\":\"2658\",\"type\":\"UnionRenderers\"},{\"attributes\":{\"plot\":null,\"text\":\"\"},\"id\":\"2563\",\"type\":\"Title\"},{\"attributes\":{},\"id\":\"2513\",\"type\":\"PanTool\"},{\"attributes\":{\"fill_color\":{\"value\":\"#1f77b4\"},\"line_color\":{\"value\":\"#1f77b4\"},\"size\":{\"units\":\"screen\",\"value\":10},\"x\":{\"field\":\"x\"},\"y\":{\"field\":\"y\"}},\"id\":\"2612\",\"type\":\"Circle\"},{\"attributes\":{},\"id\":\"2514\",\"type\":\"WheelZoomTool\"},{\"attributes\":{\"overlay\":{\"id\":\"2521\",\"type\":\"BoxAnnotation\"}},\"id\":\"2515\",\"type\":\"BoxZoomTool\"},{\"attributes\":{\"fill_alpha\":{\"value\":0.1},\"fill_color\":{\"value\":\"#1f77b4\"},\"line_alpha\":{\"value\":0.1},\"line_color\":{\"value\":\"#1f77b4\"},\"size\":{\"units\":\"screen\",\"value\":10},\"x\":{\"field\":\"x\"},\"y\":{\"field\":\"y\"}},\"id\":\"2613\",\"type\":\"Circle\"},{\"attributes\":{},\"id\":\"2516\",\"type\":\"SaveTool\"},{\"attributes\":{},\"id\":\"2517\",\"type\":\"ResetTool\"},{\"attributes\":{},\"id\":\"2518\",\"type\":\"HelpTool\"},{\"attributes\":{\"callback\":null},\"id\":\"2495\",\"type\":\"DataRange1d\"},{\"attributes\":{\"active_drag\":\"auto\",\"active_inspect\":\"auto\",\"active_multi\":null,\"active_scroll\":\"auto\",\"active_tap\":\"auto\",\"tools\":[{\"id\":\"2513\",\"type\":\"PanTool\"},{\"id\":\"2514\",\"type\":\"WheelZoomTool\"},{\"id\":\"2515\",\"type\":\"BoxZoomTool\"},{\"id\":\"2516\",\"type\":\"SaveTool\"},{\"id\":\"2517\",\"type\":\"ResetTool\"},{\"id\":\"2518\",\"type\":\"HelpTool\"}]},\"id\":\"2519\",\"type\":\"Toolbar\"},{\"attributes\":{\"callback\":null},\"id\":\"2497\",\"type\":\"DataRange1d\"},{\"attributes\":{},\"id\":\"2565\",\"type\":\"BasicTickFormatter\"},{\"attributes\":{},\"id\":\"2499\",\"type\":\"LinearScale\"},{\"attributes\":{\"bottom_units\":\"screen\",\"fill_alpha\":{\"value\":0.5},\"fill_color\":{\"value\":\"lightgrey\"},\"left_units\":\"screen\",\"level\":\"overlay\",\"line_alpha\":{\"value\":1.0},\"line_color\":{\"value\":\"black\"},\"line_dash\":[4,4],\"line_width\":{\"value\":2},\"plot\":null,\"render_mode\":\"css\",\"right_units\":\"screen\",\"top_units\":\"screen\"},\"id\":\"2521\",\"type\":\"BoxAnnotation\"},{\"attributes\":{\"source\":{\"id\":\"2611\",\"type\":\"ColumnDataSource\"}},\"id\":\"2615\",\"type\":\"CDSView\"},{\"attributes\":{},\"id\":\"2501\",\"type\":\"LinearScale\"},{\"attributes\":{},\"id\":\"2567\",\"type\":\"BasicTickFormatter\"},{\"attributes\":{\"formatter\":{\"id\":\"2567\",\"type\":\"BasicTickFormatter\"},\"plot\":{\"id\":\"2494\",\"subtype\":\"Figure\",\"type\":\"Plot\"},\"ticker\":{\"id\":\"2504\",\"type\":\"BasicTicker\"}},\"id\":\"2503\",\"type\":\"LinearAxis\"},{\"attributes\":{\"data_source\":{\"id\":\"2611\",\"type\":\"ColumnDataSource\"},\"glyph\":{\"id\":\"2612\",\"type\":\"Circle\"},\"hover_glyph\":null,\"muted_glyph\":null,\"nonselection_glyph\":{\"id\":\"2613\",\"type\":\"Circle\"},\"selection_glyph\":null,\"view\":{\"id\":\"2615\",\"type\":\"CDSView\"}},\"id\":\"2614\",\"type\":\"GlyphRenderer\"},{\"attributes\":{},\"id\":\"2504\",\"type\":\"BasicTicker\"},{\"attributes\":{\"plot\":{\"id\":\"2494\",\"subtype\":\"Figure\",\"type\":\"Plot\"},\"ticker\":{\"id\":\"2504\",\"type\":\"BasicTicker\"}},\"id\":\"2507\",\"type\":\"Grid\"}],\"root_ids\":[\"2494\"]},\"title\":\"Bokeh Application\",\"version\":\"1.0.4\"}};\n",
       "  var render_items = [{\"docid\":\"a1cbf73c-baac-4ae6-8635-c3300fa0f1c9\",\"roots\":{\"2494\":\"9023f243-b361-48ba-aee5-fc5bdcbe8bbd\"}}];\n",
       "  root.Bokeh.embed.embed_items_notebook(docs_json, render_items);\n",
       "\n",
       "  }\n",
       "  if (root.Bokeh !== undefined) {\n",
       "    embed_document(root);\n",
       "  } else {\n",
       "    var attempts = 0;\n",
       "    var timer = setInterval(function(root) {\n",
       "      if (root.Bokeh !== undefined) {\n",
       "        clearInterval(timer);\n",
       "        embed_document(root);\n",
       "      } else {\n",
       "        attempts++;\n",
       "        if (attempts > 100) {\n",
       "          clearInterval(timer);\n",
       "          console.log(\"Bokeh: ERROR: Unable to run BokehJS code because BokehJS library is missing\");\n",
       "        }\n",
       "      }\n",
       "    }, 10, root)\n",
       "  }\n",
       "})(window);"
      ],
      "application/vnd.bokehjs_exec.v0+json": ""
     },
     "metadata": {
      "application/vnd.bokehjs_exec.v0+json": {
       "id": "2494"
      }
     },
     "output_type": "display_data"
    }
   ],
   "source": [
    "x = [0,1,2,3,4,5]\n",
    "y = [0,1,2,3,4,5]\n",
    "p.circle(x, y, size=10)\n",
    "show(p)"
   ]
  },
  {
   "cell_type": "code",
   "execution_count": 6,
   "metadata": {},
   "outputs": [
    {
     "data": {
      "text/html": [
       "<div>\n",
       "<style scoped>\n",
       "    .dataframe tbody tr th:only-of-type {\n",
       "        vertical-align: middle;\n",
       "    }\n",
       "\n",
       "    .dataframe tbody tr th {\n",
       "        vertical-align: top;\n",
       "    }\n",
       "\n",
       "    .dataframe thead th {\n",
       "        text-align: right;\n",
       "    }\n",
       "</style>\n",
       "<table border=\"1\" class=\"dataframe\">\n",
       "  <thead>\n",
       "    <tr style=\"text-align: right;\">\n",
       "      <th></th>\n",
       "      <th>total_bill</th>\n",
       "      <th>tip</th>\n",
       "      <th>sex</th>\n",
       "      <th>smoker</th>\n",
       "      <th>day</th>\n",
       "      <th>time</th>\n",
       "      <th>size</th>\n",
       "    </tr>\n",
       "  </thead>\n",
       "  <tbody>\n",
       "    <tr>\n",
       "      <th>0</th>\n",
       "      <td>16.99</td>\n",
       "      <td>1.01</td>\n",
       "      <td>Female</td>\n",
       "      <td>No</td>\n",
       "      <td>Sun</td>\n",
       "      <td>Dinner</td>\n",
       "      <td>2</td>\n",
       "    </tr>\n",
       "    <tr>\n",
       "      <th>1</th>\n",
       "      <td>10.34</td>\n",
       "      <td>1.66</td>\n",
       "      <td>Male</td>\n",
       "      <td>No</td>\n",
       "      <td>Sun</td>\n",
       "      <td>Dinner</td>\n",
       "      <td>3</td>\n",
       "    </tr>\n",
       "    <tr>\n",
       "      <th>2</th>\n",
       "      <td>21.01</td>\n",
       "      <td>3.50</td>\n",
       "      <td>Male</td>\n",
       "      <td>No</td>\n",
       "      <td>Sun</td>\n",
       "      <td>Dinner</td>\n",
       "      <td>3</td>\n",
       "    </tr>\n",
       "  </tbody>\n",
       "</table>\n",
       "</div>"
      ],
      "text/plain": [
       "   total_bill   tip     sex smoker  day    time  size\n",
       "0       16.99  1.01  Female     No  Sun  Dinner     2\n",
       "1       10.34  1.66    Male     No  Sun  Dinner     3\n",
       "2       21.01  3.50    Male     No  Sun  Dinner     3"
      ]
     },
     "execution_count": 6,
     "metadata": {},
     "output_type": "execute_result"
    }
   ],
   "source": [
    "# seaborn과 비교해보기 (내가 그냥 해본 것!)\n",
    "import seaborn as sns\n",
    "tips = sns.load_dataset('tips')\n",
    "tips.head(3)"
   ]
  },
  {
   "cell_type": "code",
   "execution_count": 7,
   "metadata": {},
   "outputs": [
    {
     "data": {
      "text/plain": [
       "<seaborn.axisgrid.FacetGrid at 0x1c89e175f98>"
      ]
     },
     "execution_count": 7,
     "metadata": {},
     "output_type": "execute_result"
    },
    {
     "data": {
      "image/png": "[encoded data removed]",
      "text/plain": [
       "<Figure size 360x360 with 1 Axes>"
      ]
     },
     "metadata": {
      "needs_background": "light"
     },
     "output_type": "display_data"
    }
   ],
   "source": [
    "sns.relplot(x='total_bill', y='tip', data=tips)"
   ]
  },
  {
   "cell_type": "code",
   "execution_count": 8,
   "metadata": {},
   "outputs": [
    {
     "data": {
      "text/html": [
       "\n",
       "\n",
       "\n",
       "\n",
       "\n",
       "\n",
       "  <div class=\"bk-root\" id=\"b234b145-03e9-4d95-839c-ca77653ef63f\" data-root-id=\"1002\"></div>\n"
      ]
     },
     "metadata": {},
     "output_type": "display_data"
    },
    {
     "data": {
      "application/javascript": [
       "(function(root) {\n",
       "  function embed_document(root) {\n",
       "    \n",
       "  var docs_json = {\"51a9c38a-1632-4326-adae-b4efbfad91bc\":{\"roots\":{\"references\":[{\"attributes\":{\"below\":[{\"id\":\"1011\",\"type\":\"LinearAxis\"}],\"left\":[{\"id\":\"1016\",\"type\":\"LinearAxis\"}],\"plot_height\":400,\"plot_width\":800,\"renderers\":[{\"id\":\"1011\",\"type\":\"LinearAxis\"},{\"id\":\"1015\",\"type\":\"Grid\"},{\"id\":\"1016\",\"type\":\"LinearAxis\"},{\"id\":\"1020\",\"type\":\"Grid\"},{\"id\":\"1029\",\"type\":\"BoxAnnotation\"},{\"id\":\"1088\",\"type\":\"GlyphRenderer\"},{\"id\":\"1156\",\"type\":\"GlyphRenderer\"}],\"title\":{\"id\":\"1037\",\"type\":\"Title\"},\"toolbar\":{\"id\":\"1027\",\"type\":\"Toolbar\"},\"x_range\":{\"id\":\"1003\",\"type\":\"DataRange1d\"},\"x_scale\":{\"id\":\"1007\",\"type\":\"LinearScale\"},\"y_range\":{\"id\":\"1005\",\"type\":\"DataRange1d\"},\"y_scale\":{\"id\":\"1009\",\"type\":\"LinearScale\"}},\"id\":\"1002\",\"subtype\":\"Figure\",\"type\":\"Plot\"},{\"attributes\":{\"active_drag\":\"auto\",\"active_inspect\":\"auto\",\"active_multi\":null,\"active_scroll\":\"auto\",\"active_tap\":\"auto\",\"tools\":[{\"id\":\"1021\",\"type\":\"PanTool\"},{\"id\":\"1022\",\"type\":\"WheelZoomTool\"},{\"id\":\"1023\",\"type\":\"BoxZoomTool\"},{\"id\":\"1024\",\"type\":\"SaveTool\"},{\"id\":\"1025\",\"type\":\"ResetTool\"},{\"id\":\"1026\",\"type\":\"HelpTool\"}]},\"id\":\"1027\",\"type\":\"Toolbar\"},{\"attributes\":{\"fill_alpha\":{\"value\":0.1},\"fill_color\":{\"value\":\"#1f77b4\"},\"line_alpha\":{\"value\":0.1},\"line_color\":{\"value\":\"#1f77b4\"},\"size\":{\"units\":\"screen\",\"value\":10},\"x\":{\"field\":\"x\"},\"y\":{\"field\":\"y\"}},\"id\":\"1087\",\"type\":\"Circle\"},{\"attributes\":{\"bottom_units\":\"screen\",\"fill_alpha\":{\"value\":0.5},\"fill_color\":{\"value\":\"lightgrey\"},\"left_units\":\"screen\",\"level\":\"overlay\",\"line_alpha\":{\"value\":1.0},\"line_color\":{\"value\":\"black\"},\"line_dash\":[4,4],\"line_width\":{\"value\":2},\"plot\":null,\"render_mode\":\"css\",\"right_units\":\"screen\",\"top_units\":\"screen\"},\"id\":\"1029\",\"type\":\"BoxAnnotation\"},{\"attributes\":{\"formatter\":{\"id\":\"1039\",\"type\":\"BasicTickFormatter\"},\"plot\":{\"id\":\"1002\",\"subtype\":\"Figure\",\"type\":\"Plot\"},\"ticker\":{\"id\":\"1017\",\"type\":\"BasicTicker\"}},\"id\":\"1016\",\"type\":\"LinearAxis\"},{\"attributes\":{},\"id\":\"1017\",\"type\":\"BasicTicker\"},{\"attributes\":{\"fill_color\":{\"value\":\"#1f77b4\"},\"line_color\":{\"value\":\"#1f77b4\"},\"size\":{\"units\":\"screen\",\"value\":10},\"x\":{\"field\":\"x\"},\"y\":{\"field\":\"y\"}},\"id\":\"1086\",\"type\":\"Circle\"},{\"attributes\":{\"plot\":null,\"text\":\"\"},\"id\":\"1037\",\"type\":\"Title\"},{\"attributes\":{},\"id\":\"1039\",\"type\":\"BasicTickFormatter\"},{\"attributes\":{\"dimension\":1,\"plot\":{\"id\":\"1002\",\"subtype\":\"Figure\",\"type\":\"Plot\"},\"ticker\":{\"id\":\"1017\",\"type\":\"BasicTicker\"}},\"id\":\"1020\",\"type\":\"Grid\"},{\"attributes\":{},\"id\":\"1041\",\"type\":\"BasicTickFormatter\"},{\"attributes\":{\"formatter\":{\"id\":\"1041\",\"type\":\"BasicTickFormatter\"},\"plot\":{\"id\":\"1002\",\"subtype\":\"Figure\",\"type\":\"Plot\"},\"ticker\":{\"id\":\"1012\",\"type\":\"BasicTicker\"}},\"id\":\"1011\",\"type\":\"LinearAxis\"},{\"attributes\":{},\"id\":\"1009\",\"type\":\"LinearScale\"},{\"attributes\":{\"fill_color\":{\"value\":\"#1f77b4\"},\"line_color\":{\"value\":\"#1f77b4\"},\"size\":{\"units\":\"screen\",\"value\":10},\"x\":{\"field\":\"x\"},\"y\":{\"field\":\"y\"}},\"id\":\"1154\",\"type\":\"Circle\"},{\"attributes\":{},\"id\":\"1012\",\"type\":\"BasicTicker\"},{\"attributes\":{\"data_source\":{\"id\":\"1153\",\"type\":\"ColumnDataSource\"},\"glyph\":{\"id\":\"1154\",\"type\":\"Circle\"},\"hover_glyph\":null,\"muted_glyph\":null,\"nonselection_glyph\":{\"id\":\"1155\",\"type\":\"Circle\"},\"selection_glyph\":null,\"view\":{\"id\":\"1157\",\"type\":\"CDSView\"}},\"id\":\"1156\",\"type\":\"GlyphRenderer\"},{\"attributes\":{\"plot\":{\"id\":\"1002\",\"subtype\":\"Figure\",\"type\":\"Plot\"},\"ticker\":{\"id\":\"1012\",\"type\":\"BasicTicker\"}},\"id\":\"1015\",\"type\":\"Grid\"},{\"attributes\":{\"source\":{\"id\":\"1153\",\"type\":\"ColumnDataSource\"}},\"id\":\"1157\",\"type\":\"CDSView\"},{\"attributes\":{\"callback\":null,\"data\":{\"x\":{\"__ndarray__\":\"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\",\"dtype\":\"float64\",\"shape\":[244]},\"y\":{\"__ndarray__\":\"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\",\"dtype\":\"float64\",\"shape\":[244]}},\"selected\":{\"id\":\"1167\",\"type\":\"Selection\"},\"selection_policy\":{\"id\":\"1168\",\"type\":\"UnionRenderers\"}},\"id\":\"1153\",\"type\":\"ColumnDataSource\"},{\"attributes\":{},\"id\":\"1167\",\"type\":\"Selection\"},{\"attributes\":{\"callback\":null,\"data\":{\"x\":[0,1,2,3,4,5],\"y\":[0,1,2,3,4,5]},\"selected\":{\"id\":\"1097\",\"type\":\"Selection\"},\"selection_policy\":{\"id\":\"1098\",\"type\":\"UnionRenderers\"}},\"id\":\"1085\",\"type\":\"ColumnDataSource\"},{\"attributes\":{\"fill_alpha\":{\"value\":0.1},\"fill_color\":{\"value\":\"#1f77b4\"},\"line_alpha\":{\"value\":0.1},\"line_color\":{\"value\":\"#1f77b4\"},\"size\":{\"units\":\"screen\",\"value\":10},\"x\":{\"field\":\"x\"},\"y\":{\"field\":\"y\"}},\"id\":\"1155\",\"type\":\"Circle\"},{\"attributes\":{},\"id\":\"1168\",\"type\":\"UnionRenderers\"},{\"attributes\":{},\"id\":\"1021\",\"type\":\"PanTool\"},{\"attributes\":{\"data_source\":{\"id\":\"1085\",\"type\":\"ColumnDataSource\"},\"glyph\":{\"id\":\"1086\",\"type\":\"Circle\"},\"hover_glyph\":null,\"muted_glyph\":null,\"nonselection_glyph\":{\"id\":\"1087\",\"type\":\"Circle\"},\"selection_glyph\":null,\"view\":{\"id\":\"1089\",\"type\":\"CDSView\"}},\"id\":\"1088\",\"type\":\"GlyphRenderer\"},{\"attributes\":{},\"id\":\"1022\",\"type\":\"WheelZoomTool\"},{\"attributes\":{\"callback\":null},\"id\":\"1003\",\"type\":\"DataRange1d\"},{\"attributes\":{\"source\":{\"id\":\"1085\",\"type\":\"ColumnDataSource\"}},\"id\":\"1089\",\"type\":\"CDSView\"},{\"attributes\":{\"overlay\":{\"id\":\"1029\",\"type\":\"BoxAnnotation\"}},\"id\":\"1023\",\"type\":\"BoxZoomTool\"},{\"attributes\":{\"callback\":null},\"id\":\"1005\",\"type\":\"DataRange1d\"},{\"attributes\":{},\"id\":\"1024\",\"type\":\"SaveTool\"},{\"attributes\":{},\"id\":\"1097\",\"type\":\"Selection\"},{\"attributes\":{},\"id\":\"1007\",\"type\":\"LinearScale\"},{\"attributes\":{},\"id\":\"1025\",\"type\":\"ResetTool\"},{\"attributes\":{},\"id\":\"1098\",\"type\":\"UnionRenderers\"},{\"attributes\":{},\"id\":\"1026\",\"type\":\"HelpTool\"}],\"root_ids\":[\"1002\"]},\"title\":\"Bokeh Application\",\"version\":\"1.0.4\"}};\n",
       "  var render_items = [{\"docid\":\"51a9c38a-1632-4326-adae-b4efbfad91bc\",\"roots\":{\"1002\":\"b234b145-03e9-4d95-839c-ca77653ef63f\"}}];\n",
       "  root.Bokeh.embed.embed_items_notebook(docs_json, render_items);\n",
       "\n",
       "  }\n",
       "  if (root.Bokeh !== undefined) {\n",
       "    embed_document(root);\n",
       "  } else {\n",
       "    var attempts = 0;\n",
       "    var timer = setInterval(function(root) {\n",
       "      if (root.Bokeh !== undefined) {\n",
       "        embed_document(root);\n",
       "        clearInterval(timer);\n",
       "      }\n",
       "      attempts++;\n",
       "      if (attempts > 100) {\n",
       "        console.log(\"Bokeh: ERROR: Unable to run BokehJS code because BokehJS library is missing\");\n",
       "        clearInterval(timer);\n",
       "      }\n",
       "    }, 10, root)\n",
       "  }\n",
       "})(window);"
      ],
      "application/vnd.bokehjs_exec.v0+json": ""
     },
     "metadata": {
      "application/vnd.bokehjs_exec.v0+json": {
       "id": "1002"
      }
     },
     "output_type": "display_data"
    }
   ],
   "source": [
    "p.circle(tips['total_bill'], tips['tip'], size=10)\n",
    "show(p)"
   ]
  },
  {
   "cell_type": "code",
   "execution_count": 14,
   "metadata": {},
   "outputs": [
    {
     "data": {
      "text/html": [
       "\n",
       "\n",
       "\n",
       "\n",
       "\n",
       "\n",
       "  <div class=\"bk-root\" id=\"caf06511-285a-445d-a7b8-d18fcd672221\" data-root-id=\"1409\"></div>\n"
      ]
     },
     "metadata": {},
     "output_type": "display_data"
    },
    {
     "data": {
      "application/javascript": [
       "(function(root) {\n",
       "  function embed_document(root) {\n",
       "    \n",
       "  var docs_json = {\"ef382b08-ec6c-47ca-a46e-9717475fc3ba\":{\"roots\":{\"references\":[{\"attributes\":{\"below\":[{\"id\":\"1418\",\"type\":\"LinearAxis\"}],\"left\":[{\"id\":\"1423\",\"type\":\"LinearAxis\"}],\"plot_height\":400,\"plot_width\":800,\"renderers\":[{\"id\":\"1418\",\"type\":\"LinearAxis\"},{\"id\":\"1422\",\"type\":\"Grid\"},{\"id\":\"1423\",\"type\":\"LinearAxis\"},{\"id\":\"1427\",\"type\":\"Grid\"},{\"id\":\"1436\",\"type\":\"BoxAnnotation\"},{\"id\":\"1508\",\"type\":\"GlyphRenderer\"},{\"id\":\"1589\",\"type\":\"GlyphRenderer\"}],\"title\":{\"id\":\"1457\",\"type\":\"Title\"},\"toolbar\":{\"id\":\"1434\",\"type\":\"Toolbar\"},\"x_range\":{\"id\":\"1410\",\"type\":\"DataRange1d\"},\"x_scale\":{\"id\":\"1414\",\"type\":\"LinearScale\"},\"y_range\":{\"id\":\"1412\",\"type\":\"DataRange1d\"},\"y_scale\":{\"id\":\"1416\",\"type\":\"LinearScale\"}},\"id\":\"1409\",\"subtype\":\"Figure\",\"type\":\"Plot\"},{\"attributes\":{},\"id\":\"1459\",\"type\":\"BasicTickFormatter\"},{\"attributes\":{\"callback\":null,\"data\":{\"x\":[0,1,2,3,4,5],\"y\":[0,1,2,3,4,5]},\"selected\":{\"id\":\"1613\",\"type\":\"Selection\"},\"selection_policy\":{\"id\":\"1614\",\"type\":\"UnionRenderers\"}},\"id\":\"1586\",\"type\":\"ColumnDataSource\"},{\"attributes\":{},\"id\":\"1431\",\"type\":\"SaveTool\"},{\"attributes\":{\"fill_alpha\":{\"value\":0.1},\"fill_color\":{\"value\":\"#1f77b4\"},\"line_alpha\":{\"value\":0.1},\"line_color\":{\"value\":\"#1f77b4\"},\"size\":{\"units\":\"screen\",\"value\":10},\"x\":{\"field\":\"x\"},\"y\":{\"field\":\"y\"}},\"id\":\"1507\",\"type\":\"Circle\"},{\"attributes\":{\"bottom_units\":\"screen\",\"fill_alpha\":{\"value\":0.5},\"fill_color\":{\"value\":\"lightgrey\"},\"left_units\":\"screen\",\"level\":\"overlay\",\"line_alpha\":{\"value\":1.0},\"line_color\":{\"value\":\"black\"},\"line_dash\":[4,4],\"line_width\":{\"value\":2},\"plot\":null,\"render_mode\":\"css\",\"right_units\":\"screen\",\"top_units\":\"screen\"},\"id\":\"1436\",\"type\":\"BoxAnnotation\"},{\"attributes\":{\"source\":{\"id\":\"1586\",\"type\":\"ColumnDataSource\"}},\"id\":\"1590\",\"type\":\"CDSView\"},{\"attributes\":{\"overlay\":{\"id\":\"1436\",\"type\":\"BoxAnnotation\"}},\"id\":\"1430\",\"type\":\"BoxZoomTool\"},{\"attributes\":{},\"id\":\"1530\",\"type\":\"Selection\"},{\"attributes\":{\"data_source\":{\"id\":\"1586\",\"type\":\"ColumnDataSource\"},\"glyph\":{\"id\":\"1587\",\"type\":\"Circle\"},\"hover_glyph\":null,\"muted_glyph\":null,\"nonselection_glyph\":{\"id\":\"1588\",\"type\":\"Circle\"},\"selection_glyph\":null,\"view\":{\"id\":\"1590\",\"type\":\"CDSView\"}},\"id\":\"1589\",\"type\":\"GlyphRenderer\"},{\"attributes\":{\"data_source\":{\"id\":\"1505\",\"type\":\"ColumnDataSource\"},\"glyph\":{\"id\":\"1506\",\"type\":\"Circle\"},\"hover_glyph\":null,\"muted_glyph\":null,\"nonselection_glyph\":{\"id\":\"1507\",\"type\":\"Circle\"},\"selection_glyph\":null,\"view\":{\"id\":\"1509\",\"type\":\"CDSView\"}},\"id\":\"1508\",\"type\":\"GlyphRenderer\"},{\"attributes\":{\"source\":{\"id\":\"1505\",\"type\":\"ColumnDataSource\"}},\"id\":\"1509\",\"type\":\"CDSView\"},{\"attributes\":{},\"id\":\"1613\",\"type\":\"Selection\"},{\"attributes\":{\"active_drag\":\"auto\",\"active_inspect\":\"auto\",\"active_multi\":null,\"active_scroll\":\"auto\",\"active_tap\":\"auto\",\"tools\":[{\"id\":\"1428\",\"type\":\"PanTool\"},{\"id\":\"1429\",\"type\":\"WheelZoomTool\"},{\"id\":\"1430\",\"type\":\"BoxZoomTool\"},{\"id\":\"1431\",\"type\":\"SaveTool\"},{\"id\":\"1432\",\"type\":\"ResetTool\"},{\"id\":\"1433\",\"type\":\"HelpTool\"}]},\"id\":\"1434\",\"type\":\"Toolbar\"},{\"attributes\":{\"formatter\":{\"id\":\"1461\",\"type\":\"BasicTickFormatter\"},\"plot\":{\"id\":\"1409\",\"subtype\":\"Figure\",\"type\":\"Plot\"},\"ticker\":{\"id\":\"1419\",\"type\":\"BasicTicker\"}},\"id\":\"1418\",\"type\":\"LinearAxis\"},{\"attributes\":{\"fill_alpha\":{\"value\":0.1},\"fill_color\":{\"value\":\"#1f77b4\"},\"line_alpha\":{\"value\":0.1},\"line_color\":{\"value\":\"#1f77b4\"},\"size\":{\"units\":\"screen\",\"value\":10},\"x\":{\"field\":\"x\"},\"y\":{\"field\":\"y\"}},\"id\":\"1588\",\"type\":\"Circle\"},{\"attributes\":{},\"id\":\"1461\",\"type\":\"BasicTickFormatter\"},{\"attributes\":{\"callback\":null,\"data\":{\"x\":[0,1,2,3,4,5],\"y\":[0,1,2,3,4,5]},\"selected\":{\"id\":\"1530\",\"type\":\"Selection\"},\"selection_policy\":{\"id\":\"1531\",\"type\":\"UnionRenderers\"}},\"id\":\"1505\",\"type\":\"ColumnDataSource\"},{\"attributes\":{},\"id\":\"1424\",\"type\":\"BasicTicker\"},{\"attributes\":{},\"id\":\"1428\",\"type\":\"PanTool\"},{\"attributes\":{\"fill_color\":{\"value\":\"brown\"},\"line_color\":{\"value\":\"orange\"},\"size\":{\"units\":\"screen\",\"value\":10},\"x\":{\"field\":\"x\"},\"y\":{\"field\":\"y\"}},\"id\":\"1587\",\"type\":\"Circle\"},{\"attributes\":{},\"id\":\"1531\",\"type\":\"UnionRenderers\"},{\"attributes\":{},\"id\":\"1416\",\"type\":\"LinearScale\"},{\"attributes\":{\"formatter\":{\"id\":\"1459\",\"type\":\"BasicTickFormatter\"},\"plot\":{\"id\":\"1409\",\"subtype\":\"Figure\",\"type\":\"Plot\"},\"ticker\":{\"id\":\"1424\",\"type\":\"BasicTicker\"}},\"id\":\"1423\",\"type\":\"LinearAxis\"},{\"attributes\":{\"dimension\":1,\"plot\":{\"id\":\"1409\",\"subtype\":\"Figure\",\"type\":\"Plot\"},\"ticker\":{\"id\":\"1424\",\"type\":\"BasicTicker\"}},\"id\":\"1427\",\"type\":\"Grid\"},{\"attributes\":{},\"id\":\"1429\",\"type\":\"WheelZoomTool\"},{\"attributes\":{\"callback\":null},\"id\":\"1410\",\"type\":\"DataRange1d\"},{\"attributes\":{},\"id\":\"1419\",\"type\":\"BasicTicker\"},{\"attributes\":{\"callback\":null},\"id\":\"1412\",\"type\":\"DataRange1d\"},{\"attributes\":{\"fill_color\":{\"value\":\"#1f77b4\"},\"line_color\":{\"value\":\"#1f77b4\"},\"size\":{\"units\":\"screen\",\"value\":10},\"x\":{\"field\":\"x\"},\"y\":{\"field\":\"y\"}},\"id\":\"1506\",\"type\":\"Circle\"},{\"attributes\":{\"plot\":null,\"text\":\"\"},\"id\":\"1457\",\"type\":\"Title\"},{\"attributes\":{},\"id\":\"1433\",\"type\":\"HelpTool\"},{\"attributes\":{},\"id\":\"1414\",\"type\":\"LinearScale\"},{\"attributes\":{\"plot\":{\"id\":\"1409\",\"subtype\":\"Figure\",\"type\":\"Plot\"},\"ticker\":{\"id\":\"1419\",\"type\":\"BasicTicker\"}},\"id\":\"1422\",\"type\":\"Grid\"},{\"attributes\":{},\"id\":\"1614\",\"type\":\"UnionRenderers\"},{\"attributes\":{},\"id\":\"1432\",\"type\":\"ResetTool\"}],\"root_ids\":[\"1409\"]},\"title\":\"Bokeh Application\",\"version\":\"1.0.4\"}};\n",
       "  var render_items = [{\"docid\":\"ef382b08-ec6c-47ca-a46e-9717475fc3ba\",\"roots\":{\"1409\":\"caf06511-285a-445d-a7b8-d18fcd672221\"}}];\n",
       "  root.Bokeh.embed.embed_items_notebook(docs_json, render_items);\n",
       "\n",
       "  }\n",
       "  if (root.Bokeh !== undefined) {\n",
       "    embed_document(root);\n",
       "  } else {\n",
       "    var attempts = 0;\n",
       "    var timer = setInterval(function(root) {\n",
       "      if (root.Bokeh !== undefined) {\n",
       "        embed_document(root);\n",
       "        clearInterval(timer);\n",
       "      }\n",
       "      attempts++;\n",
       "      if (attempts > 100) {\n",
       "        console.log(\"Bokeh: ERROR: Unable to run BokehJS code because BokehJS library is missing\");\n",
       "        clearInterval(timer);\n",
       "      }\n",
       "    }, 10, root)\n",
       "  }\n",
       "})(window);"
      ],
      "application/vnd.bokehjs_exec.v0+json": ""
     },
     "metadata": {
      "application/vnd.bokehjs_exec.v0+json": {
       "id": "1409"
      }
     },
     "output_type": "display_data"
    }
   ],
   "source": [
    "p.circle(x, y, size=10, line_color='orange', fill_color='brown')\n",
    "show(p)"
   ]
  },
  {
   "cell_type": "code",
   "execution_count": 19,
   "metadata": {},
   "outputs": [
    {
     "data": {
      "text/html": [
       "\n",
       "\n",
       "\n",
       "\n",
       "\n",
       "\n",
       "  <div class=\"bk-root\" id=\"29fd818b-8aeb-4ca1-9531-98487a329c39\" data-root-id=\"1409\"></div>\n"
      ]
     },
     "metadata": {},
     "output_type": "display_data"
    },
    {
     "data": {
      "application/javascript": [
       "(function(root) {\n",
       "  function embed_document(root) {\n",
       "    \n",
       "  var docs_json = {\"1b06bf83-3bac-45b4-bf4a-5e1d01855640\":{\"roots\":{\"references\":[{\"attributes\":{\"below\":[{\"id\":\"1418\",\"type\":\"LinearAxis\"}],\"left\":[{\"id\":\"1423\",\"type\":\"LinearAxis\"}],\"plot_height\":400,\"plot_width\":800,\"renderers\":[{\"id\":\"1418\",\"type\":\"LinearAxis\"},{\"id\":\"1422\",\"type\":\"Grid\"},{\"id\":\"1423\",\"type\":\"LinearAxis\"},{\"id\":\"1427\",\"type\":\"Grid\"},{\"id\":\"1436\",\"type\":\"BoxAnnotation\"},{\"id\":\"1508\",\"type\":\"GlyphRenderer\"},{\"id\":\"1589\",\"type\":\"GlyphRenderer\"},{\"id\":\"1684\",\"type\":\"GlyphRenderer\"},{\"id\":\"1793\",\"type\":\"GlyphRenderer\"},{\"id\":\"1916\",\"type\":\"GlyphRenderer\"},{\"id\":\"2053\",\"type\":\"GlyphRenderer\"},{\"id\":\"2204\",\"type\":\"GlyphRenderer\"}],\"title\":{\"id\":\"1457\",\"type\":\"Title\"},\"toolbar\":{\"id\":\"1434\",\"type\":\"Toolbar\"},\"x_range\":{\"id\":\"1410\",\"type\":\"DataRange1d\"},\"x_scale\":{\"id\":\"1414\",\"type\":\"LinearScale\"},\"y_range\":{\"id\":\"1412\",\"type\":\"DataRange1d\"},\"y_scale\":{\"id\":\"1416\",\"type\":\"LinearScale\"}},\"id\":\"1409\",\"subtype\":\"Figure\",\"type\":\"Plot\"},{\"attributes\":{\"source\":{\"id\":\"2201\",\"type\":\"ColumnDataSource\"}},\"id\":\"2205\",\"type\":\"CDSView\"},{\"attributes\":{},\"id\":\"1459\",\"type\":\"BasicTickFormatter\"},{\"attributes\":{\"callback\":null,\"data\":{\"x\":[0,1,2,3,4,5],\"y\":[0,1,2,3,4,5]},\"selected\":{\"id\":\"1613\",\"type\":\"Selection\"},\"selection_policy\":{\"id\":\"1614\",\"type\":\"UnionRenderers\"}},\"id\":\"1586\",\"type\":\"ColumnDataSource\"},{\"attributes\":{\"callback\":null,\"data\":{\"x\":[0,1,2,3,4,5],\"y\":[0,1,2,3,4,5]},\"selected\":{\"id\":\"2085\",\"type\":\"Selection\"},\"selection_policy\":{\"id\":\"2086\",\"type\":\"UnionRenderers\"}},\"id\":\"2050\",\"type\":\"ColumnDataSource\"},{\"attributes\":{},\"id\":\"1431\",\"type\":\"SaveTool\"},{\"attributes\":{\"fill_alpha\":{\"value\":0.1},\"fill_color\":{\"value\":\"#1f77b4\"},\"line_alpha\":{\"value\":0.1},\"line_color\":{\"value\":\"#1f77b4\"},\"size\":{\"units\":\"screen\",\"value\":10},\"x\":{\"field\":\"x\"},\"y\":{\"field\":\"y\"}},\"id\":\"1507\",\"type\":\"Circle\"},{\"attributes\":{},\"id\":\"1711\",\"type\":\"UnionRenderers\"},{\"attributes\":{},\"id\":\"2086\",\"type\":\"UnionRenderers\"},{\"attributes\":{\"bottom_units\":\"screen\",\"fill_alpha\":{\"value\":0.5},\"fill_color\":{\"value\":\"lightgrey\"},\"left_units\":\"screen\",\"level\":\"overlay\",\"line_alpha\":{\"value\":1.0},\"line_color\":{\"value\":\"black\"},\"line_dash\":[4,4],\"line_width\":{\"value\":2},\"plot\":null,\"render_mode\":\"css\",\"right_units\":\"screen\",\"top_units\":\"screen\"},\"id\":\"1436\",\"type\":\"BoxAnnotation\"},{\"attributes\":{\"source\":{\"id\":\"1586\",\"type\":\"ColumnDataSource\"}},\"id\":\"1590\",\"type\":\"CDSView\"},{\"attributes\":{},\"id\":\"2239\",\"type\":\"UnionRenderers\"},{\"attributes\":{\"overlay\":{\"id\":\"1436\",\"type\":\"BoxAnnotation\"}},\"id\":\"1430\",\"type\":\"BoxZoomTool\"},{\"attributes\":{\"data_source\":{\"id\":\"1790\",\"type\":\"ColumnDataSource\"},\"glyph\":{\"id\":\"1791\",\"type\":\"Circle\"},\"hover_glyph\":null,\"muted_glyph\":null,\"nonselection_glyph\":{\"id\":\"1792\",\"type\":\"Circle\"},\"selection_glyph\":null,\"view\":{\"id\":\"1794\",\"type\":\"CDSView\"}},\"id\":\"1793\",\"type\":\"GlyphRenderer\"},{\"attributes\":{\"fill_color\":{\"value\":\"blue\"},\"line_color\":{\"value\":\"orange\"},\"size\":{\"units\":\"screen\",\"value\":30},\"x\":{\"field\":\"x\"},\"y\":{\"field\":\"y\"}},\"id\":\"1914\",\"type\":\"Circle\"},{\"attributes\":{\"callback\":null,\"data\":{\"x\":[0,1,2,3,4,5],\"y\":[0,1,2,3,4,5]},\"selected\":{\"id\":\"2238\",\"type\":\"Selection\"},\"selection_policy\":{\"id\":\"2239\",\"type\":\"UnionRenderers\"}},\"id\":\"2201\",\"type\":\"ColumnDataSource\"},{\"attributes\":{\"source\":{\"id\":\"2050\",\"type\":\"ColumnDataSource\"}},\"id\":\"2054\",\"type\":\"CDSView\"},{\"attributes\":{},\"id\":\"1530\",\"type\":\"Selection\"},{\"attributes\":{\"callback\":null,\"data\":{\"x\":[0,1,2,3,4,5],\"y\":[0,1,2,3,4,5]},\"selected\":{\"id\":\"1821\",\"type\":\"Selection\"},\"selection_policy\":{\"id\":\"1822\",\"type\":\"UnionRenderers\"}},\"id\":\"1790\",\"type\":\"ColumnDataSource\"},{\"attributes\":{\"data_source\":{\"id\":\"2050\",\"type\":\"ColumnDataSource\"},\"glyph\":{\"id\":\"2051\",\"type\":\"Circle\"},\"hover_glyph\":null,\"muted_glyph\":null,\"nonselection_glyph\":{\"id\":\"2052\",\"type\":\"Circle\"},\"selection_glyph\":null,\"view\":{\"id\":\"2054\",\"type\":\"CDSView\"}},\"id\":\"2053\",\"type\":\"GlyphRenderer\"},{\"attributes\":{\"data_source\":{\"id\":\"1586\",\"type\":\"ColumnDataSource\"},\"glyph\":{\"id\":\"1587\",\"type\":\"Circle\"},\"hover_glyph\":null,\"muted_glyph\":null,\"nonselection_glyph\":{\"id\":\"1588\",\"type\":\"Circle\"},\"selection_glyph\":null,\"view\":{\"id\":\"1590\",\"type\":\"CDSView\"}},\"id\":\"1589\",\"type\":\"GlyphRenderer\"},{\"attributes\":{\"callback\":null,\"data\":{\"x\":[0,1,2,3,4,5],\"y\":[0,1,2,3,4,5]},\"selected\":{\"id\":\"1946\",\"type\":\"Selection\"},\"selection_policy\":{\"id\":\"1947\",\"type\":\"UnionRenderers\"}},\"id\":\"1913\",\"type\":\"ColumnDataSource\"},{\"attributes\":{},\"id\":\"1821\",\"type\":\"Selection\"},{\"attributes\":{},\"id\":\"2238\",\"type\":\"Selection\"},{\"attributes\":{\"fill_alpha\":{\"value\":0.1},\"fill_color\":{\"value\":\"#1f77b4\"},\"line_alpha\":{\"value\":0.1},\"line_color\":{\"value\":\"#1f77b4\"},\"size\":{\"units\":\"screen\",\"value\":30},\"x\":{\"field\":\"x\"},\"y\":{\"field\":\"y\"}},\"id\":\"1792\",\"type\":\"Circle\"},{\"attributes\":{\"source\":{\"id\":\"1681\",\"type\":\"ColumnDataSource\"}},\"id\":\"1685\",\"type\":\"CDSView\"},{\"attributes\":{},\"id\":\"1946\",\"type\":\"Selection\"},{\"attributes\":{\"data_source\":{\"id\":\"1505\",\"type\":\"ColumnDataSource\"},\"glyph\":{\"id\":\"1506\",\"type\":\"Circle\"},\"hover_glyph\":null,\"muted_glyph\":null,\"nonselection_glyph\":{\"id\":\"1507\",\"type\":\"Circle\"},\"selection_glyph\":null,\"view\":{\"id\":\"1509\",\"type\":\"CDSView\"}},\"id\":\"1508\",\"type\":\"GlyphRenderer\"},{\"attributes\":{\"data_source\":{\"id\":\"2201\",\"type\":\"ColumnDataSource\"},\"glyph\":{\"id\":\"2202\",\"type\":\"Circle\"},\"hover_glyph\":null,\"muted_glyph\":null,\"nonselection_glyph\":{\"id\":\"2203\",\"type\":\"Circle\"},\"selection_glyph\":null,\"view\":{\"id\":\"2205\",\"type\":\"CDSView\"}},\"id\":\"2204\",\"type\":\"GlyphRenderer\"},{\"attributes\":{\"source\":{\"id\":\"1913\",\"type\":\"ColumnDataSource\"}},\"id\":\"1917\",\"type\":\"CDSView\"},{\"attributes\":{},\"id\":\"1947\",\"type\":\"UnionRenderers\"},{\"attributes\":{\"source\":{\"id\":\"1505\",\"type\":\"ColumnDataSource\"}},\"id\":\"1509\",\"type\":\"CDSView\"},{\"attributes\":{\"fill_alpha\":{\"value\":0.1},\"fill_color\":{\"value\":\"#1f77b4\"},\"line_alpha\":{\"value\":0.1},\"line_color\":{\"value\":\"#1f77b4\"},\"size\":{\"units\":\"screen\",\"value\":30},\"x\":{\"field\":\"x\"},\"y\":{\"field\":\"y\"}},\"id\":\"2203\",\"type\":\"Circle\"},{\"attributes\":{\"active_drag\":\"auto\",\"active_inspect\":\"auto\",\"active_multi\":null,\"active_scroll\":\"auto\",\"active_tap\":\"auto\",\"tools\":[{\"id\":\"1428\",\"type\":\"PanTool\"},{\"id\":\"1429\",\"type\":\"WheelZoomTool\"},{\"id\":\"1430\",\"type\":\"BoxZoomTool\"},{\"id\":\"1431\",\"type\":\"SaveTool\"},{\"id\":\"1432\",\"type\":\"ResetTool\"},{\"id\":\"1433\",\"type\":\"HelpTool\"}]},\"id\":\"1434\",\"type\":\"Toolbar\"},{\"attributes\":{\"fill_alpha\":{\"value\":0.1},\"fill_color\":{\"value\":\"#1f77b4\"},\"line_alpha\":{\"value\":0.1},\"line_color\":{\"value\":\"#1f77b4\"},\"size\":{\"units\":\"screen\",\"value\":10},\"x\":{\"field\":\"x\"},\"y\":{\"field\":\"y\"}},\"id\":\"1683\",\"type\":\"Circle\"},{\"attributes\":{},\"id\":\"1613\",\"type\":\"Selection\"},{\"attributes\":{},\"id\":\"1710\",\"type\":\"Selection\"},{\"attributes\":{\"fill_alpha\":{\"value\":0.1},\"fill_color\":{\"value\":\"#1f77b4\"},\"line_alpha\":{\"value\":0.1},\"line_color\":{\"value\":\"#1f77b4\"},\"size\":{\"units\":\"screen\",\"value\":30},\"x\":{\"field\":\"x\"},\"y\":{\"field\":\"y\"}},\"id\":\"2052\",\"type\":\"Circle\"},{\"attributes\":{\"formatter\":{\"id\":\"1461\",\"type\":\"BasicTickFormatter\"},\"plot\":{\"id\":\"1409\",\"subtype\":\"Figure\",\"type\":\"Plot\"},\"ticker\":{\"id\":\"1419\",\"type\":\"BasicTicker\"}},\"id\":\"1418\",\"type\":\"LinearAxis\"},{\"attributes\":{\"fill_alpha\":{\"value\":0.1},\"fill_color\":{\"value\":\"#1f77b4\"},\"line_alpha\":{\"value\":0.1},\"line_color\":{\"value\":\"#1f77b4\"},\"size\":{\"units\":\"screen\",\"value\":10},\"x\":{\"field\":\"x\"},\"y\":{\"field\":\"y\"}},\"id\":\"1588\",\"type\":\"Circle\"},{\"attributes\":{},\"id\":\"1461\",\"type\":\"BasicTickFormatter\"},{\"attributes\":{\"fill_alpha\":{\"value\":0.5},\"fill_color\":{\"value\":\"blue\"},\"line_color\":{\"value\":\"orange\"},\"size\":{\"units\":\"screen\",\"value\":10},\"x\":{\"field\":\"x\"},\"y\":{\"field\":\"y\"}},\"id\":\"1682\",\"type\":\"Circle\"},{\"attributes\":{\"callback\":null,\"data\":{\"x\":[0,1,2,3,4,5],\"y\":[0,1,2,3,4,5]},\"selected\":{\"id\":\"1530\",\"type\":\"Selection\"},\"selection_policy\":{\"id\":\"1531\",\"type\":\"UnionRenderers\"}},\"id\":\"1505\",\"type\":\"ColumnDataSource\"},{\"attributes\":{},\"id\":\"1424\",\"type\":\"BasicTicker\"},{\"attributes\":{\"data_source\":{\"id\":\"1681\",\"type\":\"ColumnDataSource\"},\"glyph\":{\"id\":\"1682\",\"type\":\"Circle\"},\"hover_glyph\":null,\"muted_glyph\":null,\"nonselection_glyph\":{\"id\":\"1683\",\"type\":\"Circle\"},\"selection_glyph\":null,\"view\":{\"id\":\"1685\",\"type\":\"CDSView\"}},\"id\":\"1684\",\"type\":\"GlyphRenderer\"},{\"attributes\":{},\"id\":\"1428\",\"type\":\"PanTool\"},{\"attributes\":{\"fill_color\":{\"value\":\"brown\"},\"line_color\":{\"value\":\"orange\"},\"size\":{\"units\":\"screen\",\"value\":10},\"x\":{\"field\":\"x\"},\"y\":{\"field\":\"y\"}},\"id\":\"1587\",\"type\":\"Circle\"},{\"attributes\":{},\"id\":\"1531\",\"type\":\"UnionRenderers\"},{\"attributes\":{},\"id\":\"1416\",\"type\":\"LinearScale\"},{\"attributes\":{\"formatter\":{\"id\":\"1459\",\"type\":\"BasicTickFormatter\"},\"plot\":{\"id\":\"1409\",\"subtype\":\"Figure\",\"type\":\"Plot\"},\"ticker\":{\"id\":\"1424\",\"type\":\"BasicTicker\"}},\"id\":\"1423\",\"type\":\"LinearAxis\"},{\"attributes\":{\"dimension\":1,\"plot\":{\"id\":\"1409\",\"subtype\":\"Figure\",\"type\":\"Plot\"},\"ticker\":{\"id\":\"1424\",\"type\":\"BasicTicker\"}},\"id\":\"1427\",\"type\":\"Grid\"},{\"attributes\":{\"fill_alpha\":{\"value\":0.2},\"fill_color\":{\"value\":\"blue\"},\"line_color\":{\"value\":\"orange\"},\"size\":{\"units\":\"screen\",\"value\":30},\"x\":{\"field\":\"x\"},\"y\":{\"field\":\"y\"}},\"id\":\"2051\",\"type\":\"Circle\"},{\"attributes\":{},\"id\":\"1429\",\"type\":\"WheelZoomTool\"},{\"attributes\":{\"callback\":null},\"id\":\"1410\",\"type\":\"DataRange1d\"},{\"attributes\":{\"callback\":null,\"data\":{\"x\":[0,1,2,3,4,5],\"y\":[0,1,2,3,4,5]},\"selected\":{\"id\":\"1710\",\"type\":\"Selection\"},\"selection_policy\":{\"id\":\"1711\",\"type\":\"UnionRenderers\"}},\"id\":\"1681\",\"type\":\"ColumnDataSource\"},{\"attributes\":{},\"id\":\"1419\",\"type\":\"BasicTicker\"},{\"attributes\":{\"callback\":null},\"id\":\"1412\",\"type\":\"DataRange1d\"},{\"attributes\":{\"fill_color\":{\"value\":\"#1f77b4\"},\"line_color\":{\"value\":\"#1f77b4\"},\"size\":{\"units\":\"screen\",\"value\":10},\"x\":{\"field\":\"x\"},\"y\":{\"field\":\"y\"}},\"id\":\"1506\",\"type\":\"Circle\"},{\"attributes\":{\"plot\":null,\"text\":\"\"},\"id\":\"1457\",\"type\":\"Title\"},{\"attributes\":{},\"id\":\"1433\",\"type\":\"HelpTool\"},{\"attributes\":{},\"id\":\"1414\",\"type\":\"LinearScale\"},{\"attributes\":{\"fill_alpha\":{\"value\":0.2},\"fill_color\":{\"value\":\"blue\"},\"line_color\":{\"value\":\"orange\"},\"size\":{\"units\":\"screen\",\"value\":30},\"x\":{\"field\":\"x\"},\"y\":{\"field\":\"y\"}},\"id\":\"1791\",\"type\":\"Circle\"},{\"attributes\":{\"plot\":{\"id\":\"1409\",\"subtype\":\"Figure\",\"type\":\"Plot\"},\"ticker\":{\"id\":\"1419\",\"type\":\"BasicTicker\"}},\"id\":\"1422\",\"type\":\"Grid\"},{\"attributes\":{\"data_source\":{\"id\":\"1913\",\"type\":\"ColumnDataSource\"},\"glyph\":{\"id\":\"1914\",\"type\":\"Circle\"},\"hover_glyph\":null,\"muted_glyph\":null,\"nonselection_glyph\":{\"id\":\"1915\",\"type\":\"Circle\"},\"selection_glyph\":null,\"view\":{\"id\":\"1917\",\"type\":\"CDSView\"}},\"id\":\"1916\",\"type\":\"GlyphRenderer\"},{\"attributes\":{\"source\":{\"id\":\"1790\",\"type\":\"ColumnDataSource\"}},\"id\":\"1794\",\"type\":\"CDSView\"},{\"attributes\":{\"fill_color\":{\"value\":\"blue\"},\"line_color\":{\"value\":\"orange\"},\"size\":{\"units\":\"screen\",\"value\":30},\"x\":{\"field\":\"x\"},\"y\":{\"field\":\"y\"}},\"id\":\"2202\",\"type\":\"Circle\"},{\"attributes\":{},\"id\":\"1614\",\"type\":\"UnionRenderers\"},{\"attributes\":{},\"id\":\"1432\",\"type\":\"ResetTool\"},{\"attributes\":{\"fill_alpha\":{\"value\":0.1},\"fill_color\":{\"value\":\"#1f77b4\"},\"line_alpha\":{\"value\":0.1},\"line_color\":{\"value\":\"#1f77b4\"},\"size\":{\"units\":\"screen\",\"value\":30},\"x\":{\"field\":\"x\"},\"y\":{\"field\":\"y\"}},\"id\":\"1915\",\"type\":\"Circle\"},{\"attributes\":{},\"id\":\"1822\",\"type\":\"UnionRenderers\"},{\"attributes\":{},\"id\":\"2085\",\"type\":\"Selection\"}],\"root_ids\":[\"1409\"]},\"title\":\"Bokeh Application\",\"version\":\"1.0.4\"}};\n",
       "  var render_items = [{\"docid\":\"1b06bf83-3bac-45b4-bf4a-5e1d01855640\",\"roots\":{\"1409\":\"29fd818b-8aeb-4ca1-9531-98487a329c39\"}}];\n",
       "  root.Bokeh.embed.embed_items_notebook(docs_json, render_items);\n",
       "\n",
       "  }\n",
       "  if (root.Bokeh !== undefined) {\n",
       "    embed_document(root);\n",
       "  } else {\n",
       "    var attempts = 0;\n",
       "    var timer = setInterval(function(root) {\n",
       "      if (root.Bokeh !== undefined) {\n",
       "        embed_document(root);\n",
       "        clearInterval(timer);\n",
       "      }\n",
       "      attempts++;\n",
       "      if (attempts > 100) {\n",
       "        console.log(\"Bokeh: ERROR: Unable to run BokehJS code because BokehJS library is missing\");\n",
       "        clearInterval(timer);\n",
       "      }\n",
       "    }, 10, root)\n",
       "  }\n",
       "})(window);"
      ],
      "application/vnd.bokehjs_exec.v0+json": ""
     },
     "metadata": {
      "application/vnd.bokehjs_exec.v0+json": {
       "id": "1409"
      }
     },
     "output_type": "display_data"
    }
   ],
   "source": [
    "p.circle(x, y, size=30, line_color='orange', fill_color='blue')\n",
    "show(p)"
   ]
  },
  {
   "cell_type": "code",
   "execution_count": 20,
   "metadata": {},
   "outputs": [
    {
     "data": {
      "text/html": [
       "\n",
       "\n",
       "\n",
       "\n",
       "\n",
       "\n",
       "  <div class=\"bk-root\" id=\"3afcd768-d72a-43ec-a59a-2c360e07f61e\" data-root-id=\"1409\"></div>\n"
      ]
     },
     "metadata": {},
     "output_type": "display_data"
    },
    {
     "data": {
      "application/javascript": [
       "(function(root) {\n",
       "  function embed_document(root) {\n",
       "    \n",
       "  var docs_json = {\"77c6d522-bf14-405f-a328-5570d142cdec\":{\"roots\":{\"references\":[{\"attributes\":{\"below\":[{\"id\":\"1418\",\"type\":\"LinearAxis\"}],\"left\":[{\"id\":\"1423\",\"type\":\"LinearAxis\"}],\"plot_height\":400,\"plot_width\":800,\"renderers\":[{\"id\":\"1418\",\"type\":\"LinearAxis\"},{\"id\":\"1422\",\"type\":\"Grid\"},{\"id\":\"1423\",\"type\":\"LinearAxis\"},{\"id\":\"1427\",\"type\":\"Grid\"},{\"id\":\"1436\",\"type\":\"BoxAnnotation\"},{\"id\":\"1508\",\"type\":\"GlyphRenderer\"},{\"id\":\"1589\",\"type\":\"GlyphRenderer\"},{\"id\":\"1684\",\"type\":\"GlyphRenderer\"},{\"id\":\"1793\",\"type\":\"GlyphRenderer\"},{\"id\":\"1916\",\"type\":\"GlyphRenderer\"},{\"id\":\"2053\",\"type\":\"GlyphRenderer\"},{\"id\":\"2204\",\"type\":\"GlyphRenderer\"}],\"title\":{\"id\":\"1457\",\"type\":\"Title\"},\"toolbar\":{\"id\":\"1434\",\"type\":\"Toolbar\"},\"x_range\":{\"id\":\"1410\",\"type\":\"DataRange1d\"},\"x_scale\":{\"id\":\"1414\",\"type\":\"LinearScale\"},\"y_range\":{\"id\":\"1412\",\"type\":\"DataRange1d\"},\"y_scale\":{\"id\":\"1416\",\"type\":\"LinearScale\"}},\"id\":\"1409\",\"subtype\":\"Figure\",\"type\":\"Plot\"},{\"attributes\":{\"source\":{\"id\":\"2201\",\"type\":\"ColumnDataSource\"}},\"id\":\"2205\",\"type\":\"CDSView\"},{\"attributes\":{},\"id\":\"1459\",\"type\":\"BasicTickFormatter\"},{\"attributes\":{\"callback\":null,\"data\":{\"x\":[0,1,2,3,4,5],\"y\":[0,1,2,3,4,5]},\"selected\":{\"id\":\"1613\",\"type\":\"Selection\"},\"selection_policy\":{\"id\":\"1614\",\"type\":\"UnionRenderers\"}},\"id\":\"1586\",\"type\":\"ColumnDataSource\"},{\"attributes\":{\"callback\":null,\"data\":{\"x\":[0,1,2,3,4,5],\"y\":[0,1,2,3,4,5]},\"selected\":{\"id\":\"2085\",\"type\":\"Selection\"},\"selection_policy\":{\"id\":\"2086\",\"type\":\"UnionRenderers\"}},\"id\":\"2050\",\"type\":\"ColumnDataSource\"},{\"attributes\":{},\"id\":\"1431\",\"type\":\"SaveTool\"},{\"attributes\":{\"fill_alpha\":{\"value\":0.1},\"fill_color\":{\"value\":\"#1f77b4\"},\"line_alpha\":{\"value\":0.1},\"line_color\":{\"value\":\"#1f77b4\"},\"size\":{\"units\":\"screen\",\"value\":10},\"x\":{\"field\":\"x\"},\"y\":{\"field\":\"y\"}},\"id\":\"1507\",\"type\":\"Circle\"},{\"attributes\":{},\"id\":\"1711\",\"type\":\"UnionRenderers\"},{\"attributes\":{},\"id\":\"2086\",\"type\":\"UnionRenderers\"},{\"attributes\":{\"bottom_units\":\"screen\",\"fill_alpha\":{\"value\":0.5},\"fill_color\":{\"value\":\"lightgrey\"},\"left_units\":\"screen\",\"level\":\"overlay\",\"line_alpha\":{\"value\":1.0},\"line_color\":{\"value\":\"black\"},\"line_dash\":[4,4],\"line_width\":{\"value\":2},\"plot\":null,\"render_mode\":\"css\",\"right_units\":\"screen\",\"top_units\":\"screen\"},\"id\":\"1436\",\"type\":\"BoxAnnotation\"},{\"attributes\":{\"source\":{\"id\":\"1586\",\"type\":\"ColumnDataSource\"}},\"id\":\"1590\",\"type\":\"CDSView\"},{\"attributes\":{},\"id\":\"2239\",\"type\":\"UnionRenderers\"},{\"attributes\":{\"overlay\":{\"id\":\"1436\",\"type\":\"BoxAnnotation\"}},\"id\":\"1430\",\"type\":\"BoxZoomTool\"},{\"attributes\":{\"data_source\":{\"id\":\"1790\",\"type\":\"ColumnDataSource\"},\"glyph\":{\"id\":\"1791\",\"type\":\"Circle\"},\"hover_glyph\":null,\"muted_glyph\":null,\"nonselection_glyph\":{\"id\":\"1792\",\"type\":\"Circle\"},\"selection_glyph\":null,\"view\":{\"id\":\"1794\",\"type\":\"CDSView\"}},\"id\":\"1793\",\"type\":\"GlyphRenderer\"},{\"attributes\":{\"fill_color\":{\"value\":\"blue\"},\"line_color\":{\"value\":\"orange\"},\"size\":{\"units\":\"screen\",\"value\":30},\"x\":{\"field\":\"x\"},\"y\":{\"field\":\"y\"}},\"id\":\"1914\",\"type\":\"Circle\"},{\"attributes\":{\"callback\":null,\"data\":{\"x\":[0,1,2,3,4,5],\"y\":[0,1,2,3,4,5]},\"selected\":{\"id\":\"2238\",\"type\":\"Selection\"},\"selection_policy\":{\"id\":\"2239\",\"type\":\"UnionRenderers\"}},\"id\":\"2201\",\"type\":\"ColumnDataSource\"},{\"attributes\":{\"source\":{\"id\":\"2050\",\"type\":\"ColumnDataSource\"}},\"id\":\"2054\",\"type\":\"CDSView\"},{\"attributes\":{},\"id\":\"1530\",\"type\":\"Selection\"},{\"attributes\":{\"callback\":null,\"data\":{\"x\":[0,1,2,3,4,5],\"y\":[0,1,2,3,4,5]},\"selected\":{\"id\":\"1821\",\"type\":\"Selection\"},\"selection_policy\":{\"id\":\"1822\",\"type\":\"UnionRenderers\"}},\"id\":\"1790\",\"type\":\"ColumnDataSource\"},{\"attributes\":{\"data_source\":{\"id\":\"2050\",\"type\":\"ColumnDataSource\"},\"glyph\":{\"id\":\"2051\",\"type\":\"Circle\"},\"hover_glyph\":null,\"muted_glyph\":null,\"nonselection_glyph\":{\"id\":\"2052\",\"type\":\"Circle\"},\"selection_glyph\":null,\"view\":{\"id\":\"2054\",\"type\":\"CDSView\"}},\"id\":\"2053\",\"type\":\"GlyphRenderer\"},{\"attributes\":{\"data_source\":{\"id\":\"1586\",\"type\":\"ColumnDataSource\"},\"glyph\":{\"id\":\"1587\",\"type\":\"Circle\"},\"hover_glyph\":null,\"muted_glyph\":null,\"nonselection_glyph\":{\"id\":\"1588\",\"type\":\"Circle\"},\"selection_glyph\":null,\"view\":{\"id\":\"1590\",\"type\":\"CDSView\"}},\"id\":\"1589\",\"type\":\"GlyphRenderer\"},{\"attributes\":{\"callback\":null,\"data\":{\"x\":[0,1,2,3,4,5],\"y\":[0,1,2,3,4,5]},\"selected\":{\"id\":\"1946\",\"type\":\"Selection\"},\"selection_policy\":{\"id\":\"1947\",\"type\":\"UnionRenderers\"}},\"id\":\"1913\",\"type\":\"ColumnDataSource\"},{\"attributes\":{},\"id\":\"1821\",\"type\":\"Selection\"},{\"attributes\":{},\"id\":\"2238\",\"type\":\"Selection\"},{\"attributes\":{\"fill_alpha\":{\"value\":0.1},\"fill_color\":{\"value\":\"#1f77b4\"},\"line_alpha\":{\"value\":0.1},\"line_color\":{\"value\":\"#1f77b4\"},\"size\":{\"units\":\"screen\",\"value\":30},\"x\":{\"field\":\"x\"},\"y\":{\"field\":\"y\"}},\"id\":\"1792\",\"type\":\"Circle\"},{\"attributes\":{\"source\":{\"id\":\"1681\",\"type\":\"ColumnDataSource\"}},\"id\":\"1685\",\"type\":\"CDSView\"},{\"attributes\":{},\"id\":\"1946\",\"type\":\"Selection\"},{\"attributes\":{\"data_source\":{\"id\":\"1505\",\"type\":\"ColumnDataSource\"},\"glyph\":{\"id\":\"1506\",\"type\":\"Circle\"},\"hover_glyph\":null,\"muted_glyph\":null,\"nonselection_glyph\":{\"id\":\"1507\",\"type\":\"Circle\"},\"selection_glyph\":null,\"view\":{\"id\":\"1509\",\"type\":\"CDSView\"}},\"id\":\"1508\",\"type\":\"GlyphRenderer\"},{\"attributes\":{\"data_source\":{\"id\":\"2201\",\"type\":\"ColumnDataSource\"},\"glyph\":{\"id\":\"2202\",\"type\":\"Circle\"},\"hover_glyph\":null,\"muted_glyph\":null,\"nonselection_glyph\":{\"id\":\"2203\",\"type\":\"Circle\"},\"selection_glyph\":null,\"view\":{\"id\":\"2205\",\"type\":\"CDSView\"}},\"id\":\"2204\",\"type\":\"GlyphRenderer\"},{\"attributes\":{\"source\":{\"id\":\"1913\",\"type\":\"ColumnDataSource\"}},\"id\":\"1917\",\"type\":\"CDSView\"},{\"attributes\":{},\"id\":\"1947\",\"type\":\"UnionRenderers\"},{\"attributes\":{\"source\":{\"id\":\"1505\",\"type\":\"ColumnDataSource\"}},\"id\":\"1509\",\"type\":\"CDSView\"},{\"attributes\":{\"fill_alpha\":{\"value\":0.1},\"fill_color\":{\"value\":\"#1f77b4\"},\"line_alpha\":{\"value\":0.1},\"line_color\":{\"value\":\"#1f77b4\"},\"size\":{\"units\":\"screen\",\"value\":30},\"x\":{\"field\":\"x\"},\"y\":{\"field\":\"y\"}},\"id\":\"2203\",\"type\":\"Circle\"},{\"attributes\":{\"active_drag\":\"auto\",\"active_inspect\":\"auto\",\"active_multi\":null,\"active_scroll\":\"auto\",\"active_tap\":\"auto\",\"tools\":[{\"id\":\"1428\",\"type\":\"PanTool\"},{\"id\":\"1429\",\"type\":\"WheelZoomTool\"},{\"id\":\"1430\",\"type\":\"BoxZoomTool\"},{\"id\":\"1431\",\"type\":\"SaveTool\"},{\"id\":\"1432\",\"type\":\"ResetTool\"},{\"id\":\"1433\",\"type\":\"HelpTool\"}]},\"id\":\"1434\",\"type\":\"Toolbar\"},{\"attributes\":{\"fill_alpha\":{\"value\":0.1},\"fill_color\":{\"value\":\"#1f77b4\"},\"line_alpha\":{\"value\":0.1},\"line_color\":{\"value\":\"#1f77b4\"},\"size\":{\"units\":\"screen\",\"value\":10},\"x\":{\"field\":\"x\"},\"y\":{\"field\":\"y\"}},\"id\":\"1683\",\"type\":\"Circle\"},{\"attributes\":{},\"id\":\"1613\",\"type\":\"Selection\"},{\"attributes\":{},\"id\":\"1710\",\"type\":\"Selection\"},{\"attributes\":{\"fill_alpha\":{\"value\":0.1},\"fill_color\":{\"value\":\"#1f77b4\"},\"line_alpha\":{\"value\":0.1},\"line_color\":{\"value\":\"#1f77b4\"},\"size\":{\"units\":\"screen\",\"value\":30},\"x\":{\"field\":\"x\"},\"y\":{\"field\":\"y\"}},\"id\":\"2052\",\"type\":\"Circle\"},{\"attributes\":{\"formatter\":{\"id\":\"1461\",\"type\":\"BasicTickFormatter\"},\"plot\":{\"id\":\"1409\",\"subtype\":\"Figure\",\"type\":\"Plot\"},\"ticker\":{\"id\":\"1419\",\"type\":\"BasicTicker\"}},\"id\":\"1418\",\"type\":\"LinearAxis\"},{\"attributes\":{\"fill_alpha\":{\"value\":0.1},\"fill_color\":{\"value\":\"#1f77b4\"},\"line_alpha\":{\"value\":0.1},\"line_color\":{\"value\":\"#1f77b4\"},\"size\":{\"units\":\"screen\",\"value\":10},\"x\":{\"field\":\"x\"},\"y\":{\"field\":\"y\"}},\"id\":\"1588\",\"type\":\"Circle\"},{\"attributes\":{},\"id\":\"1461\",\"type\":\"BasicTickFormatter\"},{\"attributes\":{\"fill_alpha\":{\"value\":0.5},\"fill_color\":{\"value\":\"blue\"},\"line_color\":{\"value\":\"orange\"},\"size\":{\"units\":\"screen\",\"value\":10},\"x\":{\"field\":\"x\"},\"y\":{\"field\":\"y\"}},\"id\":\"1682\",\"type\":\"Circle\"},{\"attributes\":{\"callback\":null,\"data\":{\"x\":[0,1,2,3,4,5],\"y\":[0,1,2,3,4,5]},\"selected\":{\"id\":\"1530\",\"type\":\"Selection\"},\"selection_policy\":{\"id\":\"1531\",\"type\":\"UnionRenderers\"}},\"id\":\"1505\",\"type\":\"ColumnDataSource\"},{\"attributes\":{},\"id\":\"1424\",\"type\":\"BasicTicker\"},{\"attributes\":{\"data_source\":{\"id\":\"1681\",\"type\":\"ColumnDataSource\"},\"glyph\":{\"id\":\"1682\",\"type\":\"Circle\"},\"hover_glyph\":null,\"muted_glyph\":null,\"nonselection_glyph\":{\"id\":\"1683\",\"type\":\"Circle\"},\"selection_glyph\":null,\"view\":{\"id\":\"1685\",\"type\":\"CDSView\"}},\"id\":\"1684\",\"type\":\"GlyphRenderer\"},{\"attributes\":{},\"id\":\"1428\",\"type\":\"PanTool\"},{\"attributes\":{\"fill_color\":{\"value\":\"brown\"},\"line_color\":{\"value\":\"orange\"},\"size\":{\"units\":\"screen\",\"value\":10},\"x\":{\"field\":\"x\"},\"y\":{\"field\":\"y\"}},\"id\":\"1587\",\"type\":\"Circle\"},{\"attributes\":{},\"id\":\"1531\",\"type\":\"UnionRenderers\"},{\"attributes\":{},\"id\":\"1416\",\"type\":\"LinearScale\"},{\"attributes\":{\"formatter\":{\"id\":\"1459\",\"type\":\"BasicTickFormatter\"},\"plot\":{\"id\":\"1409\",\"subtype\":\"Figure\",\"type\":\"Plot\"},\"ticker\":{\"id\":\"1424\",\"type\":\"BasicTicker\"}},\"id\":\"1423\",\"type\":\"LinearAxis\"},{\"attributes\":{\"dimension\":1,\"plot\":{\"id\":\"1409\",\"subtype\":\"Figure\",\"type\":\"Plot\"},\"ticker\":{\"id\":\"1424\",\"type\":\"BasicTicker\"}},\"id\":\"1427\",\"type\":\"Grid\"},{\"attributes\":{\"fill_alpha\":{\"value\":0.2},\"fill_color\":{\"value\":\"blue\"},\"line_color\":{\"value\":\"orange\"},\"size\":{\"units\":\"screen\",\"value\":30},\"x\":{\"field\":\"x\"},\"y\":{\"field\":\"y\"}},\"id\":\"2051\",\"type\":\"Circle\"},{\"attributes\":{},\"id\":\"1429\",\"type\":\"WheelZoomTool\"},{\"attributes\":{\"callback\":null},\"id\":\"1410\",\"type\":\"DataRange1d\"},{\"attributes\":{\"callback\":null,\"data\":{\"x\":[0,1,2,3,4,5],\"y\":[0,1,2,3,4,5]},\"selected\":{\"id\":\"1710\",\"type\":\"Selection\"},\"selection_policy\":{\"id\":\"1711\",\"type\":\"UnionRenderers\"}},\"id\":\"1681\",\"type\":\"ColumnDataSource\"},{\"attributes\":{},\"id\":\"1419\",\"type\":\"BasicTicker\"},{\"attributes\":{\"callback\":null},\"id\":\"1412\",\"type\":\"DataRange1d\"},{\"attributes\":{\"fill_color\":{\"value\":\"#1f77b4\"},\"line_color\":{\"value\":\"#1f77b4\"},\"size\":{\"units\":\"screen\",\"value\":10},\"x\":{\"field\":\"x\"},\"y\":{\"field\":\"y\"}},\"id\":\"1506\",\"type\":\"Circle\"},{\"attributes\":{\"plot\":null,\"text\":\"\"},\"id\":\"1457\",\"type\":\"Title\"},{\"attributes\":{},\"id\":\"1433\",\"type\":\"HelpTool\"},{\"attributes\":{},\"id\":\"1414\",\"type\":\"LinearScale\"},{\"attributes\":{\"fill_alpha\":{\"value\":0.2},\"fill_color\":{\"value\":\"blue\"},\"line_color\":{\"value\":\"orange\"},\"size\":{\"units\":\"screen\",\"value\":30},\"x\":{\"field\":\"x\"},\"y\":{\"field\":\"y\"}},\"id\":\"1791\",\"type\":\"Circle\"},{\"attributes\":{\"plot\":{\"id\":\"1409\",\"subtype\":\"Figure\",\"type\":\"Plot\"},\"ticker\":{\"id\":\"1419\",\"type\":\"BasicTicker\"}},\"id\":\"1422\",\"type\":\"Grid\"},{\"attributes\":{\"data_source\":{\"id\":\"1913\",\"type\":\"ColumnDataSource\"},\"glyph\":{\"id\":\"1914\",\"type\":\"Circle\"},\"hover_glyph\":null,\"muted_glyph\":null,\"nonselection_glyph\":{\"id\":\"1915\",\"type\":\"Circle\"},\"selection_glyph\":null,\"view\":{\"id\":\"1917\",\"type\":\"CDSView\"}},\"id\":\"1916\",\"type\":\"GlyphRenderer\"},{\"attributes\":{\"source\":{\"id\":\"1790\",\"type\":\"ColumnDataSource\"}},\"id\":\"1794\",\"type\":\"CDSView\"},{\"attributes\":{\"fill_color\":{\"value\":\"blue\"},\"line_color\":{\"value\":\"orange\"},\"size\":{\"units\":\"screen\",\"value\":30},\"x\":{\"field\":\"x\"},\"y\":{\"field\":\"y\"}},\"id\":\"2202\",\"type\":\"Circle\"},{\"attributes\":{},\"id\":\"1614\",\"type\":\"UnionRenderers\"},{\"attributes\":{},\"id\":\"1432\",\"type\":\"ResetTool\"},{\"attributes\":{\"fill_alpha\":{\"value\":0.1},\"fill_color\":{\"value\":\"#1f77b4\"},\"line_alpha\":{\"value\":0.1},\"line_color\":{\"value\":\"#1f77b4\"},\"size\":{\"units\":\"screen\",\"value\":30},\"x\":{\"field\":\"x\"},\"y\":{\"field\":\"y\"}},\"id\":\"1915\",\"type\":\"Circle\"},{\"attributes\":{},\"id\":\"1822\",\"type\":\"UnionRenderers\"},{\"attributes\":{},\"id\":\"2085\",\"type\":\"Selection\"}],\"root_ids\":[\"1409\"]},\"title\":\"Bokeh Application\",\"version\":\"1.0.4\"}};\n",
       "  var render_items = [{\"docid\":\"77c6d522-bf14-405f-a328-5570d142cdec\",\"roots\":{\"1409\":\"3afcd768-d72a-43ec-a59a-2c360e07f61e\"}}];\n",
       "  root.Bokeh.embed.embed_items_notebook(docs_json, render_items);\n",
       "\n",
       "  }\n",
       "  if (root.Bokeh !== undefined) {\n",
       "    embed_document(root);\n",
       "  } else {\n",
       "    var attempts = 0;\n",
       "    var timer = setInterval(function(root) {\n",
       "      if (root.Bokeh !== undefined) {\n",
       "        embed_document(root);\n",
       "        clearInterval(timer);\n",
       "      }\n",
       "      attempts++;\n",
       "      if (attempts > 100) {\n",
       "        console.log(\"Bokeh: ERROR: Unable to run BokehJS code because BokehJS library is missing\");\n",
       "        clearInterval(timer);\n",
       "      }\n",
       "    }, 10, root)\n",
       "  }\n",
       "})(window);"
      ],
      "application/vnd.bokehjs_exec.v0+json": ""
     },
     "metadata": {
      "application/vnd.bokehjs_exec.v0+json": {
       "id": "1409"
      }
     },
     "output_type": "display_data"
    }
   ],
   "source": [
    "# canvas에 지금 그려진걸 삭제하는 방법없나?\n",
    "show(p)"
   ]
  },
  {
   "cell_type": "code",
   "execution_count": 32,
   "metadata": {},
   "outputs": [
    {
     "data": {
      "text/html": [
       "<div>\n",
       "<style scoped>\n",
       "    .dataframe tbody tr th:only-of-type {\n",
       "        vertical-align: middle;\n",
       "    }\n",
       "\n",
       "    .dataframe tbody tr th {\n",
       "        vertical-align: top;\n",
       "    }\n",
       "\n",
       "    .dataframe thead th {\n",
       "        text-align: right;\n",
       "    }\n",
       "</style>\n",
       "<table border=\"1\" class=\"dataframe\">\n",
       "  <thead>\n",
       "    <tr style=\"text-align: right;\">\n",
       "      <th></th>\n",
       "      <th>Date</th>\n",
       "      <th>Open</th>\n",
       "      <th>High</th>\n",
       "      <th>Low</th>\n",
       "      <th>Close</th>\n",
       "      <th>Adj Close</th>\n",
       "      <th>Volume</th>\n",
       "    </tr>\n",
       "  </thead>\n",
       "  <tbody>\n",
       "    <tr>\n",
       "      <th>0</th>\n",
       "      <td>2014-09-29</td>\n",
       "      <td>100.589996</td>\n",
       "      <td>100.690002</td>\n",
       "      <td>98.040001</td>\n",
       "      <td>99.620003</td>\n",
       "      <td>93.514290</td>\n",
       "      <td>142718700</td>\n",
       "    </tr>\n",
       "    <tr>\n",
       "      <th>1</th>\n",
       "      <td>2014-10-06</td>\n",
       "      <td>99.949997</td>\n",
       "      <td>102.379997</td>\n",
       "      <td>98.309998</td>\n",
       "      <td>100.730003</td>\n",
       "      <td>94.556244</td>\n",
       "      <td>280258200</td>\n",
       "    </tr>\n",
       "    <tr>\n",
       "      <th>2</th>\n",
       "      <td>2014-10-13</td>\n",
       "      <td>101.330002</td>\n",
       "      <td>101.779999</td>\n",
       "      <td>95.180000</td>\n",
       "      <td>97.669998</td>\n",
       "      <td>91.683792</td>\n",
       "      <td>358539800</td>\n",
       "    </tr>\n",
       "  </tbody>\n",
       "</table>\n",
       "</div>"
      ],
      "text/plain": [
       "         Date        Open        High        Low       Close  Adj Close  \\\n",
       "0  2014-09-29  100.589996  100.690002  98.040001   99.620003  93.514290   \n",
       "1  2014-10-06   99.949997  102.379997  98.309998  100.730003  94.556244   \n",
       "2  2014-10-13  101.330002  101.779999  95.180000   97.669998  91.683792   \n",
       "\n",
       "      Volume  \n",
       "0  142718700  \n",
       "1  280258200  \n",
       "2  358539800  "
      ]
     },
     "execution_count": 32,
     "metadata": {},
     "output_type": "execute_result"
    }
   ],
   "source": [
    "import pandas as pd\n",
    "from bokeh.plotting import figure\n",
    "df = pd.read_csv('AAPL.csv')\n",
    "df.head(3)"
   ]
  },
  {
   "cell_type": "code",
   "execution_count": 36,
   "metadata": {},
   "outputs": [
    {
     "data": {
      "text/html": [
       "<div>\n",
       "<style scoped>\n",
       "    .dataframe tbody tr th:only-of-type {\n",
       "        vertical-align: middle;\n",
       "    }\n",
       "\n",
       "    .dataframe tbody tr th {\n",
       "        vertical-align: top;\n",
       "    }\n",
       "\n",
       "    .dataframe thead th {\n",
       "        text-align: right;\n",
       "    }\n",
       "</style>\n",
       "<table border=\"1\" class=\"dataframe\">\n",
       "  <thead>\n",
       "    <tr style=\"text-align: right;\">\n",
       "      <th></th>\n",
       "      <th>Open</th>\n",
       "      <th>High</th>\n",
       "      <th>Low</th>\n",
       "      <th>Close</th>\n",
       "      <th>Adj Close</th>\n",
       "      <th>Volume</th>\n",
       "    </tr>\n",
       "    <tr>\n",
       "      <th>Date</th>\n",
       "      <th></th>\n",
       "      <th></th>\n",
       "      <th></th>\n",
       "      <th></th>\n",
       "      <th></th>\n",
       "      <th></th>\n",
       "    </tr>\n",
       "  </thead>\n",
       "  <tbody>\n",
       "    <tr>\n",
       "      <th>2014-09-29</th>\n",
       "      <td>100.589996</td>\n",
       "      <td>100.690002</td>\n",
       "      <td>98.040001</td>\n",
       "      <td>99.620003</td>\n",
       "      <td>93.514290</td>\n",
       "      <td>142718700</td>\n",
       "    </tr>\n",
       "    <tr>\n",
       "      <th>2014-10-06</th>\n",
       "      <td>99.949997</td>\n",
       "      <td>102.379997</td>\n",
       "      <td>98.309998</td>\n",
       "      <td>100.730003</td>\n",
       "      <td>94.556244</td>\n",
       "      <td>280258200</td>\n",
       "    </tr>\n",
       "    <tr>\n",
       "      <th>2014-10-13</th>\n",
       "      <td>101.330002</td>\n",
       "      <td>101.779999</td>\n",
       "      <td>95.180000</td>\n",
       "      <td>97.669998</td>\n",
       "      <td>91.683792</td>\n",
       "      <td>358539800</td>\n",
       "    </tr>\n",
       "  </tbody>\n",
       "</table>\n",
       "</div>"
      ],
      "text/plain": [
       "                  Open        High        Low       Close  Adj Close  \\\n",
       "Date                                                                   \n",
       "2014-09-29  100.589996  100.690002  98.040001   99.620003  93.514290   \n",
       "2014-10-06   99.949997  102.379997  98.309998  100.730003  94.556244   \n",
       "2014-10-13  101.330002  101.779999  95.180000   97.669998  91.683792   \n",
       "\n",
       "               Volume  \n",
       "Date                   \n",
       "2014-09-29  142718700  \n",
       "2014-10-06  280258200  \n",
       "2014-10-13  358539800  "
      ]
     },
     "execution_count": 36,
     "metadata": {},
     "output_type": "execute_result"
    }
   ],
   "source": [
    "df.index = pd.to_datetime(df['Date'])\n",
    "df = df.drop('Date', axis=1)\n",
    "df.head(3)"
   ]
  },
  {
   "cell_type": "code",
   "execution_count": 46,
   "metadata": {},
   "outputs": [
    {
     "name": "stdout",
     "output_type": "stream",
     "text": [
      "1.0.4\n"
     ]
    }
   ],
   "source": [
    "print(bokeh.__version__)"
   ]
  },
  {
   "cell_type": "code",
   "execution_count": 49,
   "metadata": {},
   "outputs": [
    {
     "data": {
      "text/html": [
       "\n",
       "\n",
       "\n",
       "\n",
       "\n",
       "\n",
       "  <div class=\"bk-root\" id=\"5e0b0812-33f2-4b3a-92a6-73723b693909\" data-root-id=\"2781\"></div>\n"
      ]
     },
     "metadata": {},
     "output_type": "display_data"
    },
    {
     "data": {
      "application/javascript": [
       "(function(root) {\n",
       "  function embed_document(root) {\n",
       "    \n",
       "  var docs_json = {\"5fd5a238-5758-40d6-a846-45fa9f0a2d94\":{\"roots\":{\"references\":[{\"attributes\":{\"below\":[{\"id\":\"2790\",\"type\":\"DatetimeAxis\"}],\"left\":[{\"id\":\"2795\",\"type\":\"LinearAxis\"}],\"plot_height\":300,\"plot_width\":700,\"renderers\":[{\"id\":\"2790\",\"type\":\"DatetimeAxis\"},{\"id\":\"2794\",\"type\":\"Grid\"},{\"id\":\"2795\",\"type\":\"LinearAxis\"},{\"id\":\"2799\",\"type\":\"Grid\"},{\"id\":\"2808\",\"type\":\"BoxAnnotation\"},{\"id\":\"2818\",\"type\":\"GlyphRenderer\"}],\"title\":{\"id\":\"2864\",\"type\":\"Title\"},\"toolbar\":{\"id\":\"2806\",\"type\":\"Toolbar\"},\"x_range\":{\"id\":\"2782\",\"type\":\"DataRange1d\"},\"x_scale\":{\"id\":\"2786\",\"type\":\"LinearScale\"},\"y_range\":{\"id\":\"2784\",\"type\":\"DataRange1d\"},\"y_scale\":{\"id\":\"2788\",\"type\":\"LinearScale\"}},\"id\":\"2781\",\"subtype\":\"Figure\",\"type\":\"Plot\"},{\"attributes\":{\"active_drag\":\"auto\",\"active_inspect\":\"auto\",\"active_multi\":null,\"active_scroll\":\"auto\",\"active_tap\":\"auto\",\"tools\":[{\"id\":\"2800\",\"type\":\"PanTool\"},{\"id\":\"2801\",\"type\":\"WheelZoomTool\"},{\"id\":\"2802\",\"type\":\"BoxZoomTool\"},{\"id\":\"2803\",\"type\":\"SaveTool\"},{\"id\":\"2804\",\"type\":\"ResetTool\"},{\"id\":\"2805\",\"type\":\"HelpTool\"}]},\"id\":\"2806\",\"type\":\"Toolbar\"},{\"attributes\":{\"base\":60,\"mantissas\":[1,2,5,10,15,20,30],\"max_interval\":1800000.0,\"min_interval\":1000.0,\"num_minor_ticks\":0},\"id\":\"2871\",\"type\":\"AdaptiveTicker\"},{\"attributes\":{\"callback\":null},\"id\":\"2784\",\"type\":\"DataRange1d\"},{\"attributes\":{\"bottom_units\":\"screen\",\"fill_alpha\":{\"value\":0.5},\"fill_color\":{\"value\":\"lightgrey\"},\"left_units\":\"screen\",\"level\":\"overlay\",\"line_alpha\":{\"value\":1.0},\"line_color\":{\"value\":\"black\"},\"line_dash\":[4,4],\"line_width\":{\"value\":2},\"plot\":null,\"render_mode\":\"css\",\"right_units\":\"screen\",\"top_units\":\"screen\"},\"id\":\"2808\",\"type\":\"BoxAnnotation\"},{\"attributes\":{},\"id\":\"2786\",\"type\":\"LinearScale\"},{\"attributes\":{\"callback\":null,\"data\":{\"x\":{\"__ndarray__\":\"AACATuuLdEIAAMAWLI50QgAAAN9skHRCAABAp62SdEIAAIBv7pR0QgAAwDcvl3RCAAAAAHCZdEIAAEDIsJt0QgAAgJDxnXRCAADAWDKgdEIAAAAhc6J0QgAAQOmzpHRCAACAsfSmdEIAAMB5Nal0QgAAAEJ2q3RCAABACretdEIAAIDS9690QgAAwJo4snRCAAAAY3m0dEIAAEArurZ0QgAAgPP6uHRCAADAuzu7dEIAAACEfL10QgAAQEy9v3RCAACAFP7BdEIAAMDcPsR0QgAAAKV/xnRCAABAbcDIdEIAAIA1Act0QgAAwP1BzXRCAAAAxoLPdEIAAECOw9F0QgAAgFYE1HRCAADAHkXWdEIAAADnhdh0QgAAQK/G2nRCAACAdwfddEIAAMA/SN90QgAAAAiJ4XRCAABA0MnjdEIAAICYCuZ0QgAAwGBL6HRCAAAAKYzqdEIAAEDxzOx0QgAAgLkN73RCAADAgU7xdEIAAABKj/N0QgAAQBLQ9XRCAACA2hD4dEIAAMCiUfp0QgAAAGuS/HRCAABAM9P+dEIAAID7EwF1QgAAwMNUA3VCAAAAjJUFdUIAAEBU1gd1QgAAgBwXCnVCAADA5FcMdUIAAACtmA51QgAAQHXZEHVCAACAPRoTdUIAAMAFWxV1QgAAAM6bF3VCAABAltwZdUIAAIBeHRx1QgAAwCZeHnVCAAAA754gdUIAAEC33yJ1QgAAgH8gJXVCAADAR2EndUIAAAAQoil1QgAAQNjiK3VCAACAoCMudUIAAMBoZDB1QgAAADGlMnVCAABA+eU0dUIAAIDBJjd1QgAAwIlnOXVCAAAAUqg7dUIAAEAa6T11QgAAgOIpQHVCAADAqmpCdUIAAABzq0R1QgAAQDvsRnVCAACAAy1JdUIAAMDLbUt1QgAAAJSuTXVCAABAXO9PdUIAAIAkMFJ1QgAAwOxwVHVCAAAAtbFWdUIAAEB98lh1QgAAgEUzW3VCAADADXRddUIAAADWtF91QgAAQJ71YXVCAACAZjZkdUIAAMAud2Z1QgAAAPe3aHVCAABAv/hqdUIAAICHOW11QgAAwE96b3VCAAAAGLtxdUIAAEDg+3N1QgAAgKg8dnVCAADAcH14dUIAAAA5vnp1QgAAQAH/fHVCAACAyT9/dUIAAMCRgIF1QgAAAFrBg3VCAABAIgKGdUIAAIDqQoh1QgAAwLKDinVCAAAAe8SMdUIAAEBDBY91QgAAgAtGkXVCAADA04aTdUIAAACcx5V1QgAAQGQImHVCAACALEmadUIAAMD0iZx1QgAAAL3KnnVCAABAhQuhdUIAAIBNTKN1QgAAwBWNpXVCAAAA3s2ndUIAAECmDqp1QgAAgG5PrHVCAADANpCudUIAAAD/0LB1QgAAQMcRs3VCAACAj1K1dUIAAMBXk7d1QgAAACDUuXVCAABA6BS8dUIAAICwVb51QgAAwHiWwHVCAAAAQdfCdUIAAEAJGMV1QgAAgNFYx3VCAADAmZnJdUIAAABi2st1QgAAQCobznVCAACA8lvQdUIAAMC6nNJ1QgAAAIPd1HVCAABASx7XdUIAAIATX9l1QgAAwNuf23VCAAAApODddUIAAEBsIeB1QgAAgDRi4nVCAADA/KLkdUIAAADF4+Z1QgAAQI0k6XVCAACAVWXrdUIAAMAdpu11QgAAAObm73VCAABArifydUIAAIB2aPR1QgAAwD6p9nVCAAAAB+r4dUIAAEDPKvt1QgAAgJdr/XVCAADAX6z/dUIAAAAo7QF2QgAAQPAtBHZCAACAuG4GdkIAAMCArwh2QgAAAEnwCnZCAABAETENdkIAAIDZcQ92QgAAwKGyEXZCAAAAavMTdkIAAEAyNBZ2QgAAgPp0GHZCAADAwrUadkIAAACL9hx2QgAAQFM3H3ZCAACAG3ghdkIAAMDjuCN2QgAAAKz5JXZCAABA3fAmdkI=\",\"dtype\":\"float64\",\"shape\":[184]},\"y\":{\"__ndarray__\":\"ABsQIa7nWEDXvoBeuC5ZQKuYSj/halhAlgUTfxROWkAAAAAAAABbQEG5bd+jQFtA7FG4HoWLXECWBRN/FB5dQOxRuB6Fu11AAAAAAADAXEDXvoBeuG5bQGr67IDr8VtAv0aSIFx/XEBVZ7XAHlVbQEG5bd+jAFxAv0aSIFx/WkDXvoBeuD5cQKvOaoE9Sl1A7FG4HoW7XUBVZ7XAHsVfQAAAAAAAMGBAy52ZYLgOYECW6gJeZqZfQFUxlX7C5V5AahX9oZl5X0AAAAAAANBeQBSuR+F6VF9AluoCXmbGX0AAAAAAADBfQDV9dsD1SGBAiskbYGYeYEAAGxAhrudfQEG5bd+jGGBANWJmn0eRYEA1fXbA9UhgQBSTN8DMFGBAq5hKP+HKX0CW6gJeZqZfQAAAAAAAsF9ALQsm/iicX0Bq+uyA69FeQN8Vwf/WM2BAAAAAAAAgX0DsbMg/M1NeQClBf6FH4VxAVUyln3D9XEBBuW3fo3BaQKuzWmCPUlxAKUF/oUdRW0BVTKWfcI1cQBSTN8DMXFxAVUyln3CtXEAA5e/eUZhbQAAbECGuB1xAq7NaYI/CW0BVZ7XAHsVdQAAAAAAA4F1A0/TZAddDXkBVMZV+whVcQOxsyD8z011A0/TZAddzXUBq+uyA68FdQOxRuB6FS1xAavrsgOuBWkBq+uyA6wFbQEG5bd+jUFpAVUyln3A9WEAA5e/eUUhYQKuYSj/hWllAVTGVfsJVWEApQX+hR4FXQL9GkiBcf1dAq7NaYI8CWECrzmqBPTpYQEG5bd+jwFlAQblt36OQWUCrmEo/4XpaQKuYSj/halpAv0aSIFx/W0CrzmqBPSpbQJbqAl5mdltA7FG4HoVrWkC/RpIgXG9XQJYFE38ULldAKUF/oUehVkCWBRN/FM5XQJbqAl5mFllAq5hKP+F6WEBVZ7XAHrVYQFVntcAe1VdAahX9oZlZV0BBnl2+9fhXQOxRuB6FK1hAavrsgOuxWECrzmqBPapYQFVMpZ9wDVpA176AXrjeWkDsUbgehQtbQL9hokEKV1tALQsm/ii8WkDXvoBeuO5aQADl795RyFlAq5hKP+G6XEBVTKWfcC1cQOxsyD8zQ1xA0/TZAdeDXEAA5e/eUWhdQJbqAl5mJl1AlgUTfxRuXEBVMZV+wjVbQOxRuB6FG1tA0/TZAdeDW0Crs1pgj/JbQGoV/aGZeVtAFJM3wMx8XECWBRN/FP5cQClBf6FHIV1AFK5H4Xr0XECrzmqBPXpdQKuzWmCPwl1AAAAAAAAAXkAUkzfAzHxeQKuzWmCPImBA3xXB/9aDYEDLgok/CvdgQFVntcAeFWFANX12wPV4YUAgzy7femRhQAw89x6uf2FAIM8u33qUYUBVZ7XAHvVhQKuYSj/h6mFAdjbkn5mhYUBBuW3fo8hhQBSTN8DM9GFAy52ZYLieYkDsbMg/M4NjQGr67IDrIWNA4DDRIIUzY0CKyRtgZm5jQL9GkiBcn2JAQblt36PIYUA1fXbA9UhiQEG5bd+jAGJASRCugMIFYkA1YmafR6FiQEG5bd+jyGJAAAAAAACwYkAgzy7feoxjQL9GkiBcr2NAAAAAAACwY0DgMNEghftjQHY25J+ZgWRAIeo+ACnUY0Ah6j4AKfxjQCDPLt96/GJA3xXB/9ZDY0B2NuSfmWljQAw89x6un2NAAAAAAACIY0B2NuSfmWFkQAAAAAAAkGVAVUyln3DVZUAUkzfAzERlQMuCiT8K32VAdjbkn5lhZUDfFcH/1itlQMuCiT8Kv2VA9MMI4VHgZUC/RpIgXCdlQAAAAAAA4GVAq5hKP+EiZkDLnZlguE5mQPTDCOFRcGVAAAAAAAAQZEBVZ7XAHo1jQEkQroDCjWVAAAAAAADwZUDLnZlguAZmQL9GkiBcf2ZAQblt36NAZkCWBRN/FJ5kQDV9dsD1+GRANX12wPX4ZEA=\",\"dtype\":\"float64\",\"shape\":[184]}},\"selected\":{\"id\":\"2882\",\"type\":\"Selection\"},\"selection_policy\":{\"id\":\"2883\",\"type\":\"UnionRenderers\"}},\"id\":\"2815\",\"type\":\"ColumnDataSource\"},{\"attributes\":{\"base\":24,\"mantissas\":[1,2,4,6,8,12],\"max_interval\":43200000.0,\"min_interval\":3600000.0,\"num_minor_ticks\":0},\"id\":\"2872\",\"type\":\"AdaptiveTicker\"},{\"attributes\":{\"days\":[1,15]},\"id\":\"2876\",\"type\":\"DaysTicker\"},{\"attributes\":{},\"id\":\"2788\",\"type\":\"LinearScale\"},{\"attributes\":{\"formatter\":{\"id\":\"2868\",\"type\":\"DatetimeTickFormatter\"},\"plot\":{\"id\":\"2781\",\"subtype\":\"Figure\",\"type\":\"Plot\"},\"ticker\":{\"id\":\"2791\",\"type\":\"DatetimeTicker\"}},\"id\":\"2790\",\"type\":\"DatetimeAxis\"},{\"attributes\":{\"num_minor_ticks\":5,\"tickers\":[{\"id\":\"2870\",\"type\":\"AdaptiveTicker\"},{\"id\":\"2871\",\"type\":\"AdaptiveTicker\"},{\"id\":\"2872\",\"type\":\"AdaptiveTicker\"},{\"id\":\"2873\",\"type\":\"DaysTicker\"},{\"id\":\"2874\",\"type\":\"DaysTicker\"},{\"id\":\"2875\",\"type\":\"DaysTicker\"},{\"id\":\"2876\",\"type\":\"DaysTicker\"},{\"id\":\"2877\",\"type\":\"MonthsTicker\"},{\"id\":\"2878\",\"type\":\"MonthsTicker\"},{\"id\":\"2879\",\"type\":\"MonthsTicker\"},{\"id\":\"2880\",\"type\":\"MonthsTicker\"},{\"id\":\"2881\",\"type\":\"YearsTicker\"}]},\"id\":\"2791\",\"type\":\"DatetimeTicker\"},{\"attributes\":{\"plot\":{\"id\":\"2781\",\"subtype\":\"Figure\",\"type\":\"Plot\"},\"ticker\":{\"id\":\"2791\",\"type\":\"DatetimeTicker\"}},\"id\":\"2794\",\"type\":\"Grid\"},{\"attributes\":{\"formatter\":{\"id\":\"2866\",\"type\":\"BasicTickFormatter\"},\"plot\":{\"id\":\"2781\",\"subtype\":\"Figure\",\"type\":\"Plot\"},\"ticker\":{\"id\":\"2796\",\"type\":\"BasicTicker\"}},\"id\":\"2795\",\"type\":\"LinearAxis\"},{\"attributes\":{\"data_source\":{\"id\":\"2815\",\"type\":\"ColumnDataSource\"},\"glyph\":{\"id\":\"2816\",\"type\":\"Line\"},\"hover_glyph\":null,\"muted_glyph\":null,\"nonselection_glyph\":{\"id\":\"2817\",\"type\":\"Line\"},\"selection_glyph\":null,\"view\":{\"id\":\"2819\",\"type\":\"CDSView\"}},\"id\":\"2818\",\"type\":\"GlyphRenderer\"},{\"attributes\":{\"days\":[1,4,7,10,13,16,19,22,25,28]},\"id\":\"2874\",\"type\":\"DaysTicker\"},{\"attributes\":{\"mantissas\":[1,2,5],\"max_interval\":500.0,\"num_minor_ticks\":0},\"id\":\"2870\",\"type\":\"AdaptiveTicker\"},{\"attributes\":{},\"id\":\"2796\",\"type\":\"BasicTicker\"},{\"attributes\":{\"line_alpha\":0.1,\"line_color\":\"#1f77b4\",\"x\":{\"field\":\"x\"},\"y\":{\"field\":\"y\"}},\"id\":\"2817\",\"type\":\"Line\"},{\"attributes\":{\"dimension\":1,\"plot\":{\"id\":\"2781\",\"subtype\":\"Figure\",\"type\":\"Plot\"},\"ticker\":{\"id\":\"2796\",\"type\":\"BasicTicker\"}},\"id\":\"2799\",\"type\":\"Grid\"},{\"attributes\":{\"source\":{\"id\":\"2815\",\"type\":\"ColumnDataSource\"}},\"id\":\"2819\",\"type\":\"CDSView\"},{\"attributes\":{},\"id\":\"2881\",\"type\":\"YearsTicker\"},{\"attributes\":{},\"id\":\"2866\",\"type\":\"BasicTickFormatter\"},{\"attributes\":{\"months\":[0,6]},\"id\":\"2880\",\"type\":\"MonthsTicker\"},{\"attributes\":{\"plot\":null,\"text\":\"\"},\"id\":\"2864\",\"type\":\"Title\"},{\"attributes\":{\"line_alpha\":0.5,\"line_color\":\"navy\",\"x\":{\"field\":\"x\"},\"y\":{\"field\":\"y\"}},\"id\":\"2816\",\"type\":\"Line\"},{\"attributes\":{},\"id\":\"2800\",\"type\":\"PanTool\"},{\"attributes\":{\"months\":[0,4,8]},\"id\":\"2879\",\"type\":\"MonthsTicker\"},{\"attributes\":{},\"id\":\"2801\",\"type\":\"WheelZoomTool\"},{\"attributes\":{\"months\":[0,2,4,6,8,10]},\"id\":\"2878\",\"type\":\"MonthsTicker\"},{\"attributes\":{},\"id\":\"2868\",\"type\":\"DatetimeTickFormatter\"},{\"attributes\":{\"overlay\":{\"id\":\"2808\",\"type\":\"BoxAnnotation\"}},\"id\":\"2802\",\"type\":\"BoxZoomTool\"},{\"attributes\":{},\"id\":\"2882\",\"type\":\"Selection\"},{\"attributes\":{\"months\":[0,1,2,3,4,5,6,7,8,9,10,11]},\"id\":\"2877\",\"type\":\"MonthsTicker\"},{\"attributes\":{},\"id\":\"2803\",\"type\":\"SaveTool\"},{\"attributes\":{\"days\":[1,2,3,4,5,6,7,8,9,10,11,12,13,14,15,16,17,18,19,20,21,22,23,24,25,26,27,28,29,30,31]},\"id\":\"2873\",\"type\":\"DaysTicker\"},{\"attributes\":{},\"id\":\"2883\",\"type\":\"UnionRenderers\"},{\"attributes\":{},\"id\":\"2804\",\"type\":\"ResetTool\"},{\"attributes\":{},\"id\":\"2805\",\"type\":\"HelpTool\"},{\"attributes\":{\"callback\":null},\"id\":\"2782\",\"type\":\"DataRange1d\"},{\"attributes\":{\"days\":[1,8,15,22]},\"id\":\"2875\",\"type\":\"DaysTicker\"}],\"root_ids\":[\"2781\"]},\"title\":\"Bokeh Application\",\"version\":\"1.0.4\"}};\n",
       "  var render_items = [{\"docid\":\"5fd5a238-5758-40d6-a846-45fa9f0a2d94\",\"roots\":{\"2781\":\"5e0b0812-33f2-4b3a-92a6-73723b693909\"}}];\n",
       "  root.Bokeh.embed.embed_items_notebook(docs_json, render_items);\n",
       "\n",
       "  }\n",
       "  if (root.Bokeh !== undefined) {\n",
       "    embed_document(root);\n",
       "  } else {\n",
       "    var attempts = 0;\n",
       "    var timer = setInterval(function(root) {\n",
       "      if (root.Bokeh !== undefined) {\n",
       "        clearInterval(timer);\n",
       "        embed_document(root);\n",
       "      } else {\n",
       "        attempts++;\n",
       "        if (attempts > 100) {\n",
       "          clearInterval(timer);\n",
       "          console.log(\"Bokeh: ERROR: Unable to run BokehJS code because BokehJS library is missing\");\n",
       "        }\n",
       "      }\n",
       "    }, 10, root)\n",
       "  }\n",
       "})(window);"
      ],
      "application/vnd.bokehjs_exec.v0+json": ""
     },
     "metadata": {
      "application/vnd.bokehjs_exec.v0+json": {
       "id": "2781"
      }
     },
     "output_type": "display_data"
    }
   ],
   "source": [
    "p = figure(plot_width=700, plot_height=300, x_axis_type='datetime')\n",
    "p.line(df.index, df['Close'], color='navy', alpha=0.5)\n",
    "show(p)"
   ]
  },
  {
   "cell_type": "code",
   "execution_count": 45,
   "metadata": {},
   "outputs": [],
   "source": [
    "import jinja2\n",
    "from bokeh.embed import components\n",
    "template = jinja2.Template('''\n",
    "<html>\n",
    "<link href='http://cdn.pydata.org/bokeh/release/bokeh-1.0.4.min.css' rel='stylesheet' type='text/css'>\n",
    "<script src='http://cdn.pydata.org/bokeh.release/bokeh-1.0.4.min.js'></script>\n",
    "<head><title>bokeh test</title>\n",
    "</head>\n",
    "<body>\n",
    "<h1>This site for Bokeh Test</h1>\n",
    "\n",
    "이 사이트는 보케를 테스트하기 위한 공간입니다.\n",
    "{{script}}\n",
    "{{div}}\n",
    "\n",
    "</body>\n",
    "</html>\n",
    "'''\n",
    ")"
   ]
  },
  {
   "cell_type": "code",
   "execution_count": 51,
   "metadata": {},
   "outputs": [],
   "source": [
    "script, div = components(p)"
   ]
  },
  {
   "cell_type": "code",
   "execution_count": 53,
   "metadata": {},
   "outputs": [
    {
     "data": {
      "text/html": [
       "\n",
       "<html>\n",
       "<link href='http://cdn.pydata.org/bokeh/release/bokeh-1.0.4.min.css' rel='stylesheet' type='text/css'>\n",
       "<script src='http://cdn.pydata.org/bokeh.release/bokeh-1.0.4.min.js'></script>\n",
       "<head><title>bokeh test</title>\n",
       "</head>\n",
       "<body>\n",
       "<h1>This site for Bokeh Test</h1>\n",
       "\n",
       "이 사이트는 보케를 테스트하기 위한 공간입니다.\n",
       "\n",
       "<script type=\"text/javascript\">\n",
       "  (function() {\n",
       "    var fn = function() {\n",
       "      Bokeh.safely(function() {\n",
       "        (function(root) {\n",
       "          function embed_document(root) {\n",
       "            \n",
       "          var docs_json = '{\"3017a497-e91a-4929-b4dd-0949abaf8f1f\":{\"roots\":{\"references\":[{\"attributes\":{\"below\":[{\"id\":\"2790\",\"type\":\"DatetimeAxis\"}],\"left\":[{\"id\":\"2795\",\"type\":\"LinearAxis\"}],\"plot_height\":300,\"plot_width\":700,\"renderers\":[{\"id\":\"2790\",\"type\":\"DatetimeAxis\"},{\"id\":\"2794\",\"type\":\"Grid\"},{\"id\":\"2795\",\"type\":\"LinearAxis\"},{\"id\":\"2799\",\"type\":\"Grid\"},{\"id\":\"2808\",\"type\":\"BoxAnnotation\"},{\"id\":\"2818\",\"type\":\"GlyphRenderer\"}],\"title\":{\"id\":\"2864\",\"type\":\"Title\"},\"toolbar\":{\"id\":\"2806\",\"type\":\"Toolbar\"},\"x_range\":{\"id\":\"2782\",\"type\":\"DataRange1d\"},\"x_scale\":{\"id\":\"2786\",\"type\":\"LinearScale\"},\"y_range\":{\"id\":\"2784\",\"type\":\"DataRange1d\"},\"y_scale\":{\"id\":\"2788\",\"type\":\"LinearScale\"}},\"id\":\"2781\",\"subtype\":\"Figure\",\"type\":\"Plot\"},{\"attributes\":{\"active_drag\":\"auto\",\"active_inspect\":\"auto\",\"active_multi\":null,\"active_scroll\":\"auto\",\"active_tap\":\"auto\",\"tools\":[{\"id\":\"2800\",\"type\":\"PanTool\"},{\"id\":\"2801\",\"type\":\"WheelZoomTool\"},{\"id\":\"2802\",\"type\":\"BoxZoomTool\"},{\"id\":\"2803\",\"type\":\"SaveTool\"},{\"id\":\"2804\",\"type\":\"ResetTool\"},{\"id\":\"2805\",\"type\":\"HelpTool\"}]},\"id\":\"2806\",\"type\":\"Toolbar\"},{\"attributes\":{\"base\":60,\"mantissas\":[1,2,5,10,15,20,30],\"max_interval\":1800000.0,\"min_interval\":1000.0,\"num_minor_ticks\":0},\"id\":\"2871\",\"type\":\"AdaptiveTicker\"},{\"attributes\":{\"callback\":null},\"id\":\"2784\",\"type\":\"DataRange1d\"},{\"attributes\":{\"bottom_units\":\"screen\",\"fill_alpha\":{\"value\":0.5},\"fill_color\":{\"value\":\"lightgrey\"},\"left_units\":\"screen\",\"level\":\"overlay\",\"line_alpha\":{\"value\":1.0},\"line_color\":{\"value\":\"black\"},\"line_dash\":[4,4],\"line_width\":{\"value\":2},\"plot\":null,\"render_mode\":\"css\",\"right_units\":\"screen\",\"top_units\":\"screen\"},\"id\":\"2808\",\"type\":\"BoxAnnotation\"},{\"attributes\":{},\"id\":\"2786\",\"type\":\"LinearScale\"},{\"attributes\":{\"callback\":null,\"data\":{\"x\":{\"__ndarray__\":\"AACATuuLdEIAAMAWLI50QgAAAN9skHRCAABAp62SdEIAAIBv7pR0QgAAwDcvl3RCAAAAAHCZdEIAAEDIsJt0QgAAgJDxnXRCAADAWDKgdEIAAAAhc6J0QgAAQOmzpHRCAACAsfSmdEIAAMB5Nal0QgAAAEJ2q3RCAABACretdEIAAIDS9690QgAAwJo4snRCAAAAY3m0dEIAAEArurZ0QgAAgPP6uHRCAADAuzu7dEIAAACEfL10QgAAQEy9v3RCAACAFP7BdEIAAMDcPsR0QgAAAKV/xnRCAABAbcDIdEIAAIA1Act0QgAAwP1BzXRCAAAAxoLPdEIAAECOw9F0QgAAgFYE1HRCAADAHkXWdEIAAADnhdh0QgAAQK/G2nRCAACAdwfddEIAAMA/SN90QgAAAAiJ4XRCAABA0MnjdEIAAICYCuZ0QgAAwGBL6HRCAAAAKYzqdEIAAEDxzOx0QgAAgLkN73RCAADAgU7xdEIAAABKj/N0QgAAQBLQ9XRCAACA2hD4dEIAAMCiUfp0QgAAAGuS/HRCAABAM9P+dEIAAID7EwF1QgAAwMNUA3VCAAAAjJUFdUIAAEBU1gd1QgAAgBwXCnVCAADA5FcMdUIAAACtmA51QgAAQHXZEHVCAACAPRoTdUIAAMAFWxV1QgAAAM6bF3VCAABAltwZdUIAAIBeHRx1QgAAwCZeHnVCAAAA754gdUIAAEC33yJ1QgAAgH8gJXVCAADAR2EndUIAAAAQoil1QgAAQNjiK3VCAACAoCMudUIAAMBoZDB1QgAAADGlMnVCAABA+eU0dUIAAIDBJjd1QgAAwIlnOXVCAAAAUqg7dUIAAEAa6T11QgAAgOIpQHVCAADAqmpCdUIAAABzq0R1QgAAQDvsRnVCAACAAy1JdUIAAMDLbUt1QgAAAJSuTXVCAABAXO9PdUIAAIAkMFJ1QgAAwOxwVHVCAAAAtbFWdUIAAEB98lh1QgAAgEUzW3VCAADADXRddUIAAADWtF91QgAAQJ71YXVCAACAZjZkdUIAAMAud2Z1QgAAAPe3aHVCAABAv/hqdUIAAICHOW11QgAAwE96b3VCAAAAGLtxdUIAAEDg+3N1QgAAgKg8dnVCAADAcH14dUIAAAA5vnp1QgAAQAH/fHVCAACAyT9/dUIAAMCRgIF1QgAAAFrBg3VCAABAIgKGdUIAAIDqQoh1QgAAwLKDinVCAAAAe8SMdUIAAEBDBY91QgAAgAtGkXVCAADA04aTdUIAAACcx5V1QgAAQGQImHVCAACALEmadUIAAMD0iZx1QgAAAL3KnnVCAABAhQuhdUIAAIBNTKN1QgAAwBWNpXVCAAAA3s2ndUIAAECmDqp1QgAAgG5PrHVCAADANpCudUIAAAD/0LB1QgAAQMcRs3VCAACAj1K1dUIAAMBXk7d1QgAAACDUuXVCAABA6BS8dUIAAICwVb51QgAAwHiWwHVCAAAAQdfCdUIAAEAJGMV1QgAAgNFYx3VCAADAmZnJdUIAAABi2st1QgAAQCobznVCAACA8lvQdUIAAMC6nNJ1QgAAAIPd1HVCAABASx7XdUIAAIATX9l1QgAAwNuf23VCAAAApODddUIAAEBsIeB1QgAAgDRi4nVCAADA/KLkdUIAAADF4+Z1QgAAQI0k6XVCAACAVWXrdUIAAMAdpu11QgAAAObm73VCAABArifydUIAAIB2aPR1QgAAwD6p9nVCAAAAB+r4dUIAAEDPKvt1QgAAgJdr/XVCAADAX6z/dUIAAAAo7QF2QgAAQPAtBHZCAACAuG4GdkIAAMCArwh2QgAAAEnwCnZCAABAETENdkIAAIDZcQ92QgAAwKGyEXZCAAAAavMTdkIAAEAyNBZ2QgAAgPp0GHZCAADAwrUadkIAAACL9hx2QgAAQFM3H3ZCAACAG3ghdkIAAMDjuCN2QgAAAKz5JXZCAABA3fAmdkI=\",\"dtype\":\"float64\",\"shape\":[184]},\"y\":{\"__ndarray__\":\"ABsQIa7nWEDXvoBeuC5ZQKuYSj/halhAlgUTfxROWkAAAAAAAABbQEG5bd+jQFtA7FG4HoWLXECWBRN/FB5dQOxRuB6Fu11AAAAAAADAXEDXvoBeuG5bQGr67IDr8VtAv0aSIFx/XEBVZ7XAHlVbQEG5bd+jAFxAv0aSIFx/WkDXvoBeuD5cQKvOaoE9Sl1A7FG4HoW7XUBVZ7XAHsVfQAAAAAAAMGBAy52ZYLgOYECW6gJeZqZfQFUxlX7C5V5AahX9oZl5X0AAAAAAANBeQBSuR+F6VF9AluoCXmbGX0AAAAAAADBfQDV9dsD1SGBAiskbYGYeYEAAGxAhrudfQEG5bd+jGGBANWJmn0eRYEA1fXbA9UhgQBSTN8DMFGBAq5hKP+HKX0CW6gJeZqZfQAAAAAAAsF9ALQsm/iicX0Bq+uyA69FeQN8Vwf/WM2BAAAAAAAAgX0DsbMg/M1NeQClBf6FH4VxAVUyln3D9XEBBuW3fo3BaQKuzWmCPUlxAKUF/oUdRW0BVTKWfcI1cQBSTN8DMXFxAVUyln3CtXEAA5e/eUZhbQAAbECGuB1xAq7NaYI/CW0BVZ7XAHsVdQAAAAAAA4F1A0/TZAddDXkBVMZV+whVcQOxsyD8z011A0/TZAddzXUBq+uyA68FdQOxRuB6FS1xAavrsgOuBWkBq+uyA6wFbQEG5bd+jUFpAVUyln3A9WEAA5e/eUUhYQKuYSj/hWllAVTGVfsJVWEApQX+hR4FXQL9GkiBcf1dAq7NaYI8CWECrzmqBPTpYQEG5bd+jwFlAQblt36OQWUCrmEo/4XpaQKuYSj/halpAv0aSIFx/W0CrzmqBPSpbQJbqAl5mdltA7FG4HoVrWkC/RpIgXG9XQJYFE38ULldAKUF/oUehVkCWBRN/FM5XQJbqAl5mFllAq5hKP+F6WEBVZ7XAHrVYQFVntcAe1VdAahX9oZlZV0BBnl2+9fhXQOxRuB6FK1hAavrsgOuxWECrzmqBPapYQFVMpZ9wDVpA176AXrjeWkDsUbgehQtbQL9hokEKV1tALQsm/ii8WkDXvoBeuO5aQADl795RyFlAq5hKP+G6XEBVTKWfcC1cQOxsyD8zQ1xA0/TZAdeDXEAA5e/eUWhdQJbqAl5mJl1AlgUTfxRuXEBVMZV+wjVbQOxRuB6FG1tA0/TZAdeDW0Crs1pgj/JbQGoV/aGZeVtAFJM3wMx8XECWBRN/FP5cQClBf6FHIV1AFK5H4Xr0XECrzmqBPXpdQKuzWmCPwl1AAAAAAAAAXkAUkzfAzHxeQKuzWmCPImBA3xXB/9aDYEDLgok/CvdgQFVntcAeFWFANX12wPV4YUAgzy7femRhQAw89x6uf2FAIM8u33qUYUBVZ7XAHvVhQKuYSj/h6mFAdjbkn5mhYUBBuW3fo8hhQBSTN8DM9GFAy52ZYLieYkDsbMg/M4NjQGr67IDrIWNA4DDRIIUzY0CKyRtgZm5jQL9GkiBcn2JAQblt36PIYUA1fXbA9UhiQEG5bd+jAGJASRCugMIFYkA1YmafR6FiQEG5bd+jyGJAAAAAAACwYkAgzy7feoxjQL9GkiBcr2NAAAAAAACwY0DgMNEghftjQHY25J+ZgWRAIeo+ACnUY0Ah6j4AKfxjQCDPLt96/GJA3xXB/9ZDY0B2NuSfmWljQAw89x6un2NAAAAAAACIY0B2NuSfmWFkQAAAAAAAkGVAVUyln3DVZUAUkzfAzERlQMuCiT8K32VAdjbkn5lhZUDfFcH/1itlQMuCiT8Kv2VA9MMI4VHgZUC/RpIgXCdlQAAAAAAA4GVAq5hKP+EiZkDLnZlguE5mQPTDCOFRcGVAAAAAAAAQZEBVZ7XAHo1jQEkQroDCjWVAAAAAAADwZUDLnZlguAZmQL9GkiBcf2ZAQblt36NAZkCWBRN/FJ5kQDV9dsD1+GRANX12wPX4ZEA=\",\"dtype\":\"float64\",\"shape\":[184]}},\"selected\":{\"id\":\"2882\",\"type\":\"Selection\"},\"selection_policy\":{\"id\":\"2883\",\"type\":\"UnionRenderers\"}},\"id\":\"2815\",\"type\":\"ColumnDataSource\"},{\"attributes\":{\"base\":24,\"mantissas\":[1,2,4,6,8,12],\"max_interval\":43200000.0,\"min_interval\":3600000.0,\"num_minor_ticks\":0},\"id\":\"2872\",\"type\":\"AdaptiveTicker\"},{\"attributes\":{\"days\":[1,15]},\"id\":\"2876\",\"type\":\"DaysTicker\"},{\"attributes\":{},\"id\":\"2788\",\"type\":\"LinearScale\"},{\"attributes\":{\"formatter\":{\"id\":\"2868\",\"type\":\"DatetimeTickFormatter\"},\"plot\":{\"id\":\"2781\",\"subtype\":\"Figure\",\"type\":\"Plot\"},\"ticker\":{\"id\":\"2791\",\"type\":\"DatetimeTicker\"}},\"id\":\"2790\",\"type\":\"DatetimeAxis\"},{\"attributes\":{\"num_minor_ticks\":5,\"tickers\":[{\"id\":\"2870\",\"type\":\"AdaptiveTicker\"},{\"id\":\"2871\",\"type\":\"AdaptiveTicker\"},{\"id\":\"2872\",\"type\":\"AdaptiveTicker\"},{\"id\":\"2873\",\"type\":\"DaysTicker\"},{\"id\":\"2874\",\"type\":\"DaysTicker\"},{\"id\":\"2875\",\"type\":\"DaysTicker\"},{\"id\":\"2876\",\"type\":\"DaysTicker\"},{\"id\":\"2877\",\"type\":\"MonthsTicker\"},{\"id\":\"2878\",\"type\":\"MonthsTicker\"},{\"id\":\"2879\",\"type\":\"MonthsTicker\"},{\"id\":\"2880\",\"type\":\"MonthsTicker\"},{\"id\":\"2881\",\"type\":\"YearsTicker\"}]},\"id\":\"2791\",\"type\":\"DatetimeTicker\"},{\"attributes\":{\"plot\":{\"id\":\"2781\",\"subtype\":\"Figure\",\"type\":\"Plot\"},\"ticker\":{\"id\":\"2791\",\"type\":\"DatetimeTicker\"}},\"id\":\"2794\",\"type\":\"Grid\"},{\"attributes\":{\"formatter\":{\"id\":\"2866\",\"type\":\"BasicTickFormatter\"},\"plot\":{\"id\":\"2781\",\"subtype\":\"Figure\",\"type\":\"Plot\"},\"ticker\":{\"id\":\"2796\",\"type\":\"BasicTicker\"}},\"id\":\"2795\",\"type\":\"LinearAxis\"},{\"attributes\":{\"data_source\":{\"id\":\"2815\",\"type\":\"ColumnDataSource\"},\"glyph\":{\"id\":\"2816\",\"type\":\"Line\"},\"hover_glyph\":null,\"muted_glyph\":null,\"nonselection_glyph\":{\"id\":\"2817\",\"type\":\"Line\"},\"selection_glyph\":null,\"view\":{\"id\":\"2819\",\"type\":\"CDSView\"}},\"id\":\"2818\",\"type\":\"GlyphRenderer\"},{\"attributes\":{\"days\":[1,4,7,10,13,16,19,22,25,28]},\"id\":\"2874\",\"type\":\"DaysTicker\"},{\"attributes\":{\"mantissas\":[1,2,5],\"max_interval\":500.0,\"num_minor_ticks\":0},\"id\":\"2870\",\"type\":\"AdaptiveTicker\"},{\"attributes\":{},\"id\":\"2796\",\"type\":\"BasicTicker\"},{\"attributes\":{\"line_alpha\":0.1,\"line_color\":\"#1f77b4\",\"x\":{\"field\":\"x\"},\"y\":{\"field\":\"y\"}},\"id\":\"2817\",\"type\":\"Line\"},{\"attributes\":{\"dimension\":1,\"plot\":{\"id\":\"2781\",\"subtype\":\"Figure\",\"type\":\"Plot\"},\"ticker\":{\"id\":\"2796\",\"type\":\"BasicTicker\"}},\"id\":\"2799\",\"type\":\"Grid\"},{\"attributes\":{\"source\":{\"id\":\"2815\",\"type\":\"ColumnDataSource\"}},\"id\":\"2819\",\"type\":\"CDSView\"},{\"attributes\":{},\"id\":\"2881\",\"type\":\"YearsTicker\"},{\"attributes\":{},\"id\":\"2866\",\"type\":\"BasicTickFormatter\"},{\"attributes\":{\"months\":[0,6]},\"id\":\"2880\",\"type\":\"MonthsTicker\"},{\"attributes\":{\"plot\":null,\"text\":\"\"},\"id\":\"2864\",\"type\":\"Title\"},{\"attributes\":{\"line_alpha\":0.5,\"line_color\":\"navy\",\"x\":{\"field\":\"x\"},\"y\":{\"field\":\"y\"}},\"id\":\"2816\",\"type\":\"Line\"},{\"attributes\":{},\"id\":\"2800\",\"type\":\"PanTool\"},{\"attributes\":{\"months\":[0,4,8]},\"id\":\"2879\",\"type\":\"MonthsTicker\"},{\"attributes\":{},\"id\":\"2801\",\"type\":\"WheelZoomTool\"},{\"attributes\":{\"months\":[0,2,4,6,8,10]},\"id\":\"2878\",\"type\":\"MonthsTicker\"},{\"attributes\":{},\"id\":\"2868\",\"type\":\"DatetimeTickFormatter\"},{\"attributes\":{\"overlay\":{\"id\":\"2808\",\"type\":\"BoxAnnotation\"}},\"id\":\"2802\",\"type\":\"BoxZoomTool\"},{\"attributes\":{},\"id\":\"2882\",\"type\":\"Selection\"},{\"attributes\":{\"months\":[0,1,2,3,4,5,6,7,8,9,10,11]},\"id\":\"2877\",\"type\":\"MonthsTicker\"},{\"attributes\":{},\"id\":\"2803\",\"type\":\"SaveTool\"},{\"attributes\":{\"days\":[1,2,3,4,5,6,7,8,9,10,11,12,13,14,15,16,17,18,19,20,21,22,23,24,25,26,27,28,29,30,31]},\"id\":\"2873\",\"type\":\"DaysTicker\"},{\"attributes\":{},\"id\":\"2883\",\"type\":\"UnionRenderers\"},{\"attributes\":{},\"id\":\"2804\",\"type\":\"ResetTool\"},{\"attributes\":{},\"id\":\"2805\",\"type\":\"HelpTool\"},{\"attributes\":{\"callback\":null},\"id\":\"2782\",\"type\":\"DataRange1d\"},{\"attributes\":{\"days\":[1,8,15,22]},\"id\":\"2875\",\"type\":\"DaysTicker\"}],\"root_ids\":[\"2781\"]},\"title\":\"Bokeh Application\",\"version\":\"1.0.4\"}}';\n",
       "          var render_items = [{\"docid\":\"3017a497-e91a-4929-b4dd-0949abaf8f1f\",\"roots\":{\"2781\":\"67fbdfac-cba3-476a-8ebb-3fd28a6beccc\"}}];\n",
       "          root.Bokeh.embed.embed_items(docs_json, render_items);\n",
       "        \n",
       "          }\n",
       "          if (root.Bokeh !== undefined) {\n",
       "            embed_document(root);\n",
       "          } else {\n",
       "            var attempts = 0;\n",
       "            var timer = setInterval(function(root) {\n",
       "              if (root.Bokeh !== undefined) {\n",
       "                clearInterval(timer);\n",
       "                embed_document(root);\n",
       "              } else {\n",
       "                attempts++;\n",
       "                if (attempts > 100) {\n",
       "                  clearInterval(timer);\n",
       "                  console.log(\"Bokeh: ERROR: Unable to run BokehJS code because BokehJS library is missing\");\n",
       "                }\n",
       "              }\n",
       "            }, 10, root)\n",
       "          }\n",
       "        })(window);\n",
       "      });\n",
       "    };\n",
       "    if (document.readyState != \"loading\") fn();\n",
       "    else document.addEventListener(\"DOMContentLoaded\", fn);\n",
       "  })();\n",
       "</script>\n",
       "\n",
       "<div class=\"bk-root\" id=\"67fbdfac-cba3-476a-8ebb-3fd28a6beccc\" data-root-id=\"2781\"></div>\n",
       "\n",
       "</body>\n",
       "</html>"
      ],
      "text/plain": [
       "<IPython.core.display.HTML object>"
      ]
     },
     "execution_count": 53,
     "metadata": {},
     "output_type": "execute_result"
    }
   ],
   "source": [
    "# 제대로 동작하는지 확인?\n",
    "\n",
    "from IPython.display import HTML\n",
    "HTML(template.render(script=script, div=div))"
   ]
  },
  {
   "cell_type": "code",
   "execution_count": 56,
   "metadata": {},
   "outputs": [
    {
     "data": {
      "text/plain": [
       "True"
      ]
     },
     "execution_count": 56,
     "metadata": {},
     "output_type": "execute_result"
    }
   ],
   "source": [
    "with open('a.html', 'w') as f:\n",
    "    f.write(template.render(script=script, div=div))\n",
    "\n",
    "# 아무것도 안나오는데?\n",
    "import webbrowser\n",
    "webbrowser.open('a.html')"
   ]
  },
  {
   "cell_type": "code",
   "execution_count": null,
   "metadata": {},
   "outputs": [],
   "source": []
  },
  {
   "cell_type": "code",
   "execution_count": null,
   "metadata": {},
   "outputs": [],
   "source": []
  }
 ],
 "metadata": {
  "kernelspec": {
   "display_name": "Python 3",
   "language": "python",
   "name": "python3"
  },
  "language_info": {
   "codemirror_mode": {
    "name": "ipython",
    "version": 3
   },
   "file_extension": ".py",
   "mimetype": "text/x-python",
   "name": "python",
   "nbconvert_exporter": "python",
   "pygments_lexer": "ipython3",
   "version": "3.7.3"
  }
 },
 "nbformat": 4,
 "nbformat_minor": 2
}
