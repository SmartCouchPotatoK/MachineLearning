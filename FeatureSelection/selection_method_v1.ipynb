{
 "cells": [
  {
   "cell_type": "code",
   "execution_count": 18,
   "metadata": {},
   "outputs": [
    {
     "data": {
      "text/plain": [
       "((1797, 64), (1797,))"
      ]
     },
     "execution_count": 18,
     "metadata": {},
     "output_type": "execute_result"
    }
   ],
   "source": [
    "import numpy as np\n",
    "import pandas as pd\n",
    "from sklearn.datasets import load_digits\n",
    "from sklearn.feature_selection import SelectKBest, chi2\n",
    "X, y = load_digits(return_X_y=True)\n",
    "X.shape, y.shape"
   ]
  },
  {
   "cell_type": "code",
   "execution_count": 20,
   "metadata": {},
   "outputs": [
    {
     "data": {
      "text/plain": [
       "array([0, 1, 2, 3, 4, 5, 6, 7, 8, 9])"
      ]
     },
     "execution_count": 20,
     "metadata": {},
     "output_type": "execute_result"
    }
   ],
   "source": [
    "np.unique(y)"
   ]
  },
  {
   "cell_type": "code",
   "execution_count": 21,
   "metadata": {},
   "outputs": [
    {
     "data": {
      "text/plain": [
       "(1797, 20)"
      ]
     },
     "execution_count": 21,
     "metadata": {},
     "output_type": "execute_result"
    }
   ],
   "source": [
    "X_new = SelectKBest(chi2, k=20).fit_transform(X, y)\n",
    "X_new.shape"
   ]
  },
  {
   "cell_type": "code",
   "execution_count": 22,
   "metadata": {},
   "outputs": [
    {
     "data": {
      "text/plain": [
       "array([[ 1.,  0., 15., ...,  6.,  0.,  0.],\n",
       "       [ 5.,  0.,  9., ...,  0., 10.,  0.],\n",
       "       [12.,  0., 14., ...,  0., 16.,  9.],\n",
       "       ...,\n",
       "       [ 1.,  0.,  2., ...,  2.,  6.,  0.],\n",
       "       [ 0.,  0., 15., ...,  5., 12.,  0.],\n",
       "       [ 1.,  0.,  1., ...,  8., 12.,  1.]])"
      ]
     },
     "execution_count": 22,
     "metadata": {},
     "output_type": "execute_result"
    }
   ],
   "source": [
    "X_new"
   ]
  },
  {
   "cell_type": "code",
   "execution_count": 25,
   "metadata": {},
   "outputs": [
    {
     "data": {
      "text/plain": [
       "(array([          nan,  811.90700411, 3501.28249552,  698.9252572 ,\n",
       "         438.52969882, 3879.81925999, 3969.45823205, 1193.5608181 ,\n",
       "          24.79521396, 2953.83108764, 2583.65198939,  388.24205944,\n",
       "         824.69094853, 3676.48924765, 1983.5796061 ,  597.24198237,\n",
       "           8.95886124, 1924.21690377, 2409.27140681, 3556.31594594,\n",
       "        4871.94194551, 4782.19921618, 2155.17378998,  376.76583333,\n",
       "           7.90090158, 2471.82418401, 4515.48149826, 2986.64314847,\n",
       "        3724.09567634, 3208.64686641, 5138.07412439,   35.71270718,\n",
       "                  nan, 5688.25079535, 5262.46646904, 3165.0605867 ,\n",
       "        3231.63943369, 2532.99695611, 3288.81403655,           nan,\n",
       "         142.85082873, 3863.85787901, 6416.0867248 , 5448.25154235,\n",
       "        4079.73153383, 2134.02540236, 4486.34097862,  313.53898127,\n",
       "          70.39927392,  449.72327313, 2801.97224468, 1527.54519627,\n",
       "        1653.15892311, 3073.99803898, 5251.21748723,  683.88227339,\n",
       "           9.15254237,  851.06791492, 3800.2473108 ,  730.92975659,\n",
       "        1859.53966338, 4379.2250408 , 5059.00551511, 2281.32864013]),\n",
       " array([            nan, 5.81310493e-169, 0.00000000e+000, 1.17740541e-144,\n",
       "        8.11314242e-089, 0.00000000e+000, 0.00000000e+000, 2.97727113e-251,\n",
       "        3.20626273e-003, 0.00000000e+000, 0.00000000e+000, 4.41344943e-078,\n",
       "        1.02825052e-171, 0.00000000e+000, 0.00000000e+000, 8.18335060e-123,\n",
       "        4.41080315e-001, 0.00000000e+000, 0.00000000e+000, 0.00000000e+000,\n",
       "        0.00000000e+000, 0.00000000e+000, 0.00000000e+000, 1.23435651e-075,\n",
       "        5.44163062e-001, 0.00000000e+000, 0.00000000e+000, 0.00000000e+000,\n",
       "        0.00000000e+000, 0.00000000e+000, 0.00000000e+000, 4.45801029e-005,\n",
       "                    nan, 0.00000000e+000, 0.00000000e+000, 0.00000000e+000,\n",
       "        0.00000000e+000, 0.00000000e+000, 0.00000000e+000,             nan,\n",
       "        2.65875300e-026, 0.00000000e+000, 0.00000000e+000, 0.00000000e+000,\n",
       "        0.00000000e+000, 0.00000000e+000, 0.00000000e+000, 3.49452723e-062,\n",
       "        1.27145348e-011, 3.28604761e-091, 0.00000000e+000, 0.00000000e+000,\n",
       "        0.00000000e+000, 0.00000000e+000, 0.00000000e+000, 2.01600539e-141,\n",
       "        4.23314114e-001, 2.14859356e-177, 0.00000000e+000, 1.54562173e-151,\n",
       "        0.00000000e+000, 0.00000000e+000, 0.00000000e+000, 0.00000000e+000]))"
      ]
     },
     "execution_count": 25,
     "metadata": {},
     "output_type": "execute_result"
    }
   ],
   "source": [
    "chi_scores = chi2(X,y)\n",
    "chi_scores"
   ]
  },
  {
   "cell_type": "markdown",
   "metadata": {},
   "source": [
    "__★ Chi-square method__\n",
    "\n",
    "> * Chi-square를 통한 feature 선택방법은 x,y가 범주형 변수일때 사용가능하다.\n",
    "> * 기대값이 5 이하인 경우에는 오류를 범할 수 있다. \n",
    "> * X가 연속형인 경우는? ANOVA for Feature selection을 써봐라?\n",
    "\n",
    "* URL : https://towardsdatascience.com/chi-square-test-for-feature-selection-in-machine-learning-206b1f0b8223"
   ]
  },
  {
   "cell_type": "code",
   "execution_count": null,
   "metadata": {},
   "outputs": [],
   "source": []
  },
  {
   "cell_type": "code",
   "execution_count": null,
   "metadata": {},
   "outputs": [],
   "source": []
  },
  {
   "cell_type": "code",
   "execution_count": null,
   "metadata": {},
   "outputs": [],
   "source": []
  },
  {
   "cell_type": "code",
   "execution_count": null,
   "metadata": {},
   "outputs": [],
   "source": []
  }
 ],
 "metadata": {
  "kernelspec": {
   "display_name": "Python 3",
   "language": "python",
   "name": "python3"
  },
  "language_info": {
   "codemirror_mode": {
    "name": "ipython",
    "version": 3
   },
   "file_extension": ".py",
   "mimetype": "text/x-python",
   "name": "python",
   "nbconvert_exporter": "python",
   "pygments_lexer": "ipython3",
   "version": "3.7.3"
  }
 },
 "nbformat": 4,
 "nbformat_minor": 2
}
