{
 "cells": [
  {
   "cell_type": "markdown",
   "metadata": {},
   "source": [
    "웹에서 쉽게 마크다운을 테스트해볼 수 있는 사이트  \n",
    "[Markdown Test](https://dillinger.io/)"
   ]
  },
  {
   "cell_type": "markdown",
   "metadata": {},
   "source": [
    "큰제목\n",
    "====\n",
    "작은제목\n",
    "----"
   ]
  },
  {
   "cell_type": "markdown",
   "metadata": {},
   "source": [
    "# 제목1\n",
    "## 제목2\n",
    "### 제목3\n",
    "#### 제목4\n",
    "##### 제목5\n",
    "###### 제목6"
   ]
  },
  {
   "cell_type": "markdown",
   "metadata": {},
   "source": [
    "첫째줄<br>\n",
    "둘째줄"
   ]
  },
  {
   "cell_type": "markdown",
   "metadata": {},
   "source": [
    "첫째줄  \n",
    "둘째줄"
   ]
  },
  {
   "cell_type": "markdown",
   "metadata": {},
   "source": [
    "첫째줄\n",
    "\n",
    "둘째줄"
   ]
  },
  {
   "cell_type": "markdown",
   "metadata": {},
   "source": [
    "인용\n",
    "> 인용문"
   ]
  },
  {
   "cell_type": "markdown",
   "metadata": {},
   "source": [
    "1. 첫째 목록\n",
    "2. 둘째 목록\n",
    "3. 셋째 목록"
   ]
  },
  {
   "cell_type": "markdown",
   "metadata": {},
   "source": [
    "1. 첫째 목록\n",
    "12. 열두 번째 목록\n",
    "514. 오백십사 번째 목록"
   ]
  },
  {
   "cell_type": "markdown",
   "metadata": {},
   "source": [
    "* 순서 없는 목록\n",
    "\t* 순서 없는 목록\n",
    "\t\t* 순서 없는 목록\n",
    "        \n",
    "+ 순서 없는 목록\n",
    "\t+ 순서 없는 목록\n",
    "\t\t+ 순서 없는 목록\n",
    "        \n",
    "- 순서 없는 목록\n",
    "\t- 순서 없는 목록\n",
    "\t\t- 순서 없는 목록"
   ]
  },
  {
   "cell_type": "markdown",
   "metadata": {},
   "source": [
    "* 순서 없는 목록\n",
    "\t+ 순서 없는 목록\n",
    "\t\t- 순서 없는 목록"
   ]
  },
  {
   "cell_type": "markdown",
   "metadata": {},
   "source": [
    "코드블럭 \n",
    "\n",
    "```\n",
    "a = 1\n",
    "b = a + 1\n",
    "```"
   ]
  },
  {
   "cell_type": "markdown",
   "metadata": {},
   "source": [
    "하이퍼링크  \n",
    "[구글링크](https://www.google.com/)"
   ]
  },
  {
   "cell_type": "markdown",
   "metadata": {},
   "source": [
    "이미지링크  \n",
    "![구글로고](https://www.google.com/images/branding/googlelogo/1x/googlelogo_color_272x92dp.png)"
   ]
  },
  {
   "cell_type": "markdown",
   "metadata": {},
   "source": [
    "문자강조  \n",
    "\n",
    "*이탤릭체*\n",
    "_이탤릭체_\n",
    "**굵은글씨**\n",
    "__굵은글씨__\n",
    "++밑줄++\n",
    "~~취소선~~"
   ]
  },
  {
   "cell_type": "markdown",
   "metadata": {},
   "source": [
    "수평선_문단구분  \n",
    "\n",
    "* * *\n",
    "문단1\n",
    "***\n",
    "문단2\n",
    "*****\n",
    "문단3\n",
    "- - -\n",
    "문단4\n",
    "\n",
    "----------------"
   ]
  },
  {
   "cell_type": "code",
   "execution_count": null,
   "metadata": {},
   "outputs": [],
   "source": []
  },
  {
   "cell_type": "code",
   "execution_count": null,
   "metadata": {},
   "outputs": [],
   "source": []
  }
 ],
 "metadata": {
  "kernelspec": {
   "display_name": "Python 3",
   "language": "python",
   "name": "python3"
  },
  "language_info": {
   "codemirror_mode": {
    "name": "ipython",
    "version": 3
   },
   "file_extension": ".py",
   "mimetype": "text/x-python",
   "name": "python",
   "nbconvert_exporter": "python",
   "pygments_lexer": "ipython3",
   "version": "3.7.3"
  }
 },
 "nbformat": 4,
 "nbformat_minor": 2
}
