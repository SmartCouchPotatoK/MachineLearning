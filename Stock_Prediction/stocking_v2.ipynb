{
 "cells": [
  {
   "cell_type": "code",
   "execution_count": 1,
   "metadata": {},
   "outputs": [],
   "source": [
    "import pandas_datareader as pdr\n",
    "\n",
    "# 1번 방법\n",
    "# DataReader API를 통해서 yahoo finance의 주식 종목 데이터를 가져온다.\n",
    "df = pdr.DataReader('005930.KS', 'yahoo')\n",
    "\n",
    "# 2번 방법\n",
    "# get_data_yahoo API를 통해서 yahho finance의 주식 종목 데이터를 가져온다.\n",
    "# df = pdr.get_data_yahoo('주식 종목코드')\n",
    "\n",
    "# 선택적으로 일정 기간동안의 주식 정보를 가져오는 방법입니다.\n",
    "from datetime import datetime\n",
    "start = datetime(2020,6,1)\n",
    "end = datetime(2020,6,15)\n",
    "df = pdr.DataReader('005930.KS', 'yahoo', start, end)\n",
    "df = pdr.get_data_yahoo('005930.KS', start, end)"
   ]
  },
  {
   "cell_type": "code",
   "execution_count": 2,
   "metadata": {},
   "outputs": [],
   "source": [
    "import pandas as pd\n",
    "import pandas_datareader as pdr\n",
    "\n",
    "# 회사명으로 주식 종목 코드를 획득할 수 있도록 하는 함수\n",
    "def get_code(df, name):\n",
    "    code = df.query(\"name=='{}'\".format(name))['code'].to_string(index=False)\n",
    "\n",
    "    # 위와같이 code명을 가져오면 앞에 공백이 붙어있는 상황이 발생하여 앞뒤로 sript() 하여 공백 제거\n",
    "    code = code.strip()\n",
    "    return code\n",
    "\n",
    "# excel 파일을 다운로드하는거와 동시에 pandas에 load하기\n",
    "# 흔히 사용하는 df라는 변수는 data frame을 의미합니다.\n",
    "code_df = pd.read_html('http://kind.krx.co.kr/corpgeneral/corpList.do?method=download', header=0)[0]\n",
    "\n",
    "# data frame정리\n",
    "code_df = code_df[['회사명', '종목코드']]\n",
    "\n",
    "# data frame title 변경 '회사명' = name, 종목코드 = 'code'\n",
    "code_df = code_df.rename(columns={'회사명': 'name', '종목코드': 'code'})\n",
    "\n",
    "# 종목코드는 6자리로 구분되기때문에 0을 채워 6자리로 변경\n",
    "code_df.code = code_df.code.map('{:06d}'.format)\n",
    "\n",
    "# ex) 삼성전자의의 코드를 구해보겠습니다.\n",
    "code = get_code(code_df, '삼성전자')\n",
    "\n",
    "# yahoo의 주식 데이터 종목은 코스피는 .KS, 코스닥은 .KQ가 붙습니다.\n",
    "# 삼성전자의 경우 코스피에 상장되어있기때문에 '종목코드.KS'로 처리하도록 한다.\n",
    "code = code + '.KS'\n",
    "\n",
    "# get_data_yahoo API를 통해서 yahho finance의 주식 종목 데이터를 가져온다.\n",
    "df = pdr.get_data_yahoo(code)"
   ]
  },
  {
   "cell_type": "code",
   "execution_count": 3,
   "metadata": {},
   "outputs": [
    {
     "data": {
      "text/plain": [
       "<matplotlib.axes._subplots.AxesSubplot at 0x1eb921295c0>"
      ]
     },
     "execution_count": 3,
     "metadata": {},
     "output_type": "execute_result"
    },
    {
     "data": {
      "image/png": "[encoded data removed]",
      "text/plain": [
       "<Figure size 432x288 with 1 Axes>"
      ]
     },
     "metadata": {
      "needs_background": "light"
     },
     "output_type": "display_data"
    }
   ],
   "source": [
    "%matplotlib inline\n",
    "\n",
    "import matplotlib.pyplot as plt\n",
    "import seaborn as sns\n",
    "import numpy as np\n",
    "\n",
    "df['Close'].plot()"
   ]
  },
  {
   "cell_type": "code",
   "execution_count": 7,
   "metadata": {},
   "outputs": [],
   "source": [
    "import pandas as pd\n",
    "import pandas_datareader as pdr\n",
    "\n",
    "# 종목 타입에 따라 download url이 다름. 종목코드 뒤에 .KS .KQ등이 입력되어야해서 Download Link 구분 필요\n",
    "stock_type = {\n",
    "    'kospi': 'stockMkt',\n",
    "    'kosdaq': 'kosdaqMkt'\n",
    "}\n",
    "\n",
    "# 회사명으로 주식 종목 코드를 획득할 수 있도록 하는 함수\n",
    "def get_code(df, name):\n",
    "    code = df.query(\"name=='{}'\".format(name))['code'].to_string(index=False)\n",
    "\n",
    "    # 위와같이 code명을 가져오면 앞에 공백이 붙어있는 상황이 발생하여 앞뒤로 sript() 하여 공백 제거\n",
    "    code = code.strip()\n",
    "    return code\n",
    "\n",
    "# download url 조합\n",
    "def get_download_stock(market_type=None):\n",
    "    market_type = stock_type[market_type]\n",
    "    download_link = 'http://kind.krx.co.kr/corpgeneral/corpList.do'\n",
    "    download_link = download_link + '?method=download'\n",
    "    download_link = download_link + '&marketType=' + market_type\n",
    "    \n",
    "    df = pd.read_html(download_link, header=0)[0]\n",
    "    return df;\n",
    "\n",
    "# kospi 종목코드 목록 다운로드\n",
    "def get_download_kospi():\n",
    "    df = get_download_stock('kospi')\n",
    "    df.종목코드 = df.종목코드.map('{:06d}.KS'.format)\n",
    "    return df\n",
    "\n",
    "# kosdaq 종목코드 목록 다운로드\n",
    "def get_download_kosdaq():\n",
    "    df = get_download_stock('kosdaq')\n",
    "    df.종목코드 = df.종목코드.map('{:06d}.KQ'.format)\n",
    "    return df\n",
    "\n",
    "# kospi, kosdaq 종목코드 각각 다운로드\n",
    "kospi_df = get_download_kospi()\n",
    "kosdaq_df = get_download_kosdaq()\n",
    "\n",
    "# data frame merge\n",
    "code_df = pd.concat([kospi_df, kosdaq_df])\n",
    "\n",
    "# data frame정리\n",
    "code_df = code_df[['회사명', '종목코드']]\n",
    "\n",
    "# data frame title 변경 '회사명' = name, 종목코드 = 'code'\n",
    "code_df = code_df.rename(columns={'회사명': 'name', '종목코드': 'code'})\n",
    "\n",
    "\n",
    "comp_list = [\n",
    "    '지트리비앤티',\n",
    "    '카카오',\n",
    "    '에이치엘비파워',\n",
    "]\n",
    "\n",
    "for comp in comp_list:\n",
    "    \n",
    "    # code = get_code(code_df, '삼성전자')\n",
    "    code = get_code(code_df, comp)\n",
    "\n",
    "    # get_data_yahoo API를 통해서 yahho finance의 주식 종목 데이터를 가져온다.\n",
    "    df = pdr.get_data_yahoo(code)\n",
    "    df = df.reset_index()\n",
    "    \n",
    "    df.to_csv('./'+comp+'.csv', \n",
    "          sep=',', \n",
    "          float_format='%.6f', # 2 decimal places\n",
    "          columns=df.columns, # columns to write\n",
    "          index=False) # do not write index"
   ]
  },
  {
   "cell_type": "code",
   "execution_count": 39,
   "metadata": {},
   "outputs": [],
   "source": [
    "# df.to_csv('./삼성전자.csv', \n",
    "#           sep=',', \n",
    "#           float_format='%.6f', # 2 decimal places\n",
    "#           columns=df.columns, # columns to write\n",
    "#           index=False) # do not write index"
   ]
  },
  {
   "cell_type": "code",
   "execution_count": null,
   "metadata": {},
   "outputs": [],
   "source": []
  },
  {
   "cell_type": "code",
   "execution_count": null,
   "metadata": {},
   "outputs": [],
   "source": []
  },
  {
   "cell_type": "code",
   "execution_count": null,
   "metadata": {},
   "outputs": [],
   "source": []
  }
 ],
 "metadata": {
  "kernelspec": {
   "display_name": "Python 3",
   "language": "python",
   "name": "python3"
  },
  "language_info": {
   "codemirror_mode": {
    "name": "ipython",
    "version": 3
   },
   "file_extension": ".py",
   "mimetype": "text/x-python",
   "name": "python",
   "nbconvert_exporter": "python",
   "pygments_lexer": "ipython3",
   "version": "3.7.3"
  }
 },
 "nbformat": 4,
 "nbformat_minor": 2
}
